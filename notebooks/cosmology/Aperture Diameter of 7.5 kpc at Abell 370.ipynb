{
 "cells": [
  {
   "cell_type": "markdown",
   "metadata": {},
   "source": [
    "Determine the transformation of an aperture diameter of 7.5 kpc at the redshift of abell 370 to pixels. First transform the diameter in absolute size (kpc) to apparent size (arcseconds). Then transform apparent size to pixels using WCS."
   ]
  },
  {
   "cell_type": "code",
   "execution_count": 1,
   "metadata": {},
   "outputs": [],
   "source": [
    "import numpy as np \n",
    "\n",
    "from astropy.io import fits\n",
    "from astropy import units as u \n",
    "from astropy import cosmology\n",
    "from astropy.wcs import WCS"
   ]
  },
  {
   "cell_type": "markdown",
   "metadata": {},
   "source": [
    "### Load Data"
   ]
  },
  {
   "cell_type": "code",
   "execution_count": 2,
   "metadata": {},
   "outputs": [],
   "source": [
    "input_data_path = \"https://archive.stsci.edu/pub/hlsp/frontier/abell370/images/hst/v1.0-epoch2/hlsp_frontier_hst_wfc3-30mas-bkgdcor_abell370_f105w_v1.0-epoch2_drz.fits\"\n",
    "\n",
    "hdul = fits.open(input_data_path)\n",
    "hdu = hdul[0]\n",
    "\n",
    "data = hdu.data\n",
    "header = hdu.header\n",
    "wcs = WCS(header)"
   ]
  },
  {
   "cell_type": "markdown",
   "metadata": {},
   "source": [
    "### Given"
   ]
  },
  {
   "cell_type": "code",
   "execution_count": 3,
   "metadata": {},
   "outputs": [],
   "source": [
    "# Given \n",
    "aperture_diameter = (7.5 * u.kpc).to(u.Mpc)"
   ]
  },
  {
   "cell_type": "markdown",
   "metadata": {},
   "source": [
    "NED data for abell 370:\n",
    "\n",
    "http://ned.ipac.caltech.edu/cgi-bin/objsearch?search_type=Obj_id&objid=132527&objname=1&img_stamp=YES&hconst=73.0&omegam=0.27&omegav=0.73&corr_z=1"
   ]
  },
  {
   "cell_type": "code",
   "execution_count": 4,
   "metadata": {},
   "outputs": [
    {
     "data": {
      "text/plain": [
       "'\\nCosmology-Corrected Quantities [Ho =  70.50 km/sec/Mpc, Ωmatter =   0.27, Ωvacuum =   0.73]\\n[Redshift 0.374247 as corrected to the Reference Frame defined by the 3K Microwave Background Radiation]\\nLuminosity Distance        :     2011 Mpc      (m-M) = 41.52 mag\\nAngular-Size Distance      :     1065 Mpc      (m-M) = 40.14 mag\\nCo-Moving Radial Distance  :     1463 Mpc      (m-M) = 40.83 mag\\nCo-Moving Tangential Dist. :     1463 Mpc      (m-M) = 40.83 mag\\nCo-Moving Volume           : 13.1 Gpc^3\\nLight Travel-Time          :    4.073 Gyr\\nAge at Redshift 0.374247   :    9.698 Gyr\\nAge of Universe            :   13.770 Gyr\\nScale (Cosmology Corrected):    5161 pc/arcsec =  5.161 kpc/arcsec = 309.67 kpc/arcmin =  18.58 Mpc/degree\\nSurface Brightness Dimming : Flux Density per Unit Area =  0.28038; Magnitude per Unit Area = 1.381 mag\\n'"
      ]
     },
     "execution_count": 4,
     "metadata": {},
     "output_type": "execute_result"
    }
   ],
   "source": [
    "\"\"\"\n",
    "Cosmology-Corrected Quantities [Ho =  70.50 km/sec/Mpc, Ωmatter =   0.27, Ωvacuum =   0.73]\n",
    "[Redshift 0.374247 as corrected to the Reference Frame defined by the 3K Microwave Background Radiation]\n",
    "Luminosity Distance        :     2011 Mpc      (m-M) = 41.52 mag\n",
    "Angular-Size Distance      :     1065 Mpc      (m-M) = 40.14 mag\n",
    "Co-Moving Radial Distance  :     1463 Mpc      (m-M) = 40.83 mag\n",
    "Co-Moving Tangential Dist. :     1463 Mpc      (m-M) = 40.83 mag\n",
    "Co-Moving Volume           : 13.1 Gpc^3\n",
    "Light Travel-Time          :    4.073 Gyr\n",
    "Age at Redshift 0.374247   :    9.698 Gyr\n",
    "Age of Universe            :   13.770 Gyr\n",
    "Scale (Cosmology Corrected):    5161 pc/arcsec =  5.161 kpc/arcsec = 309.67 kpc/arcmin =  18.58 Mpc/degree\n",
    "Surface Brightness Dimming : Flux Density per Unit Area =  0.28038; Magnitude per Unit Area = 1.381 mag\n",
    "\"\"\""
   ]
  },
  {
   "cell_type": "code",
   "execution_count": 5,
   "metadata": {},
   "outputs": [],
   "source": [
    "abell370_z = 0.375000\n",
    "abell370_distance = 1463 * u.Mpc # Comoving"
   ]
  },
  {
   "cell_type": "markdown",
   "metadata": {},
   "source": [
    "### Equations"
   ]
  },
  {
   "cell_type": "markdown",
   "metadata": {},
   "source": [
    "\\begin{align}\n",
    "\\theta = \\frac{(z+1) * Diameter}{Distance_{Comoving}} =  \\frac{Diameter}{Distance_{Angular Diameter} } \\\\\n",
    "\\end{align}"
   ]
  },
  {
   "cell_type": "markdown",
   "metadata": {},
   "source": [
    "### Compute angular diameter distance"
   ]
  },
  {
   "cell_type": "code",
   "execution_count": 6,
   "metadata": {},
   "outputs": [],
   "source": [
    "def compute_angular_diameter_distance(d, z):\n",
    "    return d/(z+1)"
   ]
  },
  {
   "cell_type": "code",
   "execution_count": 7,
   "metadata": {},
   "outputs": [
    {
     "data": {
      "text/latex": [
       "$1064 \\; \\mathrm{Mpc}$"
      ],
      "text/plain": [
       "<Quantity 1064. Mpc>"
      ]
     },
     "execution_count": 7,
     "metadata": {},
     "output_type": "execute_result"
    }
   ],
   "source": [
    "angular_diameter_distance = compute_angular_diameter_distance(abell370_distance, abell370_z)\n",
    "angular_diameter_distance"
   ]
  },
  {
   "cell_type": "code",
   "execution_count": 8,
   "metadata": {},
   "outputs": [
    {
     "data": {
      "text/latex": [
       "$1068.4053 \\; \\mathrm{Mpc}$"
      ],
      "text/plain": [
       "<Quantity 1068.40525789 Mpc>"
      ]
     },
     "execution_count": 8,
     "metadata": {},
     "output_type": "execute_result"
    }
   ],
   "source": [
    "# check astropy cosmology\n",
    "cosmology.WMAP5.angular_diameter_distance(abell370_z)"
   ]
  },
  {
   "cell_type": "markdown",
   "metadata": {},
   "source": [
    "### Find angular diameter"
   ]
  },
  {
   "cell_type": "code",
   "execution_count": 9,
   "metadata": {},
   "outputs": [
    {
     "data": {
      "text/latex": [
       "$7.0488722 \\times 10^{-6} \\; \\mathrm{rad}$"
      ],
      "text/plain": [
       "<Quantity 7.04887218e-06 rad>"
      ]
     },
     "execution_count": 9,
     "metadata": {},
     "output_type": "execute_result"
    }
   ],
   "source": [
    "angular_diameter = np.tan((aperture_diameter / angular_diameter_distance).value) * u.rad \n",
    "angular_diameter "
   ]
  },
  {
   "cell_type": "code",
   "execution_count": 10,
   "metadata": {},
   "outputs": [
    {
     "data": {
      "text/latex": [
       "$7.0198082 \\times 10^{-6} \\; \\mathrm{rad}$"
      ],
      "text/plain": [
       "<Quantity 7.01980821e-06 rad>"
      ]
     },
     "execution_count": 10,
     "metadata": {},
     "output_type": "execute_result"
    }
   ],
   "source": [
    "# check astropy cosmology\n",
    "(cosmology.WMAP5.arcsec_per_kpc_proper(abell370_z) * aperture_diameter.to('kpc')).to('rad')"
   ]
  },
  {
   "cell_type": "markdown",
   "metadata": {},
   "source": [
    "### Convert to arcsec"
   ]
  },
  {
   "cell_type": "code",
   "execution_count": 11,
   "metadata": {},
   "outputs": [
    {
     "data": {
      "text/latex": [
       "$1.4539343 \\; \\mathrm{{}^{\\prime\\prime}}$"
      ],
      "text/plain": [
       "<Quantity 1.45393425 arcsec>"
      ]
     },
     "execution_count": 11,
     "metadata": {},
     "output_type": "execute_result"
    }
   ],
   "source": [
    "angular_diameter = angular_diameter.to(\"arcsec\")\n",
    "angular_diameter"
   ]
  },
  {
   "cell_type": "markdown",
   "metadata": {},
   "source": [
    "### Find Pixel Size "
   ]
  },
  {
   "cell_type": "markdown",
   "metadata": {},
   "source": [
    "In this section we convert the angular size into pixel size. The way we do this is by adding the angular size to the `CRVAL` of the WCS and then converting that world coordinate to pixel values. After getting the new pixel values we subtract the `CRPIX` values to find the difference (angular size). Because RA-DEC is an equatorial coordinate system, I have decided its best to add the angular size to the Dec component of the WCS CRVAL (Dec axis is a great circle). It looks like the image `CRVAL` is sufficiently away from the pols of the celestial sphere, so no need to worry about loops around +/- 90 degrees.  "
   ]
  },
  {
   "cell_type": "code",
   "execution_count": 12,
   "metadata": {},
   "outputs": [
    {
     "name": "stdout",
     "output_type": "stream",
     "text": [
      "39.96301 deg , -1.5882933 deg\n"
     ]
    }
   ],
   "source": [
    "# Load center pixel from data's WCS \n",
    "\n",
    "ra_0 = wcs.wcs.crval[0] * u.Unit(wcs.wcs.cunit[0])\n",
    "dec_0 = wcs.wcs.crval[1] * u.Unit(wcs.wcs.cunit[1])\n",
    "\n",
    "print(ra_0, \",\",  dec_0)"
   ]
  },
  {
   "cell_type": "code",
   "execution_count": 13,
   "metadata": {},
   "outputs": [
    {
     "name": "stdout",
     "output_type": "stream",
     "text": [
      "39.96301 deg , -1.5878894293737262 deg\n"
     ]
    }
   ],
   "source": [
    "# Add angular_diameter to center Dec value \n",
    "\n",
    "ra_1  = ra_0\n",
    "dec_1 = dec_0 + angular_diameter\n",
    "\n",
    "print(ra_1, \",\",  dec_1)"
   ]
  },
  {
   "cell_type": "code",
   "execution_count": 14,
   "metadata": {},
   "outputs": [
    {
     "data": {
      "text/plain": [
       "array([[4800.        , 6648.46447515]])"
      ]
     },
     "execution_count": 14,
     "metadata": {},
     "output_type": "execute_result"
    }
   ],
   "source": [
    "# Convert ra_1, dec_1 into pixels\n",
    "\n",
    "world = np.array([[ra_1.value, dec_1.value],], dtype=np.float64) * u.deg\n",
    "pixcrd = wcs.wcs_world2pix(world, 1)\n",
    "\n",
    "pixcrd"
   ]
  },
  {
   "cell_type": "code",
   "execution_count": 15,
   "metadata": {},
   "outputs": [
    {
     "data": {
      "text/plain": [
       "array([4800., 6600.])"
      ]
     },
     "execution_count": 15,
     "metadata": {},
     "output_type": "execute_result"
    }
   ],
   "source": [
    "# Look at the center pixel values\n",
    "wcs.wcs.crpix"
   ]
  },
  {
   "cell_type": "code",
   "execution_count": 16,
   "metadata": {},
   "outputs": [
    {
     "data": {
      "text/plain": [
       "48.46447515439377"
      ]
     },
     "execution_count": 16,
     "metadata": {},
     "output_type": "execute_result"
    }
   ],
   "source": [
    "# Find the difference b/w the center pixel and the angular offset pixel:\n",
    "pixel_diff =  pixcrd - wcs.wcs.crpix \n",
    "assert abs(pixel_diff[0,0]) < 1e-10\n",
    "pixel_diff[0,1]"
   ]
  },
  {
   "cell_type": "code",
   "execution_count": 17,
   "metadata": {},
   "outputs": [
    {
     "data": {
      "text/plain": [
       "49"
      ]
     },
     "execution_count": 17,
     "metadata": {},
     "output_type": "execute_result"
    }
   ],
   "source": [
    "# Find ceiling of pixel diff to conclude pixel size\n",
    "pixel_size = int(np.ceil(pixel_diff[0,1]))\n",
    "\n",
    "pixel_size"
   ]
  },
  {
   "cell_type": "code",
   "execution_count": null,
   "metadata": {},
   "outputs": [],
   "source": []
  }
 ],
 "metadata": {
  "kernelspec": {
   "display_name": "Python 3",
   "language": "python",
   "name": "python3"
  },
  "language_info": {
   "codemirror_mode": {
    "name": "ipython",
    "version": 3
   },
   "file_extension": ".py",
   "mimetype": "text/x-python",
   "name": "python",
   "nbconvert_exporter": "python",
   "pygments_lexer": "ipython3",
   "version": "3.7.3"
  }
 },
 "nbformat": 4,
 "nbformat_minor": 4
}
