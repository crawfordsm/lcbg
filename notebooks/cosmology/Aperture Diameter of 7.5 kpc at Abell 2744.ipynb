{
 "cells": [
  {
   "cell_type": "markdown",
   "metadata": {},
   "source": [
    "Determine the transformation of an aperture diameter of 7.5 kpc at the redshift of abell 370 to pixels. First transform the diameter in absolute size (kpc) to apparent size (arcseconds). Then transform apparent size to pixels using WCS."
   ]
  },
  {
   "cell_type": "code",
   "execution_count": 2,
   "metadata": {},
   "outputs": [],
   "source": [
    "import numpy as np \n",
    "\n",
    "from astropy.io import fits\n",
    "from astropy import units as u \n",
    "from astropy import cosmology\n",
    "from astropy.wcs import WCS"
   ]
  },
  {
   "cell_type": "markdown",
   "metadata": {},
   "source": [
    "### Load Data"
   ]
  },
  {
   "cell_type": "code",
   "execution_count": 73,
   "metadata": {},
   "outputs": [],
   "source": [
    "input_data_path = \"https://archive.stsci.edu/pub/hlsp/frontier/abell2744/images/hst/v1.0-epoch1/hlsp_frontier_hst_wfc3-60mas_abell2744_f105w_v1.0_drz.fits\"\n",
    "\n",
    "hdul = fits.open(input_data_path)\n",
    "hdu = hdul[0]\n",
    "\n",
    "data = hdu.data\n",
    "header = hdu.header\n",
    "wcs = WCS(header)"
   ]
  },
  {
   "cell_type": "markdown",
   "metadata": {},
   "source": [
    "### Given"
   ]
  },
  {
   "cell_type": "code",
   "execution_count": 74,
   "metadata": {},
   "outputs": [],
   "source": [
    "# Given \n",
    "aperture_diameter = (7.5 * u.kpc).to(u.Mpc)"
   ]
  },
  {
   "cell_type": "markdown",
   "metadata": {},
   "source": [
    "NED data for abell 2744:\n",
    "\n",
    "http://ned.ipac.caltech.edu/byname?objname=Abell%202744&hconst=70.0&omegam=0.279&omegav=0.721&wmap=3&corr_z=1"
   ]
  },
  {
   "cell_type": "code",
   "execution_count": 75,
   "metadata": {},
   "outputs": [],
   "source": [
    "\"\"\"\n",
    "Cosmology-Corrected Quantities [H0 = 70.0 km/sec/Mpc, Ωmatter = 0.279, Ωvacuum = 0.721]\n",
    "[Redshift 0.307055 as corrected to the Reference Frame defined by the 3K CMB]\n",
    "Type\tValues\n",
    "Luminosity Distance\t1.6e+03 Mpc (m-M) = 41.02 mag\n",
    "Angular-Size Distance\t938 (m-M) = 39.86 mag\n",
    "Co-Moving Radial Distance\t1.23e+03 (m-M) = 40.44 mag\n",
    "Co-Moving Tangential Distance\t1.23e+03 (m-M) = 40.44 mag\n",
    "Co-Moving Volume\t7.72 Gpc^3\n",
    "Light Travel-Time\t3.499 Gyr\n",
    "Age at Redshift 0.307055\t10.245 Gyr\n",
    "Age of Universe\t13.744 Gyr\n",
    "Scale (Cosmology Corrected)\t4548 pc/arcsec = 4.548 kpc/arcsec = 272.85 kpc/arcmin = 16.37 Mpc/degree\n",
    "Surface Brightness Dimming\tFlux Density per Unit Area = 0.34263; Magnitude per Unit Area = 1.163 mag\n",
    "\"\"\";"
   ]
  },
  {
   "cell_type": "code",
   "execution_count": 76,
   "metadata": {},
   "outputs": [],
   "source": [
    "abell2744_z =  0.30800\n",
    "abell2744_distance = 1230 * u.Mpc # Comoving"
   ]
  },
  {
   "cell_type": "markdown",
   "metadata": {},
   "source": [
    "### Equations"
   ]
  },
  {
   "cell_type": "markdown",
   "metadata": {},
   "source": [
    "\\begin{align}\n",
    "\\theta = \\frac{(z+1) * Diameter}{Distance_{Comoving}} =  \\frac{Diameter}{Distance_{Angular Diameter} } \\\\\n",
    "\\end{align}"
   ]
  },
  {
   "cell_type": "markdown",
   "metadata": {},
   "source": [
    "### Compute angular diameter distance"
   ]
  },
  {
   "cell_type": "code",
   "execution_count": 77,
   "metadata": {},
   "outputs": [],
   "source": [
    "def compute_angular_diameter_distance(d, z):\n",
    "    return d/(z+1)"
   ]
  },
  {
   "cell_type": "code",
   "execution_count": 78,
   "metadata": {},
   "outputs": [
    {
     "data": {
      "text/latex": [
       "$940.36697 \\; \\mathrm{Mpc}$"
      ],
      "text/plain": [
       "<Quantity 940.36697248 Mpc>"
      ]
     },
     "execution_count": 78,
     "metadata": {},
     "output_type": "execute_result"
    }
   ],
   "source": [
    "angular_diameter_distance = compute_angular_diameter_distance(abell2744_distance, abell2744_z)\n",
    "angular_diameter_distance"
   ]
  },
  {
   "cell_type": "code",
   "execution_count": 79,
   "metadata": {},
   "outputs": [
    {
     "data": {
      "text/latex": [
       "$937.71585 \\; \\mathrm{Mpc}$"
      ],
      "text/plain": [
       "<Quantity 937.71584752 Mpc>"
      ]
     },
     "execution_count": 79,
     "metadata": {},
     "output_type": "execute_result"
    }
   ],
   "source": [
    "# check astropy cosmology\n",
    "cosmology.WMAP5.angular_diameter_distance(abell2744_z)"
   ]
  },
  {
   "cell_type": "markdown",
   "metadata": {},
   "source": [
    "### Find angular diameter"
   ]
  },
  {
   "cell_type": "code",
   "execution_count": 86,
   "metadata": {},
   "outputs": [
    {
     "data": {
      "text/latex": [
       "$7.9756098 \\times 10^{-6} \\; \\mathrm{rad}$"
      ],
      "text/plain": [
       "<Quantity 7.97560976e-06 rad>"
      ]
     },
     "execution_count": 86,
     "metadata": {},
     "output_type": "execute_result"
    }
   ],
   "source": [
    "angular_diameter = np.tan((aperture_diameter / angular_diameter_distance).value) * u.rad \n",
    "angular_diameter "
   ]
  },
  {
   "cell_type": "code",
   "execution_count": 87,
   "metadata": {},
   "outputs": [
    {
     "data": {
      "text/latex": [
       "$7.9981585 \\times 10^{-6} \\; \\mathrm{rad}$"
      ],
      "text/plain": [
       "<Quantity 7.99815853e-06 rad>"
      ]
     },
     "execution_count": 87,
     "metadata": {},
     "output_type": "execute_result"
    }
   ],
   "source": [
    "# check astropy cosmology\n",
    "(cosmology.WMAP5.arcsec_per_kpc_proper(abell2744_z) * aperture_diameter.to('kpc')).to('rad')"
   ]
  },
  {
   "cell_type": "markdown",
   "metadata": {},
   "source": [
    "### Convert to arcsec"
   ]
  },
  {
   "cell_type": "code",
   "execution_count": 96,
   "metadata": {},
   "outputs": [
    {
     "data": {
      "text/latex": [
       "$0.7 \\; \\mathrm{{}^{\\prime\\prime}}$"
      ],
      "text/plain": [
       "<Quantity 0.7 arcsec>"
      ]
     },
     "execution_count": 96,
     "metadata": {},
     "output_type": "execute_result"
    }
   ],
   "source": [
    "angular_diameter = 0.7*u.arcsec#angular_diameter.to(\"arcsec\")\n",
    "angular_diameter"
   ]
  },
  {
   "cell_type": "markdown",
   "metadata": {},
   "source": [
    "### Find Pixel Size "
   ]
  },
  {
   "cell_type": "markdown",
   "metadata": {},
   "source": [
    "In this section we convert the angular size into pixel size. The way we do this is by adding the angular size to the `CRVAL` of the WCS and then converting that world coordinate to pixel values. After getting the new pixel values we subtract the `CRPIX` values to find the difference (angular size). Because RA-DEC is an equatorial coordinate system, I have decided its best to add the angular size to the Dec component of the WCS CRVAL (Dec axis is a great circle). It looks like the image `CRVAL` is sufficiently away from the pols of the celestial sphere, so no need to worry about loops around +/- 90 degrees.  "
   ]
  },
  {
   "cell_type": "code",
   "execution_count": 97,
   "metadata": {},
   "outputs": [
    {
     "name": "stdout",
     "output_type": "stream",
     "text": [
      "3.5832679 deg , -30.3880082 deg\n"
     ]
    }
   ],
   "source": [
    "# Load center pixel from data's WCS \n",
    "\n",
    "ra_0 = wcs.wcs.crval[0] * u.Unit(wcs.wcs.cunit[0])\n",
    "dec_0 = wcs.wcs.crval[1] * u.Unit(wcs.wcs.cunit[1])\n",
    "\n",
    "print(ra_0, \",\",  dec_0)"
   ]
  },
  {
   "cell_type": "code",
   "execution_count": 98,
   "metadata": {},
   "outputs": [
    {
     "name": "stdout",
     "output_type": "stream",
     "text": [
      "3.5832679 deg , -30.387813755555555 deg\n"
     ]
    }
   ],
   "source": [
    "# Add angular_diameter to center Dec value \n",
    "\n",
    "ra_1  = ra_0\n",
    "dec_1 = dec_0 + angular_diameter\n",
    "\n",
    "print(ra_1, \",\",  dec_1)"
   ]
  },
  {
   "cell_type": "code",
   "execution_count": 99,
   "metadata": {},
   "outputs": [
    {
     "data": {
      "text/plain": [
       "array([[2675.00000008, 3086.66666198]])"
      ]
     },
     "execution_count": 99,
     "metadata": {},
     "output_type": "execute_result"
    }
   ],
   "source": [
    "# Convert ra_1, dec_1 into pixels\n",
    "\n",
    "world = np.array([[ra_1.value, dec_1.value],], dtype=np.float64) * u.deg\n",
    "pixcrd = wcs.wcs_world2pix(world, 1)\n",
    "\n",
    "pixcrd"
   ]
  },
  {
   "cell_type": "code",
   "execution_count": 100,
   "metadata": {},
   "outputs": [
    {
     "data": {
      "text/plain": [
       "array([2675., 3075.])"
      ]
     },
     "execution_count": 100,
     "metadata": {},
     "output_type": "execute_result"
    }
   ],
   "source": [
    "# Look at the center pixel values\n",
    "wcs.wcs.crpix"
   ]
  },
  {
   "cell_type": "code",
   "execution_count": 101,
   "metadata": {},
   "outputs": [
    {
     "data": {
      "text/plain": [
       "11.666661982622372"
      ]
     },
     "execution_count": 101,
     "metadata": {},
     "output_type": "execute_result"
    }
   ],
   "source": [
    "# Find the difference b/w the center pixel and the angular offset pixel:\n",
    "pixel_diff =  pixcrd - wcs.wcs.crpix \n",
    "assert abs(pixel_diff[0,0]) < 1e-6\n",
    "pixel_diff[0,1]"
   ]
  },
  {
   "cell_type": "code",
   "execution_count": 102,
   "metadata": {},
   "outputs": [
    {
     "data": {
      "text/plain": [
       "12"
      ]
     },
     "execution_count": 102,
     "metadata": {},
     "output_type": "execute_result"
    }
   ],
   "source": [
    "# Find ceiling of pixel diff to conclude pixel size\n",
    "pixel_size = int(np.ceil(pixel_diff[0,1]))\n",
    "\n",
    "pixel_size"
   ]
  },
  {
   "cell_type": "code",
   "execution_count": 103,
   "metadata": {},
   "outputs": [
    {
     "data": {
      "text/plain": [
       "6"
      ]
     },
     "execution_count": 103,
     "metadata": {},
     "output_type": "execute_result"
    }
   ],
   "source": [
    "# radius \n",
    "pixel_size // 2"
   ]
  },
  {
   "cell_type": "code",
   "execution_count": null,
   "metadata": {},
   "outputs": [],
   "source": []
  }
 ],
 "metadata": {
  "kernelspec": {
   "display_name": "Python 3",
   "language": "python",
   "name": "python3"
  },
  "language_info": {
   "codemirror_mode": {
    "name": "ipython",
    "version": 3
   },
   "file_extension": ".py",
   "mimetype": "text/x-python",
   "name": "python",
   "nbconvert_exporter": "python",
   "pygments_lexer": "ipython3",
   "version": "3.7.6"
  }
 },
 "nbformat": 4,
 "nbformat_minor": 4
}
