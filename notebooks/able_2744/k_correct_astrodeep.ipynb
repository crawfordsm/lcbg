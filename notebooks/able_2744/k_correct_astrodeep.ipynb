{
 "cells": [
  {
   "cell_type": "code",
   "execution_count": 1,
   "metadata": {},
   "outputs": [],
   "source": [
    "import os \n",
    "\n",
    "import numpy as np\n",
    "\n",
    "from astropy.cosmology import WMAP5 as cosmo\n",
    "from astropy.table import Table\n",
    "from astropy import units as u \n",
    "from astropy.coordinates import SkyCoord\n",
    "\n",
    "import kcorrect\n",
    "import kcorrect.utils as ut"
   ]
  },
  {
   "cell_type": "code",
   "execution_count": 2,
   "metadata": {},
   "outputs": [],
   "source": [
    "%matplotlib inline\n",
    "from matplotlib import pyplot as plt\n",
    "from matplotlib import cm\n",
    "plt.rcParams['figure.figsize'] = [12, 12]"
   ]
  },
  {
   "cell_type": "markdown",
   "metadata": {},
   "source": [
    "# Load Astrodeep Catalogs"
   ]
  },
  {
   "cell_type": "code",
   "execution_count": 3,
   "metadata": {},
   "outputs": [],
   "source": [
    "filter_list = [\n",
    "    'F435W',\n",
    "    'F606W',\n",
    "    'F814W',\n",
    "    'F105W',\n",
    "    'F140W',\n",
    "    'F160W',\n",
    "    #'MAG_IRAC1',\n",
    "    #'MAG_IRAC2'\n",
    "]\n",
    "\n",
    "hst_correction_const_dict = {\n",
    "    'MAG_B435': 0.102,\n",
    "    'MAG_V606': -0.088,\n",
    "    'MAG_I814': -0.426,\n",
    "    'MAG_Y105': -0.647,\n",
    "    'MAG_J125': -0.903,\n",
    "    'MAG_JH140': -1.078,\n",
    "    'MAG_H160': -1.254,\n",
    "    'MAG_IRAC1': -2.787,\n",
    "    'MAG_IRAC2': -3.260\n",
    "}"
   ]
  },
  {
   "cell_type": "code",
   "execution_count": 4,
   "metadata": {
    "scrolled": true
   },
   "outputs": [
    {
     "name": "stdout",
     "output_type": "stream",
     "text": [
      "514\n"
     ]
    }
   ],
   "source": [
    "# raw_astro_deep_cat = Table.read(\"https://stsci.box.com/shared/static/2dsckrbt7b4eocl2v2mot9ssso0stc11.cat\", format=\"ascii\")\n",
    "#raw_astro_deep_cat = Table.read(\"http://astrodeep.u-strasbg.fr/ff/data/catalogues/A2744CL.xml\")\n",
    "raw_astro_deep_cat = Table.read(\"http://data.muse-vlt.eu/A2744/A2744_redshifts_cat_final.csv\")\n",
    "\n",
    "print(len(raw_astro_deep_cat))"
   ]
  },
  {
   "cell_type": "code",
   "execution_count": 5,
   "metadata": {},
   "outputs": [
    {
     "data": {
      "text/html": [
       "<i>Table length=514</i>\n",
       "<table id=\"table140319534374720\" class=\"table-striped table-bordered table-condensed\">\n",
       "<thead><tr><th># ID</th><th>RA</th><th>DEC</th><th>Z</th><th>CONFID</th><th>TYPE</th><th>MUL</th><th>F435W</th><th>F435W_ERR</th><th>F606W</th><th>F606W_ERR</th><th>F814W</th><th>F814W_ERR</th><th>F105W</th><th>F105W_ERR</th><th>F110W</th><th>F110W_ERR</th><th>F140W</th><th>F140W_ERR</th><th>F160W</th><th>F160W_ERR</th><th>MU</th><th>MU_ERR</th></tr></thead>\n",
       "<thead><tr><th>str5</th><th>float64</th><th>float64</th><th>float64</th><th>int64</th><th>int64</th><th>float64</th><th>float64</th><th>float64</th><th>float64</th><th>float64</th><th>float64</th><th>float64</th><th>float64</th><th>float64</th><th>float64</th><th>float64</th><th>float64</th><th>float64</th><th>float64</th><th>float64</th><th>float64</th><th>float64</th></tr></thead>\n",
       "<tr><td>M39</td><td>3.5889097</td><td>-30.3821391</td><td>6.6439</td><td>2</td><td>6</td><td>--</td><td>--</td><td>--</td><td>--</td><td>--</td><td>--</td><td>--</td><td>--</td><td>--</td><td>--</td><td>--</td><td>--</td><td>--</td><td>--</td><td>--</td><td>3.342</td><td>0.116</td></tr>\n",
       "<tr><td>2115</td><td>3.5938048</td><td>-30.4154482</td><td>6.5876</td><td>2</td><td>6</td><td>--</td><td>-29.4385</td><td>99.0</td><td>-29.2385</td><td>99.0</td><td>29.4057</td><td>0.2892</td><td>-2.0</td><td>99.0</td><td>26.5916</td><td>0.0397</td><td>26.7413</td><td>0.0434</td><td>26.7002</td><td>0.0383</td><td>4.08</td><td>0.076</td></tr>\n",
       "<tr><td>M38</td><td>3.5801476</td><td>-30.4079034</td><td>6.5565</td><td>2</td><td>6</td><td>--</td><td>--</td><td>--</td><td>--</td><td>--</td><td>--</td><td>--</td><td>--</td><td>--</td><td>--</td><td>--</td><td>--</td><td>--</td><td>--</td><td>--</td><td>3.507</td><td>0.104</td></tr>\n",
       "<tr><td>M37</td><td>3.5830603</td><td>-30.4118859</td><td>6.5195</td><td>2</td><td>6</td><td>--</td><td>--</td><td>--</td><td>--</td><td>--</td><td>--</td><td>--</td><td>--</td><td>--</td><td>--</td><td>--</td><td>--</td><td>--</td><td>--</td><td>--</td><td>3.367</td><td>0.116</td></tr>\n",
       "<tr><td>10609</td><td>3.598419</td><td>-30.3872993</td><td>6.3755</td><td>2</td><td>6</td><td>--</td><td>-30.3958</td><td>99.0</td><td>30.129</td><td>0.3502</td><td>29.6988</td><td>0.1612</td><td>29.8414</td><td>0.2013</td><td>29.6225</td><td>0.2425</td><td>-30.1464</td><td>99.0</td><td>30.0003</td><td>0.3039</td><td>2.279</td><td>0.069</td></tr>\n",
       "<tr><td>5353</td><td>3.6010732</td><td>-30.4039891</td><td>6.3271</td><td>3</td><td>6</td><td>--</td><td>-29.5695</td><td>99.0</td><td>-29.4675</td><td>99.0</td><td>29.0818</td><td>0.1802</td><td>27.8385</td><td>0.0604</td><td>27.8021</td><td>0.0857</td><td>27.9608</td><td>0.0946</td><td>28.0404</td><td>0.0938</td><td>3.812</td><td>0.122</td></tr>\n",
       "<tr><td>2785</td><td>3.5676318</td><td>-30.4118712</td><td>6.2737</td><td>2</td><td>6</td><td>--</td><td>-29.9169</td><td>99.0</td><td>29.5461</td><td>0.3228</td><td>28.8554</td><td>0.1205</td><td>28.6472</td><td>0.1217</td><td>28.7018</td><td>0.1896</td><td>28.7897</td><td>0.1977</td><td>28.5387</td><td>0.1413</td><td>1.68</td><td>0.028</td></tr>\n",
       "<tr><td>M36</td><td>3.578052</td><td>-30.4131601</td><td>6.0938</td><td>2</td><td>6</td><td>--</td><td>--</td><td>--</td><td>--</td><td>--</td><td>--</td><td>--</td><td>--</td><td>--</td><td>--</td><td>--</td><td>--</td><td>--</td><td>--</td><td>--</td><td>2.134</td><td>0.043</td></tr>\n",
       "<tr><td>M35</td><td>3.5685679</td><td>-30.3990763</td><td>5.9971</td><td>2</td><td>6</td><td>--</td><td>--</td><td>--</td><td>--</td><td>--</td><td>--</td><td>--</td><td>--</td><td>--</td><td>--</td><td>--</td><td>--</td><td>--</td><td>--</td><td>--</td><td>2.384</td><td>0.064</td></tr>\n",
       "<tr><td>M34</td><td>3.575055</td><td>-30.3806918</td><td>5.8994</td><td>2</td><td>6</td><td>--</td><td>--</td><td>--</td><td>--</td><td>--</td><td>--</td><td>--</td><td>--</td><td>--</td><td>--</td><td>--</td><td>--</td><td>--</td><td>--</td><td>--</td><td>3.321</td><td>0.151</td></tr>\n",
       "<tr><td>...</td><td>...</td><td>...</td><td>...</td><td>...</td><td>...</td><td>...</td><td>...</td><td>...</td><td>...</td><td>...</td><td>...</td><td>...</td><td>...</td><td>...</td><td>...</td><td>...</td><td>...</td><td>...</td><td>...</td><td>...</td><td>...</td><td>...</td></tr>\n",
       "<tr><td>11728</td><td>3.5806732</td><td>-30.3857573</td><td>0.0</td><td>3</td><td>0</td><td>--</td><td>-2.0</td><td>99.0</td><td>-2.0</td><td>99.0</td><td>-2.0</td><td>99.0</td><td>20.0559</td><td>0.0003</td><td>19.9458</td><td>0.0003</td><td>19.882</td><td>0.0003</td><td>19.798</td><td>0.0003</td><td>1.0</td><td>66666.0</td></tr>\n",
       "<tr><td>3677</td><td>3.572705</td><td>-30.4095762</td><td>0.0</td><td>3</td><td>0</td><td>--</td><td>-2.0</td><td>99.0</td><td>-2.0</td><td>99.0</td><td>-2.0</td><td>99.0</td><td>21.1303</td><td>0.0005</td><td>21.1435</td><td>0.0008</td><td>21.1455</td><td>0.0008</td><td>21.1489</td><td>0.0007</td><td>1.0</td><td>66666.0</td></tr>\n",
       "<tr><td>10078</td><td>3.5927519</td><td>-30.3915295</td><td>0.0</td><td>3</td><td>0</td><td>--</td><td>-2.0</td><td>99.0</td><td>-2.0</td><td>99.0</td><td>-2.0</td><td>99.0</td><td>20.8177</td><td>0.0004</td><td>20.692</td><td>0.0006</td><td>20.6632</td><td>0.0005</td><td>20.6292</td><td>0.0005</td><td>1.0</td><td>66666.0</td></tr>\n",
       "<tr><td>5701</td><td>3.5787595</td><td>-30.4032138</td><td>0.0</td><td>3</td><td>0</td><td>--</td><td>-2.0</td><td>99.0</td><td>-2.0</td><td>99.0</td><td>-2.0</td><td>99.0</td><td>21.4846</td><td>0.0004</td><td>21.5307</td><td>0.0006</td><td>21.5792</td><td>0.0006</td><td>21.6248</td><td>0.0006</td><td>1.0</td><td>66666.0</td></tr>\n",
       "<tr><td>3429</td><td>3.5761547</td><td>-30.4110802</td><td>0.0</td><td>3</td><td>0</td><td>--</td><td>25.8448</td><td>0.0447</td><td>-2.0</td><td>99.0</td><td>-2.0</td><td>99.0</td><td>20.7728</td><td>0.0004</td><td>20.6138</td><td>0.0005</td><td>20.6199</td><td>0.0005</td><td>20.6059</td><td>0.0005</td><td>1.0</td><td>66666.0</td></tr>\n",
       "<tr><td>12148</td><td>3.6083985</td><td>-30.3876614</td><td>0.0</td><td>3</td><td>0</td><td>--</td><td>-2.0</td><td>99.0</td><td>-2.0</td><td>99.0</td><td>-2.0</td><td>99.0</td><td>21.469</td><td>0.0006</td><td>21.3793</td><td>0.0008</td><td>21.3414</td><td>0.0008</td><td>21.3094</td><td>0.0007</td><td>1.0</td><td>66666.0</td></tr>\n",
       "<tr><td>7606</td><td>3.5763305</td><td>-30.3983337</td><td>0.0</td><td>3</td><td>0</td><td>--</td><td>-2.0</td><td>99.0</td><td>-2.0</td><td>99.0</td><td>-2.0</td><td>99.0</td><td>21.6707</td><td>0.0007</td><td>21.5752</td><td>0.001</td><td>21.5399</td><td>0.0009</td><td>21.4999</td><td>0.0008</td><td>1.0</td><td>66666.0</td></tr>\n",
       "<tr><td>11544</td><td>3.6042175</td><td>-30.3856646</td><td>0.0</td><td>3</td><td>0</td><td>--</td><td>-2.0</td><td>99.0</td><td>-2.0</td><td>99.0</td><td>-2.0</td><td>99.0</td><td>22.4871</td><td>0.0012</td><td>22.4941</td><td>0.0018</td><td>22.4872</td><td>0.0017</td><td>22.4936</td><td>0.0016</td><td>1.0</td><td>66666.0</td></tr>\n",
       "<tr><td>5291</td><td>3.5959108</td><td>-30.4041312</td><td>0.0</td><td>3</td><td>0</td><td>--</td><td>26.0001</td><td>0.0297</td><td>-2.0</td><td>99.0</td><td>-2.0</td><td>99.0</td><td>22.5543</td><td>0.001</td><td>22.4272</td><td>0.0013</td><td>22.4009</td><td>0.0013</td><td>22.3727</td><td>0.0011</td><td>1.0</td><td>66666.0</td></tr>\n",
       "<tr><td>8538</td><td>3.5740133</td><td>-30.3948084</td><td>0.0</td><td>2</td><td>0</td><td>--</td><td>26.4703</td><td>0.0349</td><td>25.0687</td><td>0.0114</td><td>-2.0</td><td>99.0</td><td>24.1866</td><td>0.0036</td><td>24.1239</td><td>0.0051</td><td>24.1104</td><td>0.0048</td><td>24.0755</td><td>0.0043</td><td>1.0</td><td>66666.0</td></tr>\n",
       "</table>"
      ],
      "text/plain": [
       "<Table length=514>\n",
       " # ID     RA        DEC        Z    CONFID ...  F160W  F160W_ERR    MU    MU_ERR\n",
       " str5  float64    float64   float64 int64  ... float64  float64  float64 float64\n",
       "----- --------- ----------- ------- ------ ... ------- --------- ------- -------\n",
       "  M39 3.5889097 -30.3821391  6.6439      2 ...      --        --   3.342   0.116\n",
       " 2115 3.5938048 -30.4154482  6.5876      2 ... 26.7002    0.0383    4.08   0.076\n",
       "  M38 3.5801476 -30.4079034  6.5565      2 ...      --        --   3.507   0.104\n",
       "  M37 3.5830603 -30.4118859  6.5195      2 ...      --        --   3.367   0.116\n",
       "10609  3.598419 -30.3872993  6.3755      2 ... 30.0003    0.3039   2.279   0.069\n",
       " 5353 3.6010732 -30.4039891  6.3271      3 ... 28.0404    0.0938   3.812   0.122\n",
       " 2785 3.5676318 -30.4118712  6.2737      2 ... 28.5387    0.1413    1.68   0.028\n",
       "  M36  3.578052 -30.4131601  6.0938      2 ...      --        --   2.134   0.043\n",
       "  M35 3.5685679 -30.3990763  5.9971      2 ...      --        --   2.384   0.064\n",
       "  M34  3.575055 -30.3806918  5.8994      2 ...      --        --   3.321   0.151\n",
       "  ...       ...         ...     ...    ... ...     ...       ...     ...     ...\n",
       "11728 3.5806732 -30.3857573     0.0      3 ...  19.798    0.0003     1.0 66666.0\n",
       " 3677  3.572705 -30.4095762     0.0      3 ... 21.1489    0.0007     1.0 66666.0\n",
       "10078 3.5927519 -30.3915295     0.0      3 ... 20.6292    0.0005     1.0 66666.0\n",
       " 5701 3.5787595 -30.4032138     0.0      3 ... 21.6248    0.0006     1.0 66666.0\n",
       " 3429 3.5761547 -30.4110802     0.0      3 ... 20.6059    0.0005     1.0 66666.0\n",
       "12148 3.6083985 -30.3876614     0.0      3 ... 21.3094    0.0007     1.0 66666.0\n",
       " 7606 3.5763305 -30.3983337     0.0      3 ... 21.4999    0.0008     1.0 66666.0\n",
       "11544 3.6042175 -30.3856646     0.0      3 ... 22.4936    0.0016     1.0 66666.0\n",
       " 5291 3.5959108 -30.4041312     0.0      3 ... 22.3727    0.0011     1.0 66666.0\n",
       " 8538 3.5740133 -30.3948084     0.0      2 ... 24.0755    0.0043     1.0 66666.0"
      ]
     },
     "execution_count": 5,
     "metadata": {},
     "output_type": "execute_result"
    }
   ],
   "source": [
    "[i for i in raw_astro_deep_cat.colnames if \"ERR\" not in i and \"F\" in i]\n",
    "raw_astro_deep_cat"
   ]
  },
  {
   "cell_type": "code",
   "execution_count": 76,
   "metadata": {},
   "outputs": [
    {
     "name": "stdout",
     "output_type": "stream",
     "text": [
      "228\n"
     ]
    }
   ],
   "source": [
    "min_z = 0.1\n",
    "max_z = 1\n",
    "\n",
    "min_mag = -np.inf\n",
    "max_mag = np.inf\n",
    "\n",
    "astro_deep_mask = np.ones((len(raw_astro_deep_cat))).astype(bool)\n",
    "\n",
    "#astro_deep_mask = astro_deep_mask & np.invert(raw_astro_deep_cat['ZBEST'].mask.astype(bool))\n",
    "astro_deep_mask = astro_deep_mask & (raw_astro_deep_cat['Z'] > min_z).astype(bool).data  \n",
    "astro_deep_mask = astro_deep_mask & (raw_astro_deep_cat['Z'] < max_z).astype(bool).data \n",
    "astro_deep_mask = astro_deep_mask & (raw_astro_deep_cat['Z'] != 0).astype(bool).data \n",
    "\n",
    "for f in filter_list:\n",
    "    astro_deep_mask = astro_deep_mask & (raw_astro_deep_cat[f] > min_mag).astype(bool).data\n",
    "    astro_deep_mask = astro_deep_mask & (raw_astro_deep_cat[f] < max_mag).astype(bool).data \n",
    "\n",
    "\n",
    "astro_deep_cat = raw_astro_deep_cat[astro_deep_mask]\n",
    "print(len(astro_deep_cat))"
   ]
  },
  {
   "cell_type": "code",
   "execution_count": 77,
   "metadata": {},
   "outputs": [
    {
     "name": "stderr",
     "output_type": "stream",
     "text": [
      "/opt/conda/envs/lcbg/lib/python3.8/site-packages/kcorrect/utils/__init__.py:17: RuntimeWarning: divide by zero encountered in power\n",
      "  return  numpy.power(0.4*numpy.log(10.)*maggies*mag_err, -2)\n"
     ]
    }
   ],
   "source": [
    "cat = {}\n",
    "\n",
    "mags = {}\n",
    "mag_err = {}\n",
    "\n",
    "maggies = {}\n",
    "maggies_err = {}\n",
    "\n",
    "z_best = np.array(astro_deep_cat['Z'])\n",
    "\n",
    "num_sources = None\n",
    "\n",
    "for f in filter_list:\n",
    "    cat[f] = astro_deep_cat[f]\n",
    "    \n",
    "    mags[f] = np.array(astro_deep_cat[f][:]) \n",
    "    mag_err[f] = np.array(astro_deep_cat[f.replace('W', 'W_ERR')][:]) \n",
    "    \n",
    "    maggies[f] = ut.mag2maggies(mags[f])\n",
    "    maggies_err[f] = ut.invariance(maggies[f], mag_err[f])\n",
    "    \n",
    "    if num_sources is None:\n",
    "        num_sources = len(cat[f])\n",
    "    else:\n",
    "        assert num_sources == len(cat[f])\n",
    "\n",
    "        "
   ]
  },
  {
   "cell_type": "code",
   "execution_count": 131,
   "metadata": {},
   "outputs": [
    {
     "name": "stdout",
     "output_type": "stream",
     "text": [
      "Num sources with radii matchs:  188\n",
      "Fraction sources with radii matchs:  0.8245614035087719\n",
      "Number of nan values 48\n"
     ]
    }
   ],
   "source": [
    "robel_cat = Table.read('hlsp_frontier_hst_abell2744_v1.0_drz_patrosian_catalog.csv')\n",
    "robel_ra, robel_dec = np.array([ coord.split(',') for coord in robel_cat['sky_centroid']]).astype(float).transpose()\n",
    "\n",
    "robel_coords = SkyCoord(\n",
    "    ra=robel_cat['ra']*u.degree,\n",
    "    dec=robel_cat['dec']*u.degree\n",
    ")\n",
    "\n",
    "astro_deep_coords = SkyCoord(\n",
    "    ra=np.array(astro_deep_cat['RA'])*u.degree,\n",
    "    dec=np.array(astro_deep_cat['DEC'])*u.degree\n",
    ")\n",
    "\n",
    "\n",
    "idx, sep2d, dist3d = astro_deep_coords.match_to_catalog_sky(robel_coords)\n",
    "\n",
    "arcsec_cutoff = 1\n",
    "\n",
    "radii = []\n",
    "for item in robel_cat['r_half_light_arcsec_f160w'][idx]:\n",
    "    if item == \"None\":\n",
    "        item = np.nan \n",
    "    radii.append(item)\n",
    "    \n",
    "radii = np.array(radii, dtype=np.float)\n",
    "radii[np.where(sep2d.arcsec > arcsec_cutoff)] = np.nan\n",
    "\n",
    "print(\"Num sources with radii matchs: \", np.where(sep2d.arcsec < arcsec_cutoff)[0].shape[0])\n",
    "print(\"Fraction sources with radii matchs: \", 1 - np.where(sep2d.arcsec > arcsec_cutoff)[0].shape[0] / len(astro_deep_cat))\n",
    "print(\"Number of nan values\", np.where(np.isnan(radii))[0].shape[0])"
   ]
  },
  {
   "cell_type": "code",
   "execution_count": 132,
   "metadata": {},
   "outputs": [
    {
     "data": {
      "text/plain": [
       "40"
      ]
     },
     "execution_count": 132,
     "metadata": {},
     "output_type": "execute_result"
    }
   ],
   "source": [
    "228-188"
   ]
  },
  {
   "cell_type": "code",
   "execution_count": 90,
   "metadata": {},
   "outputs": [
    {
     "name": "stdout",
     "output_type": "stream",
     "text": [
      "single bin width= 0.009932\n"
     ]
    },
    {
     "data": {
      "image/png": "[encoded data removed]",
      "text/plain": [
       "<Figure size 864x864 with 1 Axes>"
      ]
     },
     "metadata": {
      "needs_background": "light"
     },
     "output_type": "display_data"
    }
   ],
   "source": [
    "num_bins = 100\n",
    "max_value = z_best[~np.isnan(z_best)].max()\n",
    "bin_width = (max_value / num_bins)\n",
    "print('single bin width=', bin_width)\n",
    "plt.hist(z_best, bins=[i * bin_width for i in range(num_bins)]);\n",
    "plt.axvline(0.308, c='r', label='Cluster Z from NED')\n",
    "plt.legend()\n",
    "plt.show()"
   ]
  },
  {
   "cell_type": "markdown",
   "metadata": {},
   "source": [
    "# Load Input Filters"
   ]
  },
  {
   "cell_type": "code",
   "execution_count": 91,
   "metadata": {},
   "outputs": [],
   "source": [
    "def print_filter_file(path):\n",
    "    with open(path) as f:\n",
    "        for line in f:\n",
    "            print(line.replace(\"\\n\", \"\"))"
   ]
  },
  {
   "cell_type": "code",
   "execution_count": 92,
   "metadata": {},
   "outputs": [],
   "source": [
    "input_filter_file = os.path.abspath('hst_filters_muse.dat')"
   ]
  },
  {
   "cell_type": "code",
   "execution_count": 93,
   "metadata": {},
   "outputs": [
    {
     "name": "stdout",
     "output_type": "stream",
     "text": [
      "KCORRECT_DIR\n",
      "data/filters/clash_acs_f435w.par\n",
      "data/filters/clash_acs_f606w.par\n",
      "data/filters/clash_acs_f814w.par\n",
      "data/filters/clash_wfc3_f105w.par\n",
      "data/filters/clash_wfc3_f140w.par\n",
      "data/filters/clash_wfc3_f160w.par\n"
     ]
    }
   ],
   "source": [
    "print_filter_file(input_filter_file)"
   ]
  },
  {
   "cell_type": "code",
   "execution_count": 94,
   "metadata": {},
   "outputs": [],
   "source": [
    "kcorrect.load_templates()\n",
    "kcorrect.load_filters(input_filter_file)"
   ]
  },
  {
   "cell_type": "markdown",
   "metadata": {},
   "source": [
    "# Fit Nonnegative Sums"
   ]
  },
  {
   "cell_type": "code",
   "execution_count": 95,
   "metadata": {},
   "outputs": [],
   "source": [
    "kcorrect_constants = []\n",
    "\n",
    "for i in range(0, num_sources):\n",
    "    \n",
    "    all_maggies = np.array([maggies[f][i] for f in filter_list], dtype=float)\n",
    "    all_maggies_err = np.array([maggies_err[f][i] for f in filter_list], dtype=float)\n",
    "    \n",
    "    z = z_best[i]\n",
    "    \n",
    "    constants = kcorrect.fit_nonneg(z, all_maggies, all_maggies_err)\n",
    "    \n",
    "    kcorrect_constants.append(constants)\n",
    "    "
   ]
  },
  {
   "cell_type": "markdown",
   "metadata": {},
   "source": [
    "# Reconstruct Maggies"
   ]
  },
  {
   "cell_type": "code",
   "execution_count": 96,
   "metadata": {},
   "outputs": [],
   "source": [
    "def multi_reconstruct_maggies(kcorrect_constants, filter_list, redshift=-1.0):\n",
    "    re_maggies = {f: [] for f in filter_list}\n",
    "    \n",
    "    for constants in kcorrect_constants:\n",
    "        _, *result = kcorrect.reconstruct_maggies(constants, redshift=redshift)\n",
    "\n",
    "        for i, f in enumerate(filter_list):\n",
    "            re_maggies[f].append(result[i])\n",
    "            \n",
    "    for i, f in enumerate(filter_list):\n",
    "        re_maggies[f] = np.array(re_maggies[f])\n",
    "        \n",
    "    return re_maggies\n",
    "    "
   ]
  },
  {
   "cell_type": "code",
   "execution_count": 97,
   "metadata": {},
   "outputs": [],
   "source": [
    "def stack_filter_dict(dictionary):\n",
    "    return np.stack(tuple(dictionary.values()), axis=-1)"
   ]
  },
  {
   "cell_type": "code",
   "execution_count": 98,
   "metadata": {},
   "outputs": [],
   "source": [
    "re_maggies = multi_reconstruct_maggies(kcorrect_constants, filter_list)\n",
    "re_maggies_z0 = multi_reconstruct_maggies(kcorrect_constants, filter_list, redshift=0)"
   ]
  },
  {
   "cell_type": "markdown",
   "metadata": {},
   "source": [
    "# Compare Reconstructed Maggies Vs Input Maggies"
   ]
  },
  {
   "cell_type": "code",
   "execution_count": 99,
   "metadata": {
    "scrolled": false
   },
   "outputs": [
    {
     "data": {
      "image/png": "[encoded data removed]",
      "text/plain": [
       "<Figure size 864x864 with 1 Axes>"
      ]
     },
     "metadata": {
      "needs_background": "light"
     },
     "output_type": "display_data"
    },
    {
     "name": "stdout",
     "output_type": "stream",
     "text": [
      "N=228\n"
     ]
    }
   ],
   "source": [
    "all_re_maggies = stack_filter_dict(re_maggies)\n",
    "all_maggies = stack_filter_dict(maggies)\n",
    "\n",
    "percent_err = 100 * abs(all_re_maggies - all_maggies) / all_maggies\n",
    "percent_err = (percent_err).mean(axis=1)\n",
    "\n",
    "bins = list(range(100))\n",
    "plt.hist(percent_err, bins=bins)\n",
    "\n",
    "#plt.xticks(bins, [\"{:0.2e}\".format(i) for i in bins], rotation='vertical')\n",
    "\n",
    "plt.title(\"Histogram of Percent Error: Reconstructed Maggies Vs Input Maggies\")\n",
    "plt.xlabel(\"Mean Percent Error of Filters\")\n",
    "plt.ylabel(\"Count\")\n",
    "plt.show()\n",
    "\n",
    "\"\"\"\n",
    "bins = 0.1*np.array(range(100))\n",
    "plt.hist(percent_err, bins=bins)\n",
    "\n",
    "plt.title(\"Histogram of Percent Error: Reconstructed Maggies Vs Input Maggies\")\n",
    "plt.xlabel(\"Mean Percent Error of Filters\")\n",
    "plt.ylabel(\"Count\")\n",
    "plt.show()\n",
    "\"\"\"\n",
    "print(\"N={}\".format(len(percent_err)))"
   ]
  },
  {
   "cell_type": "markdown",
   "metadata": {},
   "source": [
    "# Load Johnson Filters"
   ]
  },
  {
   "cell_type": "code",
   "execution_count": 100,
   "metadata": {},
   "outputs": [],
   "source": [
    "johnson_filter_list = ['u', 'b', 'v']\n",
    "\n",
    "johnson_correction_const_dict = {\n",
    "    'u': -0.79,\n",
    "    'b': + 0.09,\n",
    "    'v': -0.02\n",
    "}\n",
    "\n",
    "johnson_correction_const = np.array([johnson_correction_const_dict[key] for key in johnson_filter_list])"
   ]
  },
  {
   "cell_type": "code",
   "execution_count": 101,
   "metadata": {},
   "outputs": [],
   "source": [
    "johnson_filter_file = os.path.abspath('johnson_ubv.dat')"
   ]
  },
  {
   "cell_type": "code",
   "execution_count": 102,
   "metadata": {},
   "outputs": [
    {
     "name": "stdout",
     "output_type": "stream",
     "text": [
      "KCORRECT_DIR\n",
      "data/filters/bessell_U.par\n",
      "data/filters/bessell_B.par\n",
      "data/filters/bessell_V.par\n"
     ]
    }
   ],
   "source": [
    "print_filter_file(johnson_filter_file)"
   ]
  },
  {
   "cell_type": "code",
   "execution_count": 103,
   "metadata": {},
   "outputs": [],
   "source": [
    "kcorrect.load_templates()\n",
    "kcorrect.load_filters(johnson_filter_file)"
   ]
  },
  {
   "cell_type": "markdown",
   "metadata": {},
   "source": [
    "# Compute Johnson Maggies "
   ]
  },
  {
   "cell_type": "code",
   "execution_count": 104,
   "metadata": {},
   "outputs": [],
   "source": [
    "johnson_maggies_z0 = multi_reconstruct_maggies(kcorrect_constants, johnson_filter_list, redshift=0)"
   ]
  },
  {
   "cell_type": "markdown",
   "metadata": {},
   "source": [
    "# Compute Vega Mag "
   ]
  },
  {
   "cell_type": "code",
   "execution_count": 105,
   "metadata": {},
   "outputs": [
    {
     "data": {
      "text/plain": [
       "'\\n# Original filters\\nfor i, f in enumerate(filter_list):\\n    m_vega_mags[f] = -2.5 * np.log10(re_maggies_z0[f]) + hst_correction_const_dict[f]\\n    M_vega_mags[f] = m_vega_mags[f] - cosmo.distmod(z_best).value\\n'"
      ]
     },
     "execution_count": 105,
     "metadata": {},
     "output_type": "execute_result"
    }
   ],
   "source": [
    "m_vega_mags = {}\n",
    "M_vega_mags = {}\n",
    "\n",
    "# Johnson filters\n",
    "for i, f in enumerate(johnson_filter_list):\n",
    "    m_vega_mags[f] = -2.5 * np.log10(johnson_maggies_z0[f]) + johnson_correction_const_dict[f]\n",
    "    M_vega_mags[f] = m_vega_mags[f] - cosmo.distmod(z_best).value\n",
    "\"\"\"\n",
    "# Original filters\n",
    "for i, f in enumerate(filter_list):\n",
    "    m_vega_mags[f] = -2.5 * np.log10(re_maggies_z0[f]) + hst_correction_const_dict[f]\n",
    "    M_vega_mags[f] = m_vega_mags[f] - cosmo.distmod(z_best).value\n",
    "\"\"\"\n",
    "\n"
   ]
  },
  {
   "cell_type": "markdown",
   "metadata": {},
   "source": [
    "# Compute Surface Brightnesses"
   ]
  },
  {
   "cell_type": "code",
   "execution_count": 106,
   "metadata": {},
   "outputs": [],
   "source": [
    "m_b = m_vega_mags['b']"
   ]
  },
  {
   "cell_type": "code",
   "execution_count": 107,
   "metadata": {},
   "outputs": [],
   "source": [
    "r_half_light_arcsec = radii"
   ]
  },
  {
   "cell_type": "code",
   "execution_count": 108,
   "metadata": {},
   "outputs": [],
   "source": [
    "surface_brightness = m_b + 5 * np.log10(r_half_light_arcsec) + 2.5 * np.log10(2 * np.pi) - 10 * np.log10(1+z_best)\n",
    "surface_brightness[np.where(np.isnan(surface_brightness))] = np.nan"
   ]
  },
  {
   "cell_type": "markdown",
   "metadata": {},
   "source": [
    "# Make Catalog"
   ]
  },
  {
   "cell_type": "code",
   "execution_count": 109,
   "metadata": {},
   "outputs": [
    {
     "data": {
      "text/html": [
       "<i>Table length=514</i>\n",
       "<table id=\"table140319534374720\" class=\"table-striped table-bordered table-condensed\">\n",
       "<thead><tr><th># ID</th><th>RA</th><th>DEC</th><th>Z</th><th>CONFID</th><th>TYPE</th><th>MUL</th><th>F435W</th><th>F435W_ERR</th><th>F606W</th><th>F606W_ERR</th><th>F814W</th><th>F814W_ERR</th><th>F105W</th><th>F105W_ERR</th><th>F110W</th><th>F110W_ERR</th><th>F140W</th><th>F140W_ERR</th><th>F160W</th><th>F160W_ERR</th><th>MU</th><th>MU_ERR</th></tr></thead>\n",
       "<thead><tr><th>str5</th><th>float64</th><th>float64</th><th>float64</th><th>int64</th><th>int64</th><th>float64</th><th>float64</th><th>float64</th><th>float64</th><th>float64</th><th>float64</th><th>float64</th><th>float64</th><th>float64</th><th>float64</th><th>float64</th><th>float64</th><th>float64</th><th>float64</th><th>float64</th><th>float64</th><th>float64</th></tr></thead>\n",
       "<tr><td>M39</td><td>3.5889097</td><td>-30.3821391</td><td>6.6439</td><td>2</td><td>6</td><td>--</td><td>--</td><td>--</td><td>--</td><td>--</td><td>--</td><td>--</td><td>--</td><td>--</td><td>--</td><td>--</td><td>--</td><td>--</td><td>--</td><td>--</td><td>3.342</td><td>0.116</td></tr>\n",
       "<tr><td>2115</td><td>3.5938048</td><td>-30.4154482</td><td>6.5876</td><td>2</td><td>6</td><td>--</td><td>-29.4385</td><td>99.0</td><td>-29.2385</td><td>99.0</td><td>29.4057</td><td>0.2892</td><td>-2.0</td><td>99.0</td><td>26.5916</td><td>0.0397</td><td>26.7413</td><td>0.0434</td><td>26.7002</td><td>0.0383</td><td>4.08</td><td>0.076</td></tr>\n",
       "<tr><td>M38</td><td>3.5801476</td><td>-30.4079034</td><td>6.5565</td><td>2</td><td>6</td><td>--</td><td>--</td><td>--</td><td>--</td><td>--</td><td>--</td><td>--</td><td>--</td><td>--</td><td>--</td><td>--</td><td>--</td><td>--</td><td>--</td><td>--</td><td>3.507</td><td>0.104</td></tr>\n",
       "<tr><td>M37</td><td>3.5830603</td><td>-30.4118859</td><td>6.5195</td><td>2</td><td>6</td><td>--</td><td>--</td><td>--</td><td>--</td><td>--</td><td>--</td><td>--</td><td>--</td><td>--</td><td>--</td><td>--</td><td>--</td><td>--</td><td>--</td><td>--</td><td>3.367</td><td>0.116</td></tr>\n",
       "<tr><td>10609</td><td>3.598419</td><td>-30.3872993</td><td>6.3755</td><td>2</td><td>6</td><td>--</td><td>-30.3958</td><td>99.0</td><td>30.129</td><td>0.3502</td><td>29.6988</td><td>0.1612</td><td>29.8414</td><td>0.2013</td><td>29.6225</td><td>0.2425</td><td>-30.1464</td><td>99.0</td><td>30.0003</td><td>0.3039</td><td>2.279</td><td>0.069</td></tr>\n",
       "<tr><td>5353</td><td>3.6010732</td><td>-30.4039891</td><td>6.3271</td><td>3</td><td>6</td><td>--</td><td>-29.5695</td><td>99.0</td><td>-29.4675</td><td>99.0</td><td>29.0818</td><td>0.1802</td><td>27.8385</td><td>0.0604</td><td>27.8021</td><td>0.0857</td><td>27.9608</td><td>0.0946</td><td>28.0404</td><td>0.0938</td><td>3.812</td><td>0.122</td></tr>\n",
       "<tr><td>2785</td><td>3.5676318</td><td>-30.4118712</td><td>6.2737</td><td>2</td><td>6</td><td>--</td><td>-29.9169</td><td>99.0</td><td>29.5461</td><td>0.3228</td><td>28.8554</td><td>0.1205</td><td>28.6472</td><td>0.1217</td><td>28.7018</td><td>0.1896</td><td>28.7897</td><td>0.1977</td><td>28.5387</td><td>0.1413</td><td>1.68</td><td>0.028</td></tr>\n",
       "<tr><td>M36</td><td>3.578052</td><td>-30.4131601</td><td>6.0938</td><td>2</td><td>6</td><td>--</td><td>--</td><td>--</td><td>--</td><td>--</td><td>--</td><td>--</td><td>--</td><td>--</td><td>--</td><td>--</td><td>--</td><td>--</td><td>--</td><td>--</td><td>2.134</td><td>0.043</td></tr>\n",
       "<tr><td>M35</td><td>3.5685679</td><td>-30.3990763</td><td>5.9971</td><td>2</td><td>6</td><td>--</td><td>--</td><td>--</td><td>--</td><td>--</td><td>--</td><td>--</td><td>--</td><td>--</td><td>--</td><td>--</td><td>--</td><td>--</td><td>--</td><td>--</td><td>2.384</td><td>0.064</td></tr>\n",
       "<tr><td>M34</td><td>3.575055</td><td>-30.3806918</td><td>5.8994</td><td>2</td><td>6</td><td>--</td><td>--</td><td>--</td><td>--</td><td>--</td><td>--</td><td>--</td><td>--</td><td>--</td><td>--</td><td>--</td><td>--</td><td>--</td><td>--</td><td>--</td><td>3.321</td><td>0.151</td></tr>\n",
       "<tr><td>...</td><td>...</td><td>...</td><td>...</td><td>...</td><td>...</td><td>...</td><td>...</td><td>...</td><td>...</td><td>...</td><td>...</td><td>...</td><td>...</td><td>...</td><td>...</td><td>...</td><td>...</td><td>...</td><td>...</td><td>...</td><td>...</td><td>...</td></tr>\n",
       "<tr><td>11728</td><td>3.5806732</td><td>-30.3857573</td><td>0.0</td><td>3</td><td>0</td><td>--</td><td>-2.0</td><td>99.0</td><td>-2.0</td><td>99.0</td><td>-2.0</td><td>99.0</td><td>20.0559</td><td>0.0003</td><td>19.9458</td><td>0.0003</td><td>19.882</td><td>0.0003</td><td>19.798</td><td>0.0003</td><td>1.0</td><td>66666.0</td></tr>\n",
       "<tr><td>3677</td><td>3.572705</td><td>-30.4095762</td><td>0.0</td><td>3</td><td>0</td><td>--</td><td>-2.0</td><td>99.0</td><td>-2.0</td><td>99.0</td><td>-2.0</td><td>99.0</td><td>21.1303</td><td>0.0005</td><td>21.1435</td><td>0.0008</td><td>21.1455</td><td>0.0008</td><td>21.1489</td><td>0.0007</td><td>1.0</td><td>66666.0</td></tr>\n",
       "<tr><td>10078</td><td>3.5927519</td><td>-30.3915295</td><td>0.0</td><td>3</td><td>0</td><td>--</td><td>-2.0</td><td>99.0</td><td>-2.0</td><td>99.0</td><td>-2.0</td><td>99.0</td><td>20.8177</td><td>0.0004</td><td>20.692</td><td>0.0006</td><td>20.6632</td><td>0.0005</td><td>20.6292</td><td>0.0005</td><td>1.0</td><td>66666.0</td></tr>\n",
       "<tr><td>5701</td><td>3.5787595</td><td>-30.4032138</td><td>0.0</td><td>3</td><td>0</td><td>--</td><td>-2.0</td><td>99.0</td><td>-2.0</td><td>99.0</td><td>-2.0</td><td>99.0</td><td>21.4846</td><td>0.0004</td><td>21.5307</td><td>0.0006</td><td>21.5792</td><td>0.0006</td><td>21.6248</td><td>0.0006</td><td>1.0</td><td>66666.0</td></tr>\n",
       "<tr><td>3429</td><td>3.5761547</td><td>-30.4110802</td><td>0.0</td><td>3</td><td>0</td><td>--</td><td>25.8448</td><td>0.0447</td><td>-2.0</td><td>99.0</td><td>-2.0</td><td>99.0</td><td>20.7728</td><td>0.0004</td><td>20.6138</td><td>0.0005</td><td>20.6199</td><td>0.0005</td><td>20.6059</td><td>0.0005</td><td>1.0</td><td>66666.0</td></tr>\n",
       "<tr><td>12148</td><td>3.6083985</td><td>-30.3876614</td><td>0.0</td><td>3</td><td>0</td><td>--</td><td>-2.0</td><td>99.0</td><td>-2.0</td><td>99.0</td><td>-2.0</td><td>99.0</td><td>21.469</td><td>0.0006</td><td>21.3793</td><td>0.0008</td><td>21.3414</td><td>0.0008</td><td>21.3094</td><td>0.0007</td><td>1.0</td><td>66666.0</td></tr>\n",
       "<tr><td>7606</td><td>3.5763305</td><td>-30.3983337</td><td>0.0</td><td>3</td><td>0</td><td>--</td><td>-2.0</td><td>99.0</td><td>-2.0</td><td>99.0</td><td>-2.0</td><td>99.0</td><td>21.6707</td><td>0.0007</td><td>21.5752</td><td>0.001</td><td>21.5399</td><td>0.0009</td><td>21.4999</td><td>0.0008</td><td>1.0</td><td>66666.0</td></tr>\n",
       "<tr><td>11544</td><td>3.6042175</td><td>-30.3856646</td><td>0.0</td><td>3</td><td>0</td><td>--</td><td>-2.0</td><td>99.0</td><td>-2.0</td><td>99.0</td><td>-2.0</td><td>99.0</td><td>22.4871</td><td>0.0012</td><td>22.4941</td><td>0.0018</td><td>22.4872</td><td>0.0017</td><td>22.4936</td><td>0.0016</td><td>1.0</td><td>66666.0</td></tr>\n",
       "<tr><td>5291</td><td>3.5959108</td><td>-30.4041312</td><td>0.0</td><td>3</td><td>0</td><td>--</td><td>26.0001</td><td>0.0297</td><td>-2.0</td><td>99.0</td><td>-2.0</td><td>99.0</td><td>22.5543</td><td>0.001</td><td>22.4272</td><td>0.0013</td><td>22.4009</td><td>0.0013</td><td>22.3727</td><td>0.0011</td><td>1.0</td><td>66666.0</td></tr>\n",
       "<tr><td>8538</td><td>3.5740133</td><td>-30.3948084</td><td>0.0</td><td>2</td><td>0</td><td>--</td><td>26.4703</td><td>0.0349</td><td>25.0687</td><td>0.0114</td><td>-2.0</td><td>99.0</td><td>24.1866</td><td>0.0036</td><td>24.1239</td><td>0.0051</td><td>24.1104</td><td>0.0048</td><td>24.0755</td><td>0.0043</td><td>1.0</td><td>66666.0</td></tr>\n",
       "</table>"
      ],
      "text/plain": [
       "<Table length=514>\n",
       " # ID     RA        DEC        Z    CONFID ...  F160W  F160W_ERR    MU    MU_ERR\n",
       " str5  float64    float64   float64 int64  ... float64  float64  float64 float64\n",
       "----- --------- ----------- ------- ------ ... ------- --------- ------- -------\n",
       "  M39 3.5889097 -30.3821391  6.6439      2 ...      --        --   3.342   0.116\n",
       " 2115 3.5938048 -30.4154482  6.5876      2 ... 26.7002    0.0383    4.08   0.076\n",
       "  M38 3.5801476 -30.4079034  6.5565      2 ...      --        --   3.507   0.104\n",
       "  M37 3.5830603 -30.4118859  6.5195      2 ...      --        --   3.367   0.116\n",
       "10609  3.598419 -30.3872993  6.3755      2 ... 30.0003    0.3039   2.279   0.069\n",
       " 5353 3.6010732 -30.4039891  6.3271      3 ... 28.0404    0.0938   3.812   0.122\n",
       " 2785 3.5676318 -30.4118712  6.2737      2 ... 28.5387    0.1413    1.68   0.028\n",
       "  M36  3.578052 -30.4131601  6.0938      2 ...      --        --   2.134   0.043\n",
       "  M35 3.5685679 -30.3990763  5.9971      2 ...      --        --   2.384   0.064\n",
       "  M34  3.575055 -30.3806918  5.8994      2 ...      --        --   3.321   0.151\n",
       "  ...       ...         ...     ...    ... ...     ...       ...     ...     ...\n",
       "11728 3.5806732 -30.3857573     0.0      3 ...  19.798    0.0003     1.0 66666.0\n",
       " 3677  3.572705 -30.4095762     0.0      3 ... 21.1489    0.0007     1.0 66666.0\n",
       "10078 3.5927519 -30.3915295     0.0      3 ... 20.6292    0.0005     1.0 66666.0\n",
       " 5701 3.5787595 -30.4032138     0.0      3 ... 21.6248    0.0006     1.0 66666.0\n",
       " 3429 3.5761547 -30.4110802     0.0      3 ... 20.6059    0.0005     1.0 66666.0\n",
       "12148 3.6083985 -30.3876614     0.0      3 ... 21.3094    0.0007     1.0 66666.0\n",
       " 7606 3.5763305 -30.3983337     0.0      3 ... 21.4999    0.0008     1.0 66666.0\n",
       "11544 3.6042175 -30.3856646     0.0      3 ... 22.4936    0.0016     1.0 66666.0\n",
       " 5291 3.5959108 -30.4041312     0.0      3 ... 22.3727    0.0011     1.0 66666.0\n",
       " 8538 3.5740133 -30.3948084     0.0      2 ... 24.0755    0.0043     1.0 66666.0"
      ]
     },
     "execution_count": 109,
     "metadata": {},
     "output_type": "execute_result"
    }
   ],
   "source": [
    "raw_astro_deep_cat"
   ]
  },
  {
   "cell_type": "code",
   "execution_count": 123,
   "metadata": {},
   "outputs": [
    {
     "name": "stdout",
     "output_type": "stream",
     "text": [
      "228\n",
      "164\n"
     ]
    }
   ],
   "source": [
    "# Define Column Names \n",
    "col_names = [\n",
    "    'id',\n",
    "    'ra', 'dec',\n",
    "    'zbest',\n",
    "    'surface_brightness',\n",
    "    'r_half_light_arcsec',\n",
    "    \n",
    "] \n",
    "\n",
    "col_names += [\"m_{}\".format(f.replace('MAG_','')) for f in m_vega_mags.keys()] \n",
    "col_names += [\"M_{}\".format(f.replace('MAG_','')) for f in M_vega_mags.keys()]\n",
    "col_names += [\"kcorrect_constant_{}\".format(i) for i in range(len(kcorrect_constants[0]))]\n",
    "\n",
    "# Construct the rows of the catalog\n",
    "final_catalog_rows = [\n",
    "    astro_deep_cat['# ID'],\n",
    "    astro_deep_cat['RA'],\n",
    "    astro_deep_cat['DEC'],\n",
    "    z_best,\n",
    "] \n",
    "final_catalog_rows += [surface_brightness]\n",
    "final_catalog_rows += [r_half_light_arcsec]\n",
    "final_catalog_rows += list(m_vega_mags.values()) \n",
    "final_catalog_rows += list(M_vega_mags.values()) \n",
    "final_catalog_rows += list(map(list, zip(*kcorrect_constants)))    \n",
    "\n",
    "# Make the catalog\n",
    "final_catalog = Table(data=final_catalog_rows, names=col_names)\n",
    "\n",
    "\n",
    "# Mask out sources with missing values\n",
    "# r80 is a good indicator that things failed so we use that column to mask\n",
    "catalog_mask =  (\n",
    "    #np.invert(final_catalog['surface_brightness'].mask) & \n",
    "    np.invert(np.isnan(np.array(surface_brightness, dtype=float))).astype(bool) & \n",
    "    np.invert(np.isnan(radii)).astype(bool) #&\n",
    "    #(final_catalog['m_u'] < 23).astype(bool) # &\n",
    "    #(final_catalog['surface_brightness'] < 25)\n",
    "    #(final_catalog['zbest'] > 0.25).astype(bool)&\n",
    "    #(final_catalog['zbest'] < 0.35).astype(bool)\n",
    ")\n",
    "\n",
    "print(len(final_catalog))\n",
    "final_catalog = final_catalog[catalog_mask]\n",
    "print(len(final_catalog))\n",
    "\n",
    "final_catalog.sort(keys=\"r_half_light_arcsec\", reverse=1)"
   ]
  },
  {
   "cell_type": "code",
   "execution_count": 121,
   "metadata": {},
   "outputs": [
    {
     "data": {
      "text/html": [
       "<i>Table length=58</i>\n",
       "<table id=\"table140319441475568\" class=\"table-striped table-bordered table-condensed\">\n",
       "<thead><tr><th>id</th><th>ra</th><th>dec</th><th>zbest</th><th>surface_brightness</th><th>r_half_light_arcsec</th><th>m_u</th><th>m_b</th><th>m_v</th><th>M_u</th><th>M_b</th><th>M_v</th><th>kcorrect_constant_0</th><th>kcorrect_constant_1</th><th>kcorrect_constant_2</th><th>kcorrect_constant_3</th><th>kcorrect_constant_4</th><th>kcorrect_constant_5</th></tr></thead>\n",
       "<thead><tr><th>str5</th><th>float64</th><th>float64</th><th>float64</th><th>float64</th><th>float64</th><th>float32</th><th>float32</th><th>float32</th><th>float64</th><th>float64</th><th>float64</th><th>float32</th><th>float32</th><th>float32</th><th>float32</th><th>float32</th><th>float32</th></tr></thead>\n",
       "<tr><td>6034</td><td>3.5920311</td><td>-30.4057301</td><td>0.3187</td><td>24.279880566979028</td><td>2.9260658992937474</td><td>21.502674</td><td>21.15447</td><td>20.340223</td><td>-19.6099677333266</td><td>-19.958171392384216</td><td>-20.772418523731872</td><td>0.3187</td><td>3.3987442e-07</td><td>3.1e-44</td><td>6.2326855e-08</td><td>1.8085641e-06</td><td>7.368289e-12</td></tr>\n",
       "<tr><td>7824</td><td>3.5862486</td><td>-30.4001634</td><td>0.2998</td><td>23.488130996432975</td><td>2.292483034156054</td><td>21.116346</td><td>20.829916</td><td>20.100012</td><td>-19.842145257948573</td><td>-20.128575616835292</td><td>-20.85847979163998</td><td>0.2998</td><td>6.7737284e-07</td><td>3.2e-44</td><td>1.4977485e-07</td><td>1.4771881e-06</td><td>3.5156095e-12</td></tr>\n",
       "<tr><td>7954</td><td>3.5865719</td><td>-30.3993588</td><td>0.323</td><td>24.18075855778087</td><td>1.957760011064442</td><td>22.26687</td><td>21.94211</td><td>21.158405</td><td>-18.879671105175298</td><td>-19.204431542187017</td><td>-19.988136299877446</td><td>0.323</td><td>3.8071846e-08</td><td>8.3e-44</td><td>3.136618e-08</td><td>9.309571e-07</td><td>4.0227291e-13</td></tr>\n",
       "<tr><td>10508</td><td>3.600023</td><td>-30.3897178</td><td>0.19</td><td>24.29780091555184</td><td>1.661888767438821</td><td>22.232193</td><td>21.954811</td><td>21.238354</td><td>-17.600757595659708</td><td>-17.878139492632364</td><td>-18.594596859575724</td><td>0.19</td><td>3.2017218e-07</td><td>9.0319595e-34</td><td>6.000837e-08</td><td>3.9205625e-07</td><td>1.3280856e-14</td></tr>\n",
       "<tr><td>10689</td><td>3.5947965</td><td>-30.3916457</td><td>0.3008</td><td>22.69746871785075</td><td>1.4198122953814947</td><td>21.422771</td><td>21.08297</td><td>20.279438</td><td>-19.54409622716919</td><td>-19.88389801549927</td><td>-20.687429662227785</td><td>0.3008</td><td>1.540922e-07</td><td>9.1e-44</td><td>6.2141346e-08</td><td>2.1048309e-06</td><td>6.706729e-12</td></tr>\n",
       "<tr><td>9072</td><td>3.5989643</td><td>-30.3975202</td><td>0.3164</td><td>24.105187119291717</td><td>1.4168236969610337</td><td>22.866829</td><td>22.547037</td><td>21.770023</td><td>-18.227508201423547</td><td>-18.54729999524679</td><td>-19.324313773933312</td><td>0.3164</td><td>1.6947284e-08</td><td>8.3e-44</td><td>1.8635703e-08</td><td>5.2746384e-07</td><td>2.6295914e-13</td></tr>\n",
       "<tr><td>9778</td><td>3.5874299</td><td>-30.393272</td><td>0.6011</td><td>23.244961790278747</td><td>1.3002683585630619</td><td>22.842886</td><td>22.723532</td><td>22.007633</td><td>-19.915135840039625</td><td>-20.0344900880865</td><td>-20.750388601880445</td><td>0.6011</td><td>1.7345859e-07</td><td>7.3214265e-12</td><td>1.3454529e-08</td><td>2.1042432e-07</td><td>7.036783e-09</td></tr>\n",
       "<tr><td>7257</td><td>3.5903377</td><td>-30.4003737</td><td>0.4971</td><td>22.57132686105992</td><td>1.1627928312218643</td><td>22.243418</td><td>22.000874</td><td>21.23019</td><td>-20.013753605659076</td><td>-20.256297779853412</td><td>-21.02698106842763</td><td>0.4971</td><td>4.4254253e-07</td><td>3.2911267e-11</td><td>4.5580823e-08</td><td>4.0160538e-07</td><td>7.999182e-12</td></tr>\n",
       "<tr><td>6892</td><td>3.5879386</td><td>-30.4008481</td><td>0.3153</td><td>23.360999400741665</td><td>1.1358954454377166</td><td>22.536005</td><td>22.279106</td><td>21.593498</td><td>-18.549534566321334</td><td>-18.806433446326217</td><td>-19.492041356482467</td><td>0.3153</td><td>2.7064392e-10</td><td>6.2e-44</td><td>3.7940257e-08</td><td>5.071476e-07</td><td>1.9861542e-14</td></tr>\n",
       "<tr><td>9382</td><td>3.5876617</td><td>-30.3964003</td><td>0.3033</td><td>22.164965289352036</td><td>1.114975256494491</td><td>21.33908</td><td>21.083633</td><td>20.399723</td><td>-19.648616030952624</td><td>-19.904063418647937</td><td>-20.587973788520983</td><td>0.3033</td><td>3.5103986e-07</td><td>3e-44</td><td>1.3169334e-07</td><td>1.1023589e-06</td><td>1.1448222e-10</td></tr>\n",
       "<tr><td>...</td><td>...</td><td>...</td><td>...</td><td>...</td><td>...</td><td>...</td><td>...</td><td>...</td><td>...</td><td>...</td><td>...</td><td>...</td><td>...</td><td>...</td><td>...</td><td>...</td><td>...</td></tr>\n",
       "<tr><td>12195</td><td>3.5783365</td><td>-30.3871017</td><td>0.3077</td><td>21.21879883205917</td><td>0.3887458403225119</td><td>22.524895</td><td>22.440102</td><td>22.02601</td><td>-18.499082660061916</td><td>-18.58387575088223</td><td>-18.99796686111172</td><td>0.3077</td><td>2.2098837e-08</td><td>1.1762167e-37</td><td>6.181907e-08</td><td>7.8343865e-10</td><td>2.1977242e-09</td></tr>\n",
       "<tr><td>5693</td><td>3.58704</td><td>-30.4049494</td><td>0.2986</td><td>21.235421413792253</td><td>0.3857572419020511</td><td>22.783245</td><td>22.443155</td><td>21.639065</td><td>-18.165161428259204</td><td>-18.505251226232836</td><td>-19.309341726110766</td><td>0.2986</td><td>1.7517685e-08</td><td>1.02e-43</td><td>1.6364359e-08</td><td>6.3374694e-07</td><td>8.919905e-12</td></tr>\n",
       "<tr><td>12149</td><td>3.5987676</td><td>-30.3880176</td><td>0.3029</td><td>21.01413666758988</td><td>0.37081424979974703</td><td>22.643353</td><td>22.322016</td><td>21.542864</td><td>-18.34102225348812</td><td>-18.66235899970394</td><td>-19.441510916207847</td><td>0.3029</td><td>9.212733e-09</td><td>9.5e-44</td><td>2.2003558e-08</td><td>6.6719264e-07</td><td>1.7721955e-12</td></tr>\n",
       "<tr><td>10802</td><td>3.5708641</td><td>-30.3820028</td><td>0.3068</td><td>21.242333332331224</td><td>0.3648370529588254</td><td>22.831696</td><td>22.59848</td><td>21.950901</td><td>-18.184899609394606</td><td>-18.418114941425856</td><td>-19.06569413454109</td><td>0.3068</td><td>3.432095e-13</td><td>7e-44</td><td>3.2679747e-08</td><td>3.2172596e-07</td><td>1.0872574e-13</td></tr>\n",
       "<tr><td>10270</td><td>3.5942399</td><td>-30.3904572</td><td>0.3165</td><td>20.957466802358415</td><td>0.3558712576974429</td><td>22.724056</td><td>22.399761</td><td>21.616636</td><td>-18.371079262616583</td><td>-18.695374306561895</td><td>-19.47849923026795</td><td>0.3165</td><td>1.4241672e-10</td><td>8.1e-44</td><td>1.945837e-08</td><td>6.388979e-07</td><td>8.2094786e-13</td></tr>\n",
       "<tr><td>10314</td><td>3.5903418</td><td>-30.3909374</td><td>0.2974</td><td>20.50200415830791</td><td>0.3558712576974429</td><td>22.204666</td><td>21.880829</td><td>21.098356</td><td>-18.73361810543102</td><td>-19.057455385704458</td><td>-19.83992799617809</td><td>0.2974</td><td>4.103599e-08</td><td>9e-44</td><td>3.3530274e-08</td><td>9.801901e-07</td><td>1.413571e-12</td></tr>\n",
       "<tr><td>4556</td><td>3.5917194</td><td>-30.4078061</td><td>0.3195</td><td>20.50140267173637</td><td>0.3200080766519131</td><td>22.53486</td><td>22.184242</td><td>21.366774</td><td>-18.58411974044779</td><td>-18.934738102874547</td><td>-19.752206746063024</td><td>0.3195</td><td>1.8822028e-08</td><td>9.8e-44</td><td>1.8024181e-08</td><td>8.415971e-07</td><td>3.239107e-12</td></tr>\n",
       "<tr><td>11418</td><td>3.5925474</td><td>-30.3853136</td><td>0.3167</td><td>20.144249966012396</td><td>0.27816769876546166</td><td>22.45879</td><td>22.122135</td><td>21.322725</td><td>-18.637941761728378</td><td>-18.974596424814315</td><td>-19.774006291147323</td><td>0.3167</td><td>5.101137e-08</td><td>8.1e-44</td><td>2.4311898e-08</td><td>8.0713585e-07</td><td>7.5325244e-14</td></tr>\n",
       "<tr><td>7229</td><td>3.594463</td><td>-30.4003499</td><td>0.3038</td><td>20.271557076241702</td><td>0.2602361082426967</td><td>22.69457</td><td>22.35138</td><td>21.543312</td><td>-18.297273264050816</td><td>-18.6404644109014</td><td>-19.448531732678745</td><td>0.3038</td><td>2.4024997e-08</td><td>1.01e-43</td><td>1.7393567e-08</td><td>6.9220494e-07</td><td>8.162717e-12</td></tr>\n",
       "<tr><td>7068</td><td>3.6052669</td><td>-30.4008084</td><td>0.3199</td><td>19.597348267688027</td><td>0.23632732087901015</td><td>22.275501</td><td>21.93974</td><td>21.141384</td><td>-18.846642910448672</td><td>-19.182404934374453</td><td>-19.980760036913516</td><td>0.3199</td><td>2.9700628e-08</td><td>1.12e-43</td><td>2.7508458e-08</td><td>9.876986e-07</td><td>6.500294e-12</td></tr>\n",
       "</table>"
      ],
      "text/plain": [
       "<Table length=58>\n",
       "  id      ra        dec     ... kcorrect_constant_4 kcorrect_constant_5\n",
       " str5  float64    float64   ...       float32             float32      \n",
       "----- --------- ----------- ... ------------------- -------------------\n",
       " 6034 3.5920311 -30.4057301 ...       1.8085641e-06        7.368289e-12\n",
       " 7824 3.5862486 -30.4001634 ...       1.4771881e-06       3.5156095e-12\n",
       " 7954 3.5865719 -30.3993588 ...        9.309571e-07       4.0227291e-13\n",
       "10508  3.600023 -30.3897178 ...       3.9205625e-07       1.3280856e-14\n",
       "10689 3.5947965 -30.3916457 ...       2.1048309e-06        6.706729e-12\n",
       " 9072 3.5989643 -30.3975202 ...       5.2746384e-07       2.6295914e-13\n",
       " 9778 3.5874299  -30.393272 ...       2.1042432e-07        7.036783e-09\n",
       " 7257 3.5903377 -30.4003737 ...       4.0160538e-07        7.999182e-12\n",
       " 6892 3.5879386 -30.4008481 ...        5.071476e-07       1.9861542e-14\n",
       " 9382 3.5876617 -30.3964003 ...       1.1023589e-06       1.1448222e-10\n",
       "  ...       ...         ... ...                 ...                 ...\n",
       "12195 3.5783365 -30.3871017 ...       7.8343865e-10       2.1977242e-09\n",
       " 5693   3.58704 -30.4049494 ...       6.3374694e-07        8.919905e-12\n",
       "12149 3.5987676 -30.3880176 ...       6.6719264e-07       1.7721955e-12\n",
       "10802 3.5708641 -30.3820028 ...       3.2172596e-07       1.0872574e-13\n",
       "10270 3.5942399 -30.3904572 ...        6.388979e-07       8.2094786e-13\n",
       "10314 3.5903418 -30.3909374 ...        9.801901e-07        1.413571e-12\n",
       " 4556 3.5917194 -30.4078061 ...        8.415971e-07        3.239107e-12\n",
       "11418 3.5925474 -30.3853136 ...       8.0713585e-07       7.5325244e-14\n",
       " 7229  3.594463 -30.4003499 ...       6.9220494e-07        8.162717e-12\n",
       " 7068 3.6052669 -30.4008084 ...        9.876986e-07        6.500294e-12"
      ]
     },
     "execution_count": 121,
     "metadata": {},
     "output_type": "execute_result"
    }
   ],
   "source": [
    "final_catalog"
   ]
  },
  {
   "cell_type": "code",
   "execution_count": 122,
   "metadata": {
    "scrolled": true
   },
   "outputs": [
    {
     "data": {
      "text/html": [
       "<i>Table length=58</i>\n",
       "<table id=\"table140319441475568\" class=\"table-striped table-bordered table-condensed\">\n",
       "<thead><tr><th>id</th><th>ra</th><th>dec</th><th>zbest</th><th>surface_brightness</th><th>r_half_light_arcsec</th><th>m_u</th><th>m_b</th><th>m_v</th><th>M_u</th><th>M_b</th><th>M_v</th><th>kcorrect_constant_0</th><th>kcorrect_constant_1</th><th>kcorrect_constant_2</th><th>kcorrect_constant_3</th><th>kcorrect_constant_4</th><th>kcorrect_constant_5</th></tr></thead>\n",
       "<thead><tr><th>str5</th><th>float64</th><th>float64</th><th>float64</th><th>float64</th><th>float64</th><th>float32</th><th>float32</th><th>float32</th><th>float64</th><th>float64</th><th>float64</th><th>float32</th><th>float32</th><th>float32</th><th>float32</th><th>float32</th><th>float32</th></tr></thead>\n",
       "<tr><td>6034</td><td>3.5920311</td><td>-30.4057301</td><td>0.3187</td><td>24.279880566979028</td><td>2.9260658992937474</td><td>21.502674</td><td>21.15447</td><td>20.340223</td><td>-19.6099677333266</td><td>-19.958171392384216</td><td>-20.772418523731872</td><td>0.3187</td><td>3.3987442e-07</td><td>3.1e-44</td><td>6.2326855e-08</td><td>1.8085641e-06</td><td>7.368289e-12</td></tr>\n",
       "<tr><td>7824</td><td>3.5862486</td><td>-30.4001634</td><td>0.2998</td><td>23.488130996432975</td><td>2.292483034156054</td><td>21.116346</td><td>20.829916</td><td>20.100012</td><td>-19.842145257948573</td><td>-20.128575616835292</td><td>-20.85847979163998</td><td>0.2998</td><td>6.7737284e-07</td><td>3.2e-44</td><td>1.4977485e-07</td><td>1.4771881e-06</td><td>3.5156095e-12</td></tr>\n",
       "<tr><td>7954</td><td>3.5865719</td><td>-30.3993588</td><td>0.323</td><td>24.18075855778087</td><td>1.957760011064442</td><td>22.26687</td><td>21.94211</td><td>21.158405</td><td>-18.879671105175298</td><td>-19.204431542187017</td><td>-19.988136299877446</td><td>0.323</td><td>3.8071846e-08</td><td>8.3e-44</td><td>3.136618e-08</td><td>9.309571e-07</td><td>4.0227291e-13</td></tr>\n",
       "<tr><td>10508</td><td>3.600023</td><td>-30.3897178</td><td>0.19</td><td>24.29780091555184</td><td>1.661888767438821</td><td>22.232193</td><td>21.954811</td><td>21.238354</td><td>-17.600757595659708</td><td>-17.878139492632364</td><td>-18.594596859575724</td><td>0.19</td><td>3.2017218e-07</td><td>9.0319595e-34</td><td>6.000837e-08</td><td>3.9205625e-07</td><td>1.3280856e-14</td></tr>\n",
       "<tr><td>10689</td><td>3.5947965</td><td>-30.3916457</td><td>0.3008</td><td>22.69746871785075</td><td>1.4198122953814947</td><td>21.422771</td><td>21.08297</td><td>20.279438</td><td>-19.54409622716919</td><td>-19.88389801549927</td><td>-20.687429662227785</td><td>0.3008</td><td>1.540922e-07</td><td>9.1e-44</td><td>6.2141346e-08</td><td>2.1048309e-06</td><td>6.706729e-12</td></tr>\n",
       "<tr><td>9072</td><td>3.5989643</td><td>-30.3975202</td><td>0.3164</td><td>24.105187119291717</td><td>1.4168236969610337</td><td>22.866829</td><td>22.547037</td><td>21.770023</td><td>-18.227508201423547</td><td>-18.54729999524679</td><td>-19.324313773933312</td><td>0.3164</td><td>1.6947284e-08</td><td>8.3e-44</td><td>1.8635703e-08</td><td>5.2746384e-07</td><td>2.6295914e-13</td></tr>\n",
       "<tr><td>9778</td><td>3.5874299</td><td>-30.393272</td><td>0.6011</td><td>23.244961790278747</td><td>1.3002683585630619</td><td>22.842886</td><td>22.723532</td><td>22.007633</td><td>-19.915135840039625</td><td>-20.0344900880865</td><td>-20.750388601880445</td><td>0.6011</td><td>1.7345859e-07</td><td>7.3214265e-12</td><td>1.3454529e-08</td><td>2.1042432e-07</td><td>7.036783e-09</td></tr>\n",
       "<tr><td>7257</td><td>3.5903377</td><td>-30.4003737</td><td>0.4971</td><td>22.57132686105992</td><td>1.1627928312218643</td><td>22.243418</td><td>22.000874</td><td>21.23019</td><td>-20.013753605659076</td><td>-20.256297779853412</td><td>-21.02698106842763</td><td>0.4971</td><td>4.4254253e-07</td><td>3.2911267e-11</td><td>4.5580823e-08</td><td>4.0160538e-07</td><td>7.999182e-12</td></tr>\n",
       "<tr><td>6892</td><td>3.5879386</td><td>-30.4008481</td><td>0.3153</td><td>23.360999400741665</td><td>1.1358954454377166</td><td>22.536005</td><td>22.279106</td><td>21.593498</td><td>-18.549534566321334</td><td>-18.806433446326217</td><td>-19.492041356482467</td><td>0.3153</td><td>2.7064392e-10</td><td>6.2e-44</td><td>3.7940257e-08</td><td>5.071476e-07</td><td>1.9861542e-14</td></tr>\n",
       "<tr><td>9382</td><td>3.5876617</td><td>-30.3964003</td><td>0.3033</td><td>22.164965289352036</td><td>1.114975256494491</td><td>21.33908</td><td>21.083633</td><td>20.399723</td><td>-19.648616030952624</td><td>-19.904063418647937</td><td>-20.587973788520983</td><td>0.3033</td><td>3.5103986e-07</td><td>3e-44</td><td>1.3169334e-07</td><td>1.1023589e-06</td><td>1.1448222e-10</td></tr>\n",
       "<tr><td>...</td><td>...</td><td>...</td><td>...</td><td>...</td><td>...</td><td>...</td><td>...</td><td>...</td><td>...</td><td>...</td><td>...</td><td>...</td><td>...</td><td>...</td><td>...</td><td>...</td><td>...</td></tr>\n",
       "<tr><td>12195</td><td>3.5783365</td><td>-30.3871017</td><td>0.3077</td><td>21.21879883205917</td><td>0.3887458403225119</td><td>22.524895</td><td>22.440102</td><td>22.02601</td><td>-18.499082660061916</td><td>-18.58387575088223</td><td>-18.99796686111172</td><td>0.3077</td><td>2.2098837e-08</td><td>1.1762167e-37</td><td>6.181907e-08</td><td>7.8343865e-10</td><td>2.1977242e-09</td></tr>\n",
       "<tr><td>5693</td><td>3.58704</td><td>-30.4049494</td><td>0.2986</td><td>21.235421413792253</td><td>0.3857572419020511</td><td>22.783245</td><td>22.443155</td><td>21.639065</td><td>-18.165161428259204</td><td>-18.505251226232836</td><td>-19.309341726110766</td><td>0.2986</td><td>1.7517685e-08</td><td>1.02e-43</td><td>1.6364359e-08</td><td>6.3374694e-07</td><td>8.919905e-12</td></tr>\n",
       "<tr><td>12149</td><td>3.5987676</td><td>-30.3880176</td><td>0.3029</td><td>21.01413666758988</td><td>0.37081424979974703</td><td>22.643353</td><td>22.322016</td><td>21.542864</td><td>-18.34102225348812</td><td>-18.66235899970394</td><td>-19.441510916207847</td><td>0.3029</td><td>9.212733e-09</td><td>9.5e-44</td><td>2.2003558e-08</td><td>6.6719264e-07</td><td>1.7721955e-12</td></tr>\n",
       "<tr><td>10802</td><td>3.5708641</td><td>-30.3820028</td><td>0.3068</td><td>21.242333332331224</td><td>0.3648370529588254</td><td>22.831696</td><td>22.59848</td><td>21.950901</td><td>-18.184899609394606</td><td>-18.418114941425856</td><td>-19.06569413454109</td><td>0.3068</td><td>3.432095e-13</td><td>7e-44</td><td>3.2679747e-08</td><td>3.2172596e-07</td><td>1.0872574e-13</td></tr>\n",
       "<tr><td>10270</td><td>3.5942399</td><td>-30.3904572</td><td>0.3165</td><td>20.957466802358415</td><td>0.3558712576974429</td><td>22.724056</td><td>22.399761</td><td>21.616636</td><td>-18.371079262616583</td><td>-18.695374306561895</td><td>-19.47849923026795</td><td>0.3165</td><td>1.4241672e-10</td><td>8.1e-44</td><td>1.945837e-08</td><td>6.388979e-07</td><td>8.2094786e-13</td></tr>\n",
       "<tr><td>10314</td><td>3.5903418</td><td>-30.3909374</td><td>0.2974</td><td>20.50200415830791</td><td>0.3558712576974429</td><td>22.204666</td><td>21.880829</td><td>21.098356</td><td>-18.73361810543102</td><td>-19.057455385704458</td><td>-19.83992799617809</td><td>0.2974</td><td>4.103599e-08</td><td>9e-44</td><td>3.3530274e-08</td><td>9.801901e-07</td><td>1.413571e-12</td></tr>\n",
       "<tr><td>4556</td><td>3.5917194</td><td>-30.4078061</td><td>0.3195</td><td>20.50140267173637</td><td>0.3200080766519131</td><td>22.53486</td><td>22.184242</td><td>21.366774</td><td>-18.58411974044779</td><td>-18.934738102874547</td><td>-19.752206746063024</td><td>0.3195</td><td>1.8822028e-08</td><td>9.8e-44</td><td>1.8024181e-08</td><td>8.415971e-07</td><td>3.239107e-12</td></tr>\n",
       "<tr><td>11418</td><td>3.5925474</td><td>-30.3853136</td><td>0.3167</td><td>20.144249966012396</td><td>0.27816769876546166</td><td>22.45879</td><td>22.122135</td><td>21.322725</td><td>-18.637941761728378</td><td>-18.974596424814315</td><td>-19.774006291147323</td><td>0.3167</td><td>5.101137e-08</td><td>8.1e-44</td><td>2.4311898e-08</td><td>8.0713585e-07</td><td>7.5325244e-14</td></tr>\n",
       "<tr><td>7229</td><td>3.594463</td><td>-30.4003499</td><td>0.3038</td><td>20.271557076241702</td><td>0.2602361082426967</td><td>22.69457</td><td>22.35138</td><td>21.543312</td><td>-18.297273264050816</td><td>-18.6404644109014</td><td>-19.448531732678745</td><td>0.3038</td><td>2.4024997e-08</td><td>1.01e-43</td><td>1.7393567e-08</td><td>6.9220494e-07</td><td>8.162717e-12</td></tr>\n",
       "<tr><td>7068</td><td>3.6052669</td><td>-30.4008084</td><td>0.3199</td><td>19.597348267688027</td><td>0.23632732087901015</td><td>22.275501</td><td>21.93974</td><td>21.141384</td><td>-18.846642910448672</td><td>-19.182404934374453</td><td>-19.980760036913516</td><td>0.3199</td><td>2.9700628e-08</td><td>1.12e-43</td><td>2.7508458e-08</td><td>9.876986e-07</td><td>6.500294e-12</td></tr>\n",
       "</table>"
      ],
      "text/plain": [
       "<Table length=58>\n",
       "  id      ra        dec     ... kcorrect_constant_4 kcorrect_constant_5\n",
       " str5  float64    float64   ...       float32             float32      \n",
       "----- --------- ----------- ... ------------------- -------------------\n",
       " 6034 3.5920311 -30.4057301 ...       1.8085641e-06        7.368289e-12\n",
       " 7824 3.5862486 -30.4001634 ...       1.4771881e-06       3.5156095e-12\n",
       " 7954 3.5865719 -30.3993588 ...        9.309571e-07       4.0227291e-13\n",
       "10508  3.600023 -30.3897178 ...       3.9205625e-07       1.3280856e-14\n",
       "10689 3.5947965 -30.3916457 ...       2.1048309e-06        6.706729e-12\n",
       " 9072 3.5989643 -30.3975202 ...       5.2746384e-07       2.6295914e-13\n",
       " 9778 3.5874299  -30.393272 ...       2.1042432e-07        7.036783e-09\n",
       " 7257 3.5903377 -30.4003737 ...       4.0160538e-07        7.999182e-12\n",
       " 6892 3.5879386 -30.4008481 ...        5.071476e-07       1.9861542e-14\n",
       " 9382 3.5876617 -30.3964003 ...       1.1023589e-06       1.1448222e-10\n",
       "  ...       ...         ... ...                 ...                 ...\n",
       "12195 3.5783365 -30.3871017 ...       7.8343865e-10       2.1977242e-09\n",
       " 5693   3.58704 -30.4049494 ...       6.3374694e-07        8.919905e-12\n",
       "12149 3.5987676 -30.3880176 ...       6.6719264e-07       1.7721955e-12\n",
       "10802 3.5708641 -30.3820028 ...       3.2172596e-07       1.0872574e-13\n",
       "10270 3.5942399 -30.3904572 ...        6.388979e-07       8.2094786e-13\n",
       "10314 3.5903418 -30.3909374 ...        9.801901e-07        1.413571e-12\n",
       " 4556 3.5917194 -30.4078061 ...        8.415971e-07        3.239107e-12\n",
       "11418 3.5925474 -30.3853136 ...       8.0713585e-07       7.5325244e-14\n",
       " 7229  3.594463 -30.4003499 ...       6.9220494e-07        8.162717e-12\n",
       " 7068 3.6052669 -30.4008084 ...        9.876986e-07        6.500294e-12"
      ]
     },
     "execution_count": 122,
     "metadata": {},
     "output_type": "execute_result"
    }
   ],
   "source": [
    "final_catalog"
   ]
  },
  {
   "cell_type": "markdown",
   "metadata": {},
   "source": [
    "# Cluster Catalog"
   ]
  },
  {
   "cell_type": "code",
   "execution_count": 113,
   "metadata": {},
   "outputs": [
    {
     "name": "stderr",
     "output_type": "stream",
     "text": [
      "/opt/conda/envs/lcbg/lib/python3.8/site-packages/astropy/table/column.py:1020: FutureWarning: elementwise comparison failed; returning scalar instead, but in the future will perform elementwise comparison\n",
      "  result = getattr(super(), op)(other)\n"
     ]
    }
   ],
   "source": [
    "cluster_mask = np.array([np.where(final_catalog['id'] == ID )[0][0] for ID in range(100001, 100016) if len(np.where(final_catalog['id'] == ID )[0])])\n",
    "\n",
    "cluster_catalog = final_catalog[cluster_mask]\n",
    "\n",
    "cluster_M_B = np.array(cluster_catalog['M_b'])\n",
    "cluster_M_V = np.array(cluster_catalog['M_v'])\n",
    "cluster_B_minus_V = cluster_M_B - cluster_M_V\n",
    "cluster_sb = cluster_catalog['surface_brightness']"
   ]
  },
  {
   "cell_type": "markdown",
   "metadata": {},
   "source": [
    "# LCBG Catalog"
   ]
  },
  {
   "cell_type": "code",
   "execution_count": 114,
   "metadata": {},
   "outputs": [
    {
     "data": {
      "text/plain": [
       "1"
      ]
     },
     "execution_count": 114,
     "metadata": {},
     "output_type": "execute_result"
    }
   ],
   "source": [
    "M_B = np.array(final_catalog['M_b'])\n",
    "M_V = np.array(final_catalog['M_v'])\n",
    "B_minus_V = M_B-M_V\n",
    "sb = final_catalog['surface_brightness']\n",
    "\n",
    "r_half_light_arcsec_list = final_catalog['r_half_light_arcsec']\n",
    "lcbg_mask = np.where(\n",
    "    (B_minus_V < 0.5).astype(int) & \n",
    "    (sb < 21).astype(int) & \n",
    "    (M_B < -18.5).astype(int) & \n",
    "    \n",
    "    #(final_catalog['zbest'] < 0.5).astype(int)&\n",
    "    #(final_catalog['zbest'] > 0.1).astype(int)&\n",
    "    \n",
    "    #(r_half_light_arcsec_list < 0.5).astype(int) & # Guzman et al. (1997) and Phillips et al. (1997)\n",
    "    (0.2 < r_half_light_arcsec_list).astype(int)   # Remove star like objects\n",
    ")\n",
    "\n",
    "lcbg_catalog = final_catalog[lcbg_mask]\n",
    "len(lcbg_catalog)"
   ]
  },
  {
   "cell_type": "markdown",
   "metadata": {},
   "source": [
    "# Save Catalog"
   ]
  },
  {
   "cell_type": "code",
   "execution_count": 115,
   "metadata": {},
   "outputs": [],
   "source": [
    "output_catalog_filename = \"astrodeep_abell370_catalog.csv\"\n",
    "output_lcbg_catalog_filename = \"astrodeep_abell370_lcbg_catalog.csv\""
   ]
  },
  {
   "cell_type": "code",
   "execution_count": 116,
   "metadata": {},
   "outputs": [],
   "source": [
    "#final_catalog.write(output_catalog_filename, format=\"ascii.csv\", overwrite=True)\n",
    "#lcbg_catalog.write(output_lcbg_catalog_filename, format=\"ascii.csv\", overwrite=True)"
   ]
  },
  {
   "cell_type": "markdown",
   "metadata": {},
   "source": [
    "# Plots"
   ]
  },
  {
   "cell_type": "markdown",
   "metadata": {},
   "source": [
    "### Plot B-V vs M<sub>b</sub> "
   ]
  },
  {
   "cell_type": "code",
   "execution_count": 117,
   "metadata": {},
   "outputs": [
    {
     "data": {
      "text/plain": [
       "<matplotlib.legend.Legend at 0x7f9eaa34ffa0>"
      ]
     },
     "execution_count": 117,
     "metadata": {},
     "output_type": "execute_result"
    },
    {
     "data": {
      "image/png": "[encoded data removed]",
      "text/plain": [
       "<Figure size 864x864 with 1 Axes>"
      ]
     },
     "metadata": {
      "needs_background": "light"
     },
     "output_type": "display_data"
    }
   ],
   "source": [
    "plt.scatter(M_B, B_minus_V, color=\"gray\", marker='x')\n",
    "\n",
    "plt.axvline(-18.5, label='M_B = -18.5', linestyle='--')\n",
    "plt.axhline(0.5, label='B-V = 0.5', linestyle='--')\n",
    "\n",
    "plt.scatter(M_B[lcbg_mask], B_minus_V[lcbg_mask], label='LCBG Candidates', c='b', marker='x')\n",
    "plt.scatter(cluster_M_B, cluster_B_minus_V, label='Cluster CD Galaxies', c='r', marker='x')\n",
    "\n",
    "plt.xlabel('M_B')\n",
    "plt.ylabel('(B-V)0')\n",
    "\n",
    "plt.xlim(-14, -24)\n",
    "plt.ylim(1.2, -0)\n",
    "\n",
    "plt.legend()\n"
   ]
  },
  {
   "cell_type": "markdown",
   "metadata": {},
   "source": [
    "### Plot Surface Brightness Vs M_B"
   ]
  },
  {
   "cell_type": "code",
   "execution_count": 118,
   "metadata": {},
   "outputs": [
    {
     "data": {
      "text/plain": [
       "<matplotlib.legend.Legend at 0x7f9eaa7eb0d0>"
      ]
     },
     "execution_count": 118,
     "metadata": {},
     "output_type": "execute_result"
    },
    {
     "data": {
      "image/png": "[encoded data removed]",
      "text/plain": [
       "<Figure size 864x864 with 1 Axes>"
      ]
     },
     "metadata": {
      "needs_background": "light"
     },
     "output_type": "display_data"
    }
   ],
   "source": [
    "plt.scatter(M_B, sb, color=\"gray\", marker='x')\n",
    "\n",
    "plt.axvline(-18.5, label='M_B = -18.5', linestyle='--')\n",
    "plt.axhline(21, label='Surface Brightness = 21', linestyle='--')\n",
    "\n",
    "plt.scatter(M_B[lcbg_mask], sb[lcbg_mask], label='LCBG Candidates', c='b', marker='x')\n",
    "plt.scatter(cluster_M_B, cluster_sb, label='Cluster CD Galaxies', c='r', marker='x')\n",
    "\n",
    "plt.xlabel('M_B')\n",
    "plt.ylabel('Surface Brightness [mag arcsec -2]')\n",
    "\n",
    "plt.xlim(-14, -24)\n",
    "plt.ylim(24, 17)\n",
    "\n",
    "plt.legend()"
   ]
  },
  {
   "cell_type": "markdown",
   "metadata": {},
   "source": [
    "### Plot Surface Brightness Vs B-V"
   ]
  },
  {
   "cell_type": "code",
   "execution_count": 119,
   "metadata": {},
   "outputs": [
    {
     "data": {
      "text/plain": [
       "<matplotlib.legend.Legend at 0x7f9eaa8a0f40>"
      ]
     },
     "execution_count": 119,
     "metadata": {},
     "output_type": "execute_result"
    },
    {
     "data": {
      "image/png": "[encoded data removed]",
      "text/plain": [
       "<Figure size 864x864 with 1 Axes>"
      ]
     },
     "metadata": {
      "needs_background": "light"
     },
     "output_type": "display_data"
    }
   ],
   "source": [
    "plt.scatter(B_minus_V, sb, color=\"gray\", marker='x')\n",
    "\n",
    "plt.axvline(0.5, label='B-V = 0.5', linestyle='--')\n",
    "plt.axhline(21, label='Surface Brightness = 21', linestyle='--')\n",
    "\n",
    "plt.scatter(B_minus_V[lcbg_mask], sb[lcbg_mask], label='LCBG Candidates', c='b', marker='x')\n",
    "plt.scatter(cluster_B_minus_V, cluster_sb, label='Cluster CD Galaxies', c='r', marker='x')\n",
    "\n",
    "plt.xlabel('(B-V)0')\n",
    "plt.ylabel('Surface Brightness [mag arcsec -2]')\n",
    "\n",
    "plt.xlim(1.25, 0.)\n",
    "plt.ylim(30, 16)\n",
    "\n",
    "plt.legend()"
   ]
  },
  {
   "cell_type": "markdown",
   "metadata": {},
   "source": [
    "# Save plots"
   ]
  },
  {
   "cell_type": "code",
   "execution_count": 62,
   "metadata": {},
   "outputs": [],
   "source": [
    "Table([M_B, B_minus_V, sb], names=['M_B', 'B_minus_V', 'sb']).write('robel_B_minus_V_vs_sb.dat', format='ascii', overwrite=True)"
   ]
  },
  {
   "cell_type": "markdown",
   "metadata": {},
   "source": [
    "## Plot (MAG_I814 - MAG_Y105) Vs. MAG_I814"
   ]
  },
  {
   "cell_type": "code",
   "execution_count": 81,
   "metadata": {},
   "outputs": [
    {
     "data": {
      "text/plain": [
       "Text(0, 0.5, 'm_I814')"
      ]
     },
     "execution_count": 81,
     "metadata": {},
     "output_type": "execute_result"
    },
    {
     "data": {
      "image/png": "[encoded data removed]",
      "text/plain": [
       "<Figure size 864x864 with 1 Axes>"
      ]
     },
     "metadata": {
      "needs_background": "light"
     },
     "output_type": "display_data"
    }
   ],
   "source": [
    "plt.scatter(mags['F814W'][catalog_mask]-mags['F105W'][catalog_mask], \n",
    "            mags['F814W'][catalog_mask])\n",
    "plt.ylim(28, 18)\n",
    "plt.xlim(-0.5, 1);\n",
    "plt.xlabel(\"m_I814 - m_Y105\")\n",
    "plt.ylabel(\"m_I814\")"
   ]
  },
  {
   "cell_type": "markdown",
   "metadata": {},
   "source": [
    "`https://arxiv.org/pdf/1706.02521.pdf`"
   ]
  },
  {
   "cell_type": "markdown",
   "metadata": {},
   "source": [
    "# Other"
   ]
  },
  {
   "cell_type": "code",
   "execution_count": 39,
   "metadata": {},
   "outputs": [
    {
     "ename": "NameError",
     "evalue": "name 'j' is not defined",
     "output_type": "error",
     "traceback": [
      "\u001b[0;31m---------------------------------------------------------------------------\u001b[0m",
      "\u001b[0;31mNameError\u001b[0m                                 Traceback (most recent call last)",
      "\u001b[0;32m<ipython-input-39-85bd188fed0c>\u001b[0m in \u001b[0;36m<module>\u001b[0;34m\u001b[0m\n\u001b[0;32m----> 1\u001b[0;31m \u001b[0mplt\u001b[0m\u001b[0;34m.\u001b[0m\u001b[0mscatter\u001b[0m\u001b[0;34m(\u001b[0m\u001b[0mj\u001b[0m\u001b[0;34m[\u001b[0m\u001b[0;34m'MAG_I814'\u001b[0m\u001b[0;34m]\u001b[0m\u001b[0;34m-\u001b[0m\u001b[0mmags\u001b[0m\u001b[0;34m[\u001b[0m\u001b[0;34m'MAG_Y105'\u001b[0m\u001b[0;34m]\u001b[0m\u001b[0;34m,\u001b[0m \u001b[0mmags\u001b[0m\u001b[0;34m[\u001b[0m \u001b[0;34m'MAG_I814'\u001b[0m\u001b[0;34m]\u001b[0m\u001b[0;34m)\u001b[0m\u001b[0;34m\u001b[0m\u001b[0;34m\u001b[0m\u001b[0m\n\u001b[0m\u001b[1;32m      2\u001b[0m \u001b[0mplt\u001b[0m\u001b[0;34m.\u001b[0m\u001b[0mylim\u001b[0m\u001b[0;34m(\u001b[0m\u001b[0;36m28\u001b[0m\u001b[0;34m,\u001b[0m \u001b[0;36m18\u001b[0m\u001b[0;34m)\u001b[0m\u001b[0;34m\u001b[0m\u001b[0;34m\u001b[0m\u001b[0m\n\u001b[1;32m      3\u001b[0m \u001b[0mplt\u001b[0m\u001b[0;34m.\u001b[0m\u001b[0mxlim\u001b[0m\u001b[0;34m(\u001b[0m\u001b[0;34m-\u001b[0m\u001b[0;36m0.5\u001b[0m\u001b[0;34m,\u001b[0m \u001b[0;36m1\u001b[0m\u001b[0;34m)\u001b[0m\u001b[0;34m;\u001b[0m\u001b[0;34m\u001b[0m\u001b[0;34m\u001b[0m\u001b[0m\n\u001b[1;32m      4\u001b[0m \u001b[0mplt\u001b[0m\u001b[0;34m.\u001b[0m\u001b[0mxlabel\u001b[0m\u001b[0;34m(\u001b[0m\u001b[0;34m\"m_I814 - m_Y105\"\u001b[0m\u001b[0;34m)\u001b[0m\u001b[0;34m\u001b[0m\u001b[0;34m\u001b[0m\u001b[0m\n\u001b[1;32m      5\u001b[0m \u001b[0mplt\u001b[0m\u001b[0;34m.\u001b[0m\u001b[0mylabel\u001b[0m\u001b[0;34m(\u001b[0m\u001b[0;34m\"m_I814\"\u001b[0m\u001b[0;34m)\u001b[0m\u001b[0;34m\u001b[0m\u001b[0;34m\u001b[0m\u001b[0m\n",
      "\u001b[0;31mNameError\u001b[0m: name 'j' is not defined"
     ]
    }
   ],
   "source": [
    "plt.scatter(j['MAG_I814']-mags['MAG_Y105'], mags[ 'MAG_I814'])\n",
    "plt.ylim(28, 18)\n",
    "plt.xlim(-0.5, 1);\n",
    "plt.xlabel(\"m_I814 - m_Y105\")\n",
    "plt.ylabel(\"m_I814\")"
   ]
  },
  {
   "cell_type": "code",
   "execution_count": null,
   "metadata": {},
   "outputs": [],
   "source": [
    "plt.scatter(M_B, sb, color=\"gray\", marker='x')\n",
    "\n",
    "plt.axvline(-18.5, label='M_B = -18.5', linestyle='--')\n",
    "plt.axhline(21, label='Surface Brightness = 21', linestyle='--')\n",
    "\n",
    "plt.scatter(M_B[lcbg_mask], sb[lcbg_mask], label='LCBG Candidates', c='b', marker='x')\n",
    "plt.scatter(cluster_M_B, cluster_sb, label='Cluster CD Galaxies', c='r', marker='x')\n",
    "\n",
    "plt.xlabel('M_B')\n",
    "plt.ylabel('Surface Brightness [mag arcsec -2]')\n",
    "\n",
    "plt.xlim(-14, -24)\n",
    "#plt.ylim(30, 16)\n",
    "\n",
    "plt.legend()"
   ]
  },
  {
   "cell_type": "code",
   "execution_count": null,
   "metadata": {},
   "outputs": [],
   "source": [
    "plt.scatter(M_B, sb, color=\"gray\", marker='x')\n",
    "\n",
    "plt.axvline(-18.5, label='M_B = -18.5', linestyle='--')\n",
    "plt.axhline(21, label='Surface Brightness = 21', linestyle='--')\n",
    "\n",
    "plt.scatter(M_B[lcbg_mask], sb[lcbg_mask], label='LCBG Candidates', c='b', marker='x')\n",
    "#plt.scatter(cluster_M_B, cluster_sb, label='Cluster CD Galaxies', c='r', marker='x')\n",
    "\n",
    "plt.xlabel('M_B')\n",
    "plt.ylabel('Surface Brightness [mag arcsec -2]')\n",
    "\n",
    "plt.xlim(-14, -30)\n",
    "plt.ylim(11, 30)\n",
    "##plt.ylim(30, 16)\n",
    "\n",
    "plt.legend()"
   ]
  },
  {
   "cell_type": "code",
   "execution_count": null,
   "metadata": {},
   "outputs": [],
   "source": [
    "[np.array(r_half_light_arcsec)[np.where(~np.isnan(r_half_light_arcsec))].min(),\n",
    "np.array(r_half_light_arcsec)[np.where(~np.isnan(r_half_light_arcsec))].max(),\n",
    "np.array(r_half_light_arcsec)[np.where(~np.isnan(r_half_light_arcsec))].mean()]"
   ]
  },
  {
   "cell_type": "code",
   "execution_count": null,
   "metadata": {},
   "outputs": [],
   "source": []
  },
  {
   "cell_type": "code",
   "execution_count": null,
   "metadata": {},
   "outputs": [],
   "source": [
    "\"\"\"\n",
    "input_catalog_formatter = \"hlsp_frontier_hst_wfc3-60mas_abell2744_{}_v1.0_drz_catalog_petrosian.csv\"\n",
    "robel_cat = Table.read(input_catalog_formatter.format('f105w'))\n",
    "\n",
    "robel_ra, robel_dec = np.array([ coord.split(',') for coord in robel_cat['sky_centroid']]).astype(float).transpose()\n",
    "\n",
    "radii = []\n",
    "for row in astro_deep_cat:\n",
    "    ra, dec = row['RA'], row['DEC'] \n",
    "    \n",
    "    coord_delta = ((robel_ra - ra)**2 + (robel_dec - dec)**2)\n",
    "    if coord_delta.min() > 1e-06:\n",
    "        radii.append(np.nan)\n",
    "        continue\n",
    "        print(coord_delta.min())\n",
    "    idx = coord_delta.argmin()\n",
    "    \n",
    "    radii.append(robel_cat[idx]['r_half_light_arcsec'])\n",
    "\n",
    "radii = np.array(radii)\n",
    "\"\"\";"
   ]
  },
  {
   "cell_type": "code",
   "execution_count": null,
   "metadata": {
    "scrolled": true
   },
   "outputs": [],
   "source": [
    "\"\"\"\n",
    "robel_cat = Table.read('hlsp_frontier_hst_wfc3-60mas_abell2744_f105w_v1.0_drz_catalog_fine_petrosian.csv')\n",
    "robel_ra, robel_dec = np.array([ coord.split(',') for coord in robel_cat['sky_centroid']]).astype(float).transpose()\n",
    "\n",
    "radii = np.zeros_like(z_best)\n",
    "radii[:] = np.nan\n",
    "\n",
    "for col, [ra, dec] in enumerate(zip(robel_ra, robel_dec)):\n",
    "    \n",
    "    coord_delta = ((astro_deep_cat['RA'] - ra)**2 + (astro_deep_cat['DEC'] - dec)**2)\n",
    "    if coord_delta.min() > 1e-05:\n",
    "        print(coord_delta.min())\n",
    "        continue\n",
    "    idx = coord_delta.argmin()\n",
    "    \n",
    "    if not isinstance(robel_cat[col]['r_half_light_arcsec'], float):\n",
    "        #radii[idx] = robel_cat[col]['semimajor_axis_sigma']\n",
    "        radii[idx] = np.nan\n",
    "    else:\n",
    "        radii[idx] = robel_cat[col]['r_half_light_arcsec']\n",
    "        \n",
    "    if astro_deep_cat['ID'][idx]  == 100013:\n",
    "        print(radii[idx], robel_cat[col]['id'])\n",
    "\n",
    "radii = np.array(radii)\n",
    "#radii[np.where(np.isnan(radii))] = 0.308\n",
    "print(\"Num sources with radii matchs: \", np.where(sep2d.arcsec > 0.1)[0].shape[0])\n",
    "\n",
    "print(\"Fraction sources with radii matchs: \", 1 - np.where(sep2d.arcsec > 0.1)[0].shape[0] / len(astro_deep_cat))\n",
    "\"\"\";"
   ]
  }
 ],
 "metadata": {
  "kernelspec": {
   "display_name": "Python 3",
   "language": "python",
   "name": "python3"
  },
  "language_info": {
   "codemirror_mode": {
    "name": "ipython",
    "version": 3
   },
   "file_extension": ".py",
   "mimetype": "text/x-python",
   "name": "python",
   "nbconvert_exporter": "python",
   "pygments_lexer": "ipython3",
   "version": "3.8.5"
  }
 },
 "nbformat": 4,
 "nbformat_minor": 2
}
