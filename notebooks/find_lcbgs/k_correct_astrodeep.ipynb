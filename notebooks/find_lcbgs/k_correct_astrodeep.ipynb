{
 "cells": [
  {
   "cell_type": "code",
   "execution_count": 1,
   "metadata": {},
   "outputs": [],
   "source": [
    "import os \n",
    "\n",
    "import numpy as np\n",
    "\n",
    "from astropy.cosmology import WMAP5 as cosmo\n",
    "from astropy.table import Table\n",
    "from astropy import units as u \n",
    "from astropy.coordinates import SkyCoord\n",
    "\n",
    "import kcorrect\n",
    "import kcorrect.utils as ut"
   ]
  },
  {
   "cell_type": "code",
   "execution_count": 2,
   "metadata": {},
   "outputs": [],
   "source": [
    "%matplotlib inline\n",
    "from matplotlib import pyplot as plt\n",
    "from matplotlib import cm\n",
    "plt.rcParams['figure.figsize'] = [12, 12]"
   ]
  },
  {
   "cell_type": "markdown",
   "metadata": {},
   "source": [
    "# Load Astrodeep Catalogs"
   ]
  },
  {
   "cell_type": "code",
   "execution_count": 3,
   "metadata": {},
   "outputs": [],
   "source": [
    "filter_list = [\n",
    "    'MAG_B435',\n",
    "    'MAG_V606',\n",
    "    'MAG_I814',\n",
    "    'MAG_Y105',\n",
    "    'MAG_J125',\n",
    "    'MAG_JH140',\n",
    "    'MAG_H160',\n",
    "    #'MAG_IRAC1',\n",
    "    #'MAG_IRAC2'\n",
    "]\n",
    "\n",
    "hst_correction_const_dict = {\n",
    "    'MAG_B435': 0.102,\n",
    "    'MAG_V606': -0.088,\n",
    "    'MAG_I814': -0.426,\n",
    "    'MAG_Y105': -0.647,\n",
    "    'MAG_J125': -0.903,\n",
    "    'MAG_JH140': -1.078,\n",
    "    'MAG_H160': -1.254,\n",
    "    'MAG_IRAC1': -2.787,\n",
    "    'MAG_IRAC2': -3.260\n",
    "}"
   ]
  },
  {
   "cell_type": "code",
   "execution_count": 4,
   "metadata": {
    "scrolled": true
   },
   "outputs": [
    {
     "name": "stdout",
     "output_type": "stream",
     "text": [
      "3587\n"
     ]
    }
   ],
   "source": [
    "# raw_astro_deep_cat = Table.read(\"https://stsci.box.com/shared/static/2dsckrbt7b4eocl2v2mot9ssso0stc11.cat\", format=\"ascii\")\n",
    "raw_astro_deep_cat = Table.read(\"http://astrodeep.u-strasbg.fr/ff/data/catalogues/A2744CL.xml\")\n",
    "\n",
    "print(len(raw_astro_deep_cat))"
   ]
  },
  {
   "cell_type": "code",
   "execution_count": 5,
   "metadata": {},
   "outputs": [
    {
     "name": "stdout",
     "output_type": "stream",
     "text": [
      "74\n"
     ]
    }
   ],
   "source": [
    "min_z = 0.1\n",
    "max_z = 1\n",
    "\n",
    "min_mag = 0\n",
    "max_mag = 24\n",
    "\n",
    "astro_deep_mask = np.ones((len(raw_astro_deep_cat))).astype(bool)\n",
    "\n",
    "#astro_deep_mask = astro_deep_mask & np.invert(raw_astro_deep_cat['ZBEST'].mask.astype(bool))\n",
    "astro_deep_mask = astro_deep_mask & (raw_astro_deep_cat['ZBEST'] > min_z).astype(bool).data  \n",
    "astro_deep_mask = astro_deep_mask & (raw_astro_deep_cat['ZBEST'] < max_z).astype(bool).data \n",
    "astro_deep_mask = astro_deep_mask & (raw_astro_deep_cat['ZBEST'] != 0).astype(bool).data \n",
    "\n",
    "for f in filter_list:\n",
    "    astro_deep_mask = astro_deep_mask & (raw_astro_deep_cat[f] > min_mag).astype(bool).data\n",
    "    astro_deep_mask = astro_deep_mask & (raw_astro_deep_cat[f] < max_mag).astype(bool).data \n",
    "\n",
    "\n",
    "astro_deep_cat = raw_astro_deep_cat[astro_deep_mask]\n",
    "print(len(astro_deep_cat))"
   ]
  },
  {
   "cell_type": "code",
   "execution_count": 6,
   "metadata": {},
   "outputs": [],
   "source": [
    "cat = {}\n",
    "\n",
    "mags = {}\n",
    "mag_err = {}\n",
    "\n",
    "maggies = {}\n",
    "maggies_err = {}\n",
    "\n",
    "z_best = np.array(astro_deep_cat['ZBEST'])\n",
    "\n",
    "num_sources = None\n",
    "\n",
    "for f in filter_list:\n",
    "    cat[f] = astro_deep_cat[f]\n",
    "    \n",
    "    mags[f] = np.array(astro_deep_cat[f][:]) \n",
    "    mag_err[f] = np.array(astro_deep_cat[f.replace('MAG_', 'MAGERR_')][:]) \n",
    "    \n",
    "    maggies[f] = ut.mag2maggies(mags[f])\n",
    "    maggies_err[f] = ut.invariance(maggies[f], mag_err[f])\n",
    "    \n",
    "    if num_sources is None:\n",
    "        num_sources = len(cat[f])\n",
    "    else:\n",
    "        assert num_sources == len(cat[f])\n",
    "\n",
    "        "
   ]
  },
  {
   "cell_type": "code",
   "execution_count": 71,
   "metadata": {},
   "outputs": [
    {
     "name": "stdout",
     "output_type": "stream",
     "text": [
      "Num sources with radii matchs:  55\n",
      "Fraction sources with radii matchs:  0.7432432432432432\n"
     ]
    }
   ],
   "source": [
    "robel_cat = Table.read('hlsp_frontier_hst_wfc3-60mas_abell2744_f105w_v1.0_drz_catalog_fine_petrosian.csv')\n",
    "robel_ra, robel_dec = np.array([ coord.split(',') for coord in robel_cat['sky_centroid']]).astype(float).transpose()\n",
    "\n",
    "robel_coords = SkyCoord(\n",
    "    ra=robel_ra*u.degree,\n",
    "    dec=robel_dec*u.degree\n",
    ")\n",
    "\n",
    "astro_deep_coords = SkyCoord(\n",
    "    ra=np.array(astro_deep_cat['RA'])*u.degree,\n",
    "    dec=np.array(astro_deep_cat['DEC'])*u.degree\n",
    ")\n",
    "\n",
    "\n",
    "idx, sep2d, dist3d = astro_deep_coords.match_to_catalog_sky(robel_coords)\n",
    "\n",
    "radii = robel_cat['r_half_light_arcsec'][idx] \n",
    "radii[np.where(sep2d.arcsec > 0.5)] = np.nan\n",
    "\n",
    "print(\"Num sources with radii matchs: \", np.where(sep2d.arcsec < 0.1)[0].shape[0])\n",
    "print(\"Fraction sources with radii matchs: \", 1 - np.where(sep2d.arcsec > 0.1)[0].shape[0] / len(astro_deep_cat))"
   ]
  },
  {
   "cell_type": "code",
   "execution_count": 72,
   "metadata": {},
   "outputs": [
    {
     "name": "stdout",
     "output_type": "stream",
     "text": [
      "single bin width= 0.008125\n"
     ]
    },
    {
     "data": {
      "image/png": "[encoded data removed]",
      "text/plain": [
       "<Figure size 864x864 with 1 Axes>"
      ]
     },
     "metadata": {
      "needs_background": "light"
     },
     "output_type": "display_data"
    }
   ],
   "source": [
    "num_bins = 100\n",
    "max_value = z_best[~np.isnan(z_best)].max()\n",
    "bin_width = (max_value / num_bins)\n",
    "print('single bin width=', bin_width)\n",
    "plt.hist(z_best, bins=[i * bin_width for i in range(num_bins)]);\n",
    "plt.axvline(0.308, c='r', label='Cluster Z from NED')\n",
    "plt.legend()\n",
    "plt.show()"
   ]
  },
  {
   "cell_type": "code",
   "execution_count": 73,
   "metadata": {},
   "outputs": [],
   "source": [
    "cluster_mask = np.array([np.where(astro_deep_cat['ID'] == ID )[0][0] for ID in range(100001, 100016) if len(np.where(astro_deep_cat['ID'] == ID )[0])])\n",
    "if len(cluster_mask):\n",
    "    z_best[cluster_mask] = 0.308\n",
    "\n",
    "#z_best[np.where(np.isnan(z_best))] = 0.308\n",
    "#z_best[astro_deep_cat['ZBEST'].mask.astype(bool)] = 0.308"
   ]
  },
  {
   "cell_type": "markdown",
   "metadata": {},
   "source": [
    "# Load Input Filters"
   ]
  },
  {
   "cell_type": "code",
   "execution_count": 74,
   "metadata": {},
   "outputs": [],
   "source": [
    "def print_filter_file(path):\n",
    "    with open(path) as f:\n",
    "        for line in f:\n",
    "            print(line.replace(\"\\n\", \"\"))"
   ]
  },
  {
   "cell_type": "code",
   "execution_count": 75,
   "metadata": {},
   "outputs": [],
   "source": [
    "input_filter_file = os.path.abspath('hst_filters_2.dat')"
   ]
  },
  {
   "cell_type": "code",
   "execution_count": 76,
   "metadata": {},
   "outputs": [
    {
     "name": "stdout",
     "output_type": "stream",
     "text": [
      "KCORRECT_DIR\n",
      "data/filters/clash_acs_f435w.par\n",
      "data/filters/clash_acs_f606w.par\n",
      "data/filters/clash_acs_f814w.par\n",
      "data/filters/clash_wfc3_f105w.par\n",
      "data/filters/clash_wfc3_f125w.par\n",
      "data/filters/clash_wfc3_f140w.par\n",
      "data/filters/clash_wfc3_f160w.par\n"
     ]
    }
   ],
   "source": [
    "print_filter_file(input_filter_file)"
   ]
  },
  {
   "cell_type": "code",
   "execution_count": 77,
   "metadata": {},
   "outputs": [],
   "source": [
    "kcorrect.load_templates()\n",
    "kcorrect.load_filters(input_filter_file)"
   ]
  },
  {
   "cell_type": "markdown",
   "metadata": {},
   "source": [
    "# Fit Nonnegative Sums"
   ]
  },
  {
   "cell_type": "code",
   "execution_count": 78,
   "metadata": {},
   "outputs": [],
   "source": [
    "kcorrect_constants = []\n",
    "\n",
    "for i in range(0, num_sources):\n",
    "    \n",
    "    all_maggies = np.array([maggies[f][i] for f in filter_list], dtype=float)\n",
    "    all_maggies_err = np.array([maggies_err[f][i] for f in filter_list], dtype=float)\n",
    "    \n",
    "    z = z_best[i]\n",
    "    \n",
    "    constants = kcorrect.fit_nonneg(z, all_maggies, all_maggies_err)\n",
    "    \n",
    "    kcorrect_constants.append(constants)\n",
    "    "
   ]
  },
  {
   "cell_type": "markdown",
   "metadata": {},
   "source": [
    "# Reconstruct Maggies"
   ]
  },
  {
   "cell_type": "code",
   "execution_count": 79,
   "metadata": {},
   "outputs": [],
   "source": [
    "def multi_reconstruct_maggies(kcorrect_constants, filter_list, redshift=-1.0):\n",
    "    re_maggies = {f: [] for f in filter_list}\n",
    "    \n",
    "    for constants in kcorrect_constants:\n",
    "        _, *result = kcorrect.reconstruct_maggies(constants, redshift=redshift)\n",
    "\n",
    "        for i, f in enumerate(filter_list):\n",
    "            re_maggies[f].append(result[i])\n",
    "            \n",
    "    for i, f in enumerate(filter_list):\n",
    "        re_maggies[f] = np.array(re_maggies[f])\n",
    "        \n",
    "    return re_maggies\n",
    "    "
   ]
  },
  {
   "cell_type": "code",
   "execution_count": 80,
   "metadata": {},
   "outputs": [],
   "source": [
    "def stack_filter_dict(dictionary):\n",
    "    return np.stack(tuple(dictionary.values()), axis=-1)"
   ]
  },
  {
   "cell_type": "code",
   "execution_count": 81,
   "metadata": {},
   "outputs": [],
   "source": [
    "re_maggies = multi_reconstruct_maggies(kcorrect_constants, filter_list)\n",
    "re_maggies_z0 = multi_reconstruct_maggies(kcorrect_constants, filter_list, redshift=0)"
   ]
  },
  {
   "cell_type": "markdown",
   "metadata": {},
   "source": [
    "# Compare Reconstructed Maggies Vs Input Maggies"
   ]
  },
  {
   "cell_type": "code",
   "execution_count": 82,
   "metadata": {
    "scrolled": false
   },
   "outputs": [
    {
     "data": {
      "image/png": "[encoded data removed]",
      "text/plain": [
       "<Figure size 864x864 with 1 Axes>"
      ]
     },
     "metadata": {
      "needs_background": "light"
     },
     "output_type": "display_data"
    },
    {
     "name": "stdout",
     "output_type": "stream",
     "text": [
      "N=74\n"
     ]
    }
   ],
   "source": [
    "all_re_maggies = stack_filter_dict(re_maggies)\n",
    "all_maggies = stack_filter_dict(maggies)\n",
    "\n",
    "percent_err = 100 * abs(all_re_maggies - all_maggies) / all_maggies\n",
    "percent_err = (percent_err).mean(axis=1)\n",
    "\n",
    "bins = list(range(100))\n",
    "plt.hist(percent_err, bins=bins)\n",
    "\n",
    "#plt.xticks(bins, [\"{:0.2e}\".format(i) for i in bins], rotation='vertical')\n",
    "\n",
    "plt.title(\"Histogram of Percent Error: Reconstructed Maggies Vs Input Maggies\")\n",
    "plt.xlabel(\"Mean Percent Error of Filters\")\n",
    "plt.ylabel(\"Count\")\n",
    "plt.show()\n",
    "\n",
    "\"\"\"\n",
    "bins = 0.1*np.array(range(100))\n",
    "plt.hist(percent_err, bins=bins)\n",
    "\n",
    "plt.title(\"Histogram of Percent Error: Reconstructed Maggies Vs Input Maggies\")\n",
    "plt.xlabel(\"Mean Percent Error of Filters\")\n",
    "plt.ylabel(\"Count\")\n",
    "plt.show()\n",
    "\"\"\"\n",
    "print(\"N={}\".format(len(percent_err)))"
   ]
  },
  {
   "cell_type": "markdown",
   "metadata": {},
   "source": [
    "# Load Johnson Filters"
   ]
  },
  {
   "cell_type": "code",
   "execution_count": 83,
   "metadata": {},
   "outputs": [],
   "source": [
    "johnson_filter_list = ['u', 'b', 'v']\n",
    "\n",
    "johnson_correction_const_dict = {\n",
    "    'u': -0.79,\n",
    "    'b': + 0.09,\n",
    "    'v': -0.02\n",
    "}\n",
    "\n",
    "johnson_correction_const = np.array([johnson_correction_const_dict[key] for key in johnson_filter_list])"
   ]
  },
  {
   "cell_type": "code",
   "execution_count": 84,
   "metadata": {},
   "outputs": [],
   "source": [
    "johnson_filter_file = os.path.abspath('johnson_ubv.dat')"
   ]
  },
  {
   "cell_type": "code",
   "execution_count": 85,
   "metadata": {},
   "outputs": [
    {
     "name": "stdout",
     "output_type": "stream",
     "text": [
      "KCORRECT_DIR\n",
      "data/filters/bessell_U.par\n",
      "data/filters/bessell_B.par\n",
      "data/filters/bessell_V.par\n"
     ]
    }
   ],
   "source": [
    "print_filter_file(johnson_filter_file)"
   ]
  },
  {
   "cell_type": "code",
   "execution_count": 86,
   "metadata": {},
   "outputs": [],
   "source": [
    "kcorrect.load_templates()\n",
    "kcorrect.load_filters(johnson_filter_file)"
   ]
  },
  {
   "cell_type": "markdown",
   "metadata": {},
   "source": [
    "# Compute Johnson Maggies "
   ]
  },
  {
   "cell_type": "code",
   "execution_count": 87,
   "metadata": {},
   "outputs": [],
   "source": [
    "johnson_maggies_z0 = multi_reconstruct_maggies(kcorrect_constants, johnson_filter_list, redshift=0)"
   ]
  },
  {
   "cell_type": "markdown",
   "metadata": {},
   "source": [
    "# Compute Vega Mag "
   ]
  },
  {
   "cell_type": "code",
   "execution_count": 88,
   "metadata": {},
   "outputs": [],
   "source": [
    "m_vega_mags = {}\n",
    "M_vega_mags = {}\n",
    "\n",
    "# Johnson filters\n",
    "for i, f in enumerate(johnson_filter_list):\n",
    "    m_vega_mags[f] = -2.5 * np.log10(johnson_maggies_z0[f]) + johnson_correction_const_dict[f]\n",
    "    M_vega_mags[f] = m_vega_mags[f] - cosmo.distmod(z_best).value\n",
    "\n",
    "# Original filters\n",
    "for i, f in enumerate(filter_list):\n",
    "    m_vega_mags[f] = -2.5 * np.log10(re_maggies_z0[f]) + hst_correction_const_dict[f]\n",
    "    M_vega_mags[f] = m_vega_mags[f] - cosmo.distmod(z_best).value\n"
   ]
  },
  {
   "cell_type": "markdown",
   "metadata": {},
   "source": [
    "# Compute Surface Brightnesses"
   ]
  },
  {
   "cell_type": "code",
   "execution_count": 89,
   "metadata": {},
   "outputs": [],
   "source": [
    "m_b = m_vega_mags['b']"
   ]
  },
  {
   "cell_type": "code",
   "execution_count": 90,
   "metadata": {},
   "outputs": [],
   "source": [
    "r_half_light_arcsec = radii"
   ]
  },
  {
   "cell_type": "code",
   "execution_count": 91,
   "metadata": {},
   "outputs": [],
   "source": [
    "surface_brightness = m_b + 5 * np.log10(r_half_light_arcsec) + 2.5 * np.log10(2 * np.pi) - 10 * np.log10(1+z_best)\n",
    "surface_brightness[np.where(np.isnan(surface_brightness))] = np.nan"
   ]
  },
  {
   "cell_type": "markdown",
   "metadata": {},
   "source": [
    "# Make Catalog"
   ]
  },
  {
   "cell_type": "code",
   "execution_count": 92,
   "metadata": {},
   "outputs": [
    {
     "name": "stdout",
     "output_type": "stream",
     "text": [
      "74\n",
      "64\n"
     ]
    }
   ],
   "source": [
    "# Define Column Names \n",
    "col_names = [\n",
    "    'id',\n",
    "    'ra', 'dec',\n",
    "    'zbest',\n",
    "    'mstar',\n",
    "    'surface_brightness',\n",
    "    'r_half_light_arcsec',\n",
    "    \n",
    "] \n",
    "\n",
    "col_names += [\"m_{}\".format(f.replace('MAG_','')) for f in m_vega_mags.keys()] \n",
    "col_names += [\"M_{}\".format(f.replace('MAG_','')) for f in M_vega_mags.keys()]\n",
    "col_names += [\"kcorrect_constant_{}\".format(i) for i in range(len(kcorrect_constants[0]))]\n",
    "\n",
    "# Construct the rows of the catalog\n",
    "final_catalog_rows = [\n",
    "    astro_deep_cat['ID'],\n",
    "    astro_deep_cat['RA'],\n",
    "    astro_deep_cat['DEC'],\n",
    "    z_best,\n",
    "    astro_deep_cat['MSTAR'],\n",
    "] \n",
    "final_catalog_rows += [surface_brightness]\n",
    "final_catalog_rows += [r_half_light_arcsec]\n",
    "final_catalog_rows += list(m_vega_mags.values()) \n",
    "final_catalog_rows += list(M_vega_mags.values()) \n",
    "final_catalog_rows += list(map(list, zip(*kcorrect_constants)))    \n",
    "\n",
    "# Make the catalog\n",
    "final_catalog = Table(data=final_catalog_rows, names=col_names)\n",
    "\n",
    "\n",
    "# Mask out sources with missing values\n",
    "# r80 is a good indicator that things failed so we use that column to mask\n",
    "catalog_mask =  (\n",
    "    np.invert(final_catalog['surface_brightness'].mask) & \n",
    "    np.invert(np.isnan(np.array(surface_brightness, dtype=float))).astype(bool) & \n",
    "    np.invert(np.isnan(radii)).astype(bool) &\n",
    "    (final_catalog['m_I814'] < 23).astype(bool) # &\n",
    "    #(final_catalog['surface_brightness'] < 25)\n",
    "    #(final_catalog['zbest'] > 0.25).astype(bool)&\n",
    "    #(final_catalog['zbest'] < 0.35).astype(bool)\n",
    ")\n",
    "\n",
    "print(len(final_catalog))\n",
    "final_catalog = final_catalog[catalog_mask]\n",
    "print(len(final_catalog))\n",
    "\n",
    "final_catalog.sort(keys=\"r_half_light_arcsec\", reverse=1)"
   ]
  },
  {
   "cell_type": "code",
   "execution_count": 93,
   "metadata": {
    "scrolled": true
   },
   "outputs": [
    {
     "data": {
      "text/html": [
       "<i>Table length=64</i>\n",
       "<table id=\"table140312396071552\" class=\"table-striped table-bordered table-condensed\">\n",
       "<thead><tr><th>id</th><th>ra</th><th>dec</th><th>zbest</th><th>mstar</th><th>surface_brightness</th><th>r_half_light_arcsec</th><th>m_u</th><th>m_b</th><th>m_v</th><th>m_B435</th><th>m_V606</th><th>m_I814</th><th>m_Y105</th><th>m_J125</th><th>m_JH140</th><th>m_H160</th><th>M_u</th><th>M_b</th><th>M_v</th><th>M_B435</th><th>M_V606</th><th>M_I814</th><th>M_Y105</th><th>M_J125</th><th>M_JH140</th><th>M_H160</th><th>kcorrect_constant_0</th><th>kcorrect_constant_1</th><th>kcorrect_constant_2</th><th>kcorrect_constant_3</th><th>kcorrect_constant_4</th><th>kcorrect_constant_5</th></tr></thead>\n",
       "<thead><tr><th></th><th>deg</th><th>deg</th><th></th><th>1E9solMass</th><th></th><th></th><th></th><th></th><th></th><th></th><th></th><th></th><th></th><th></th><th></th><th></th><th></th><th></th><th></th><th></th><th></th><th></th><th></th><th></th><th></th><th></th><th></th><th></th><th></th><th></th><th></th><th></th></tr></thead>\n",
       "<thead><tr><th>int32</th><th>float64</th><th>float64</th><th>float64</th><th>float64</th><th>float64</th><th>float64</th><th>float32</th><th>float32</th><th>float32</th><th>float32</th><th>float32</th><th>float32</th><th>float32</th><th>float32</th><th>float32</th><th>float32</th><th>float64</th><th>float64</th><th>float64</th><th>float64</th><th>float64</th><th>float64</th><th>float64</th><th>float64</th><th>float64</th><th>float64</th><th>float32</th><th>float32</th><th>float32</th><th>float32</th><th>float32</th><th>float32</th></tr></thead>\n",
       "<tr><td>1598</td><td>3.60005</td><td>-30.389715</td><td>0.3700000047683716</td><td>102.7</td><td>21.775564313301565</td><td>1.8023521363489796</td><td>19.832407</td><td>19.868122</td><td>19.23043</td><td>19.914995</td><td>18.998993</td><td>18.204697</td><td>17.598791</td><td>17.21239</td><td>16.96237</td><td>16.695955</td><td>-21.65992123606658</td><td>-21.624206132917166</td><td>-22.2618976307199</td><td>-21.5773330402658</td><td>-22.49333531382537</td><td>-23.287631578473807</td><td>-23.89353711131072</td><td>-24.27993733408904</td><td>-24.529958314924002</td><td>-24.796372957257987</td><td>0.37</td><td>5.689442e-07</td><td>9.972823e-10</td><td>2.3615586e-07</td><td>4.227856e-06</td><td>1.7004089e-09</td></tr>\n",
       "<tr><td>1117</td><td>3.598973</td><td>-30.397516</td><td>0.28999999165534973</td><td>57.65</td><td>22.62449506218356</td><td>1.3600397558585051</td><td>21.40016</td><td>21.067184</td><td>20.19973</td><td>21.118612</td><td>19.96147</td><td>19.048227</td><td>18.422647</td><td>18.035889</td><td>17.786768</td><td>17.519108</td><td>-19.4748647266831</td><td>-19.807840114256344</td><td>-20.675294643064937</td><td>-19.75641227306982</td><td>-20.913554912229976</td><td>-21.826797252317867</td><td>-22.452377086302242</td><td>-22.83913589062353</td><td>-23.088256602903805</td><td>-23.355916743895015</td><td>0.29</td><td>1.646987e-07</td><td>8.491214e-39</td><td>1.3822333e-11</td><td>2.6315588e-06</td><td>1.27318796e-08</td></tr>\n",
       "<tr><td>2075</td><td>3.584968</td><td>-30.383724</td><td>0.23909999430179596</td><td>2.76</td><td>22.621574390199648</td><td>1.0850888166346966</td><td>21.172812</td><td>21.379862</td><td>21.039955</td><td>21.412308</td><td>20.861685</td><td>20.34458</td><td>19.950632</td><td>19.63187</td><td>19.418653</td><td>19.195395</td><td>-19.22209650012139</td><td>-19.01504617663506</td><td>-19.354952869139943</td><td>-18.982600269042287</td><td>-19.533223209105763</td><td>-20.050328311644826</td><td>-20.444275912963185</td><td>-20.76303773852471</td><td>-20.97625452014092</td><td>-21.19951349230889</td><td>0.2391</td><td>7.009836e-08</td><td>1.5230414e-10</td><td>8.692762e-08</td><td>1.9900872e-08</td><td>3.6238188e-08</td></tr>\n",
       "<tr><td>337</td><td>3.598509</td><td>-30.408403</td><td>0.4309999942779541</td><td>18.6</td><td>20.757593500167985</td><td>1.0163510818287447</td><td>19.992523</td><td>20.283321</td><td>19.96372</td><td>20.310663</td><td>19.810877</td><td>19.26659</td><td>18.89841</td><td>18.572983</td><td>18.35965</td><td>18.137487</td><td>-21.892872402926955</td><td>-21.602074215671095</td><td>-21.921675274631056</td><td>-21.574732373019728</td><td>-22.074518749972853</td><td>-22.618805477878126</td><td>-22.98698479916719</td><td>-23.312412808200392</td><td>-23.525745938083205</td><td>-23.747908184787306</td><td>0.431</td><td>2.4010694e-07</td><td>3.4718275e-10</td><td>1.02624305e-07</td><td>4.5267026e-08</td><td>1.7595255e-07</td></tr>\n",
       "<tr><td>1809</td><td>3.574393</td><td>-30.383654</td><td>0.2750000059604645</td><td>0.0</td><td>21.26533218514645</td><td>0.9685335271811256</td><td>20.509169</td><td>20.394411</td><td>19.645048</td><td>20.43817</td><td>19.41585</td><td>18.516117</td><td>17.877562</td><td>17.464499</td><td>17.20406</td><td>16.928846</td><td>-20.23295946673879</td><td>-20.347717004580588</td><td>-21.09707995013723</td><td>-20.303958612246603</td><td>-21.326278405947775</td><td>-22.226010995669455</td><td>-22.864566522402853</td><td>-23.27762957171926</td><td>-23.538068490786642</td><td>-23.81328173236379</td><td>0.275</td><td>6.6613916e-07</td><td>1.6871337e-32</td><td>2.6558691e-11</td><td>3.1981579e-06</td><td>8.598787e-08</td></tr>\n",
       "<tr><td>154</td><td>3.569589</td><td>-30.412163</td><td>0.2824000120162964</td><td>14.42</td><td>22.4777414185054</td><td>0.9386475555263638</td><td>21.786629</td><td>21.700014</td><td>21.069859</td><td>21.740301</td><td>20.862995</td><td>20.113167</td><td>19.599247</td><td>19.260357</td><td>19.035719</td><td>18.79253</td><td>-19.021869449835116</td><td>-19.108484058599764</td><td>-19.738639621954256</td><td>-19.0681970407775</td><td>-19.94550302527457</td><td>-20.695331363897616</td><td>-21.20925119421988</td><td>-21.548141269903475</td><td>-21.772779255132967</td><td>-22.015968113165194</td><td>0.2824</td><td>6.4051435e-09</td><td>1.28e-43</td><td>3.5895006e-08</td><td>7.5182396e-07</td><td>1.9934767e-08</td></tr>\n",
       "<tr><td>1656</td><td>3.585312</td><td>-30.387545</td><td>0.3012000024318695</td><td>38.22</td><td>21.25556238744819</td><td>0.8997957923751735</td><td>20.784689</td><td>20.632833</td><td>20.042057</td><td>20.675238</td><td>19.818966</td><td>19.101284</td><td>18.559399</td><td>18.198185</td><td>17.961502</td><td>17.709112</td><td>-20.18552204173315</td><td>-20.33737751048315</td><td>-20.928153953964596</td><td>-20.294973335678463</td><td>-21.151245079452877</td><td>-21.868926964218502</td><td>-22.410812340195065</td><td>-22.772026024277096</td><td>-23.0087089161228</td><td>-23.261098823959713</td><td>0.3012</td><td>1.7434657e-07</td><td>1.4947861e-35</td><td>2.0620259e-07</td><td>1.3434196e-06</td><td>1.8557241e-08</td></tr>\n",
       "<tr><td>1024</td><td>3.574901</td><td>-30.39838</td><td>0.3174000084400177</td><td>100.2</td><td>21.05609055389677</td><td>0.825080863238269</td><td>21.01476</td><td>20.675335</td><td>19.854137</td><td>20.726685</td><td>19.607922</td><td>18.711012</td><td>18.068441</td><td>17.666952</td><td>17.410725</td><td>17.138012</td><td>-20.0875516151304</td><td>-20.426975748431182</td><td>-21.248173258196807</td><td>-20.375626108538604</td><td>-21.494389078509307</td><td>-22.391298792254425</td><td>-23.033869287859893</td><td>-23.435358545672393</td><td>-23.691586038958526</td><td>-23.964298746478057</td><td>0.3174</td><td>3.998405e-07</td><td>9.361404e-39</td><td>7.5364284e-08</td><td>3.0513247e-06</td><td>4.4953707e-09</td></tr>\n",
       "<tr><td>1259</td><td>3.594761</td><td>-30.397171</td><td>0.8125</td><td>59.25</td><td>21.073201612588306</td><td>0.8191036689073167</td><td>22.05257</td><td>22.093838</td><td>21.488857</td><td>22.129103</td><td>21.30247</td><td>20.543648</td><td>20.055706</td><td>19.723276</td><td>19.503517</td><td>19.265057</td><td>-21.51112477335944</td><td>-21.46985737833991</td><td>-22.07483784708991</td><td>-21.43459240946784</td><td>-22.26122586283698</td><td>-23.020047350263738</td><td>-23.507989092207097</td><td>-23.840418978071355</td><td>-24.060177965498113</td><td>-24.298638506269597</td><td>0.8125</td><td>5.4181605e-13</td><td>1.6496271e-17</td><td>5.3715456e-11</td><td>5.256039e-07</td><td>2.7172609e-08</td></tr>\n",
       "<tr><td>...</td><td>...</td><td>...</td><td>...</td><td>...</td><td>...</td><td>...</td><td>...</td><td>...</td><td>...</td><td>...</td><td>...</td><td>...</td><td>...</td><td>...</td><td>...</td><td>...</td><td>...</td><td>...</td><td>...</td><td>...</td><td>...</td><td>...</td><td>...</td><td>...</td><td>...</td><td>...</td><td>...</td><td>...</td><td>...</td><td>...</td><td>...</td><td>...</td></tr>\n",
       "<tr><td>1531</td><td>3.59034</td><td>-30.390936</td><td>0.325300008058548</td><td>44.7</td><td>19.907558912261724</td><td>0.34989391392755653</td><td>21.692812</td><td>21.41557</td><td>20.626398</td><td>21.464218</td><td>20.39307</td><td>19.531023</td><td>18.929321</td><td>18.552235</td><td>18.307724</td><td>18.044834</td><td>-19.47169286652455</td><td>-19.74893552704701</td><td>-20.53810674591908</td><td>-19.700286692818494</td><td>-20.771434611519666</td><td>-21.633481806954237</td><td>-22.235183543404432</td><td>-22.61227018280873</td><td>-22.856780833443494</td><td>-23.11967069550404</td><td>0.3253</td><td>8.956597e-08</td><td>8.546839e-31</td><td>3.141624e-08</td><td>1.5410124e-06</td><td>8.56295e-09</td></tr>\n",
       "<tr><td>1517</td><td>3.58498</td><td>-30.392876</td><td>0.3474999964237213</td><td>19.34</td><td>20.133972523170847</td><td>0.3379395252656518</td><td>21.90115</td><td>21.789616</td><td>21.215988</td><td>21.830423</td><td>20.999601</td><td>20.293306</td><td>19.768354</td><td>19.414295</td><td>19.181515</td><td>18.932909</td><td>-19.43099970979324</td><td>-19.542533828445585</td><td>-20.116161300369413</td><td>-19.50172610444656</td><td>-20.332548095413358</td><td>-21.038843108841093</td><td>-21.563795043655546</td><td>-21.917854263015897</td><td>-22.150634719558866</td><td>-22.39924044770828</td><td>0.3475</td><td>4.9554604e-08</td><td>1.4614564e-31</td><td>6.4951664e-08</td><td>4.4330596e-07</td><td>1.0716313e-08</td></tr>\n",
       "<tr><td>545</td><td>3.591719</td><td>-30.407808</td><td>0.3190999925136566</td><td>29.25</td><td>20.03142159182102</td><td>0.2960991649489853</td><td>22.092216</td><td>21.881563</td><td>21.082743</td><td>21.928364</td><td>20.85575</td><td>19.97281</td><td>19.369675</td><td>18.989475</td><td>18.743946</td><td>18.480036</td><td>-19.023596361438628</td><td>-19.23424966649234</td><td>-20.033070162097808</td><td>-19.18744905308902</td><td>-20.260063722888823</td><td>-21.14300210789859</td><td>-21.74613817052066</td><td>-22.126337602893706</td><td>-22.371866777698393</td><td>-22.635777071277495</td><td>0.3191</td><td>6.524982e-08</td><td>3.3252162e-36</td><td>2.7521384e-11</td><td>1.0601967e-06</td><td>1.3935519e-08</td></tr>\n",
       "<tr><td>1940</td><td>3.592548</td><td>-30.385309</td><td>0.31290000677108765</td><td>29.99</td><td>19.888927140098403</td><td>0.27816758195612823</td><td>22.128822</td><td>21.854261</td><td>21.035566</td><td>21.903486</td><td>20.799015</td><td>19.903427</td><td>19.278858</td><td>18.887436</td><td>18.636253</td><td>18.367556</td><td>-18.93742474622823</td><td>-19.211985674572958</td><td>-20.030680742932333</td><td>-19.162760821057333</td><td>-20.267232027722372</td><td>-21.16281994886495</td><td>-21.787388888073934</td><td>-22.17881115980245</td><td>-22.429993715954794</td><td>-22.698691454602255</td><td>0.3129</td><td>1.00354626e-07</td><td>1.4945796e-32</td><td>9.209271e-09</td><td>1.0907669e-06</td><td>8.460051e-09</td></tr>\n",
       "<tr><td>683</td><td>3.587042</td><td>-30.404951</td><td>0.3095000088214874</td><td>19.16</td><td>20.077871176019144</td><td>0.25425880463231876</td><td>22.471928</td><td>22.227097</td><td>21.408531</td><td>22.27519</td><td>21.178757</td><td>20.288757</td><td>19.681477</td><td>19.30125</td><td>19.055557</td><td>18.791252</td><td>-18.566755109723154</td><td>-18.811586194928232</td><td>-19.630151563580576</td><td>-18.763492399151865</td><td>-19.859926038678232</td><td>-20.74992542832667</td><td>-21.35720615952784</td><td>-21.737432294781748</td><td>-21.983125501568857</td><td>-22.24743061631495</td><td>0.3095</td><td>4.564571e-08</td><td>8.289501e-34</td><td>1.1934458e-11</td><td>8.133829e-07</td><td>8.420879e-09</td></tr>\n",
       "<tr><td>353</td><td>3.582506</td><td>-30.409988</td><td>0.3257000148296356</td><td>14.56</td><td>20.171068622707836</td><td>0.25425880463231876</td><td>22.597206</td><td>22.373692</td><td>21.573473</td><td>22.420532</td><td>21.351404</td><td>20.487326</td><td>19.910515</td><td>19.550444</td><td>19.314602</td><td>19.058584</td><td>-18.570410920498006</td><td>-18.79392547738277</td><td>-19.59414405953609</td><td>-18.747084809658162</td><td>-19.816212846157185</td><td>-20.6802913678857</td><td>-21.257102204677693</td><td>-21.61717338692867</td><td>-21.853015138027303</td><td>-22.109032822963826</td><td>0.3257</td><td>5.976654e-09</td><td>4.625557e-31</td><td>7.556933e-12</td><td>7.1494384e-07</td><td>7.970246e-09</td></tr>\n",
       "<tr><td>1023</td><td>3.59446</td><td>-30.400349</td><td>0.32749998569488525</td><td>23.21</td><td>19.783052881231033</td><td>0.24230441597041408</td><td>22.35661</td><td>22.096142</td><td>21.270779</td><td>22.14467</td><td>21.041645</td><td>20.155146</td><td>19.554382</td><td>19.180065</td><td>18.937136</td><td>18.674976</td><td>-18.824968975945723</td><td>-19.085436505242598</td><td>-19.910799664422285</td><td>-19.03690783397795</td><td>-20.139933270379316</td><td>-21.026432675286543</td><td>-21.627195996209394</td><td>-22.001513165398848</td><td>-22.24444262401701</td><td>-22.50660197155119</td><td>0.3275</td><td>3.6251578e-08</td><td>8.1646964e-32</td><td>7.2028685e-12</td><td>9.500596e-07</td><td>8.5045055e-09</td></tr>\n",
       "<tr><td>946</td><td>3.605265</td><td>-30.400806</td><td>0.3100000023841858</td><td>35.19</td><td>19.206418019834253</td><td>0.22437283297755697</td><td>21.864244</td><td>21.62883</td><td>20.816475</td><td>21.676512</td><td>20.588253</td><td>19.703032</td><td>19.10049</td><td>18.722845</td><td>18.478426</td><td>18.21523</td><td>-19.17850915145477</td><td>-19.41392365645965</td><td>-20.226278697963558</td><td>-19.366241847987972</td><td>-20.454500591274105</td><td>-21.339722072597347</td><td>-21.94226304244598</td><td>-22.31990853499969</td><td>-22.56432763290008</td><td>-22.827522670741878</td><td>0.31</td><td>7.058761e-08</td><td>1.40442e-40</td><td>3.9771502e-11</td><td>1.3985253e-06</td><td>1.5332615e-08</td></tr>\n",
       "<tr><td>1946</td><td>3.580672</td><td>-30.385756</td><td>0.10249999910593033</td><td>3.752</td><td>18.721995526046157</td><td>0.1227605293513669</td><td>22.014954</td><td>21.705038</td><td>20.941515</td><td>21.753918</td><td>20.710714</td><td>19.893106</td><td>19.324697</td><td>18.971817</td><td>18.738739</td><td>18.485704</td><td>-16.355121116162444</td><td>-16.665036658764983</td><td>-17.428559760571623</td><td>-16.616157035351897</td><td>-17.659360389233733</td><td>-18.476968268872405</td><td>-19.045377234936858</td><td>-19.39825771284213</td><td>-19.63133571577182</td><td>-19.884370307446623</td><td>0.1025</td><td>1.3961268e-09</td><td>9.5e-44</td><td>4.26771e-08</td><td>1.1370965e-06</td><td>5.531711e-15</td></tr>\n",
       "<tr><td>499</td><td>3.572709</td><td>-30.409575</td><td>0.11400000005960464</td><td>0.4629</td><td>18.71305077536779</td><td>0.11977193218589073</td><td>21.722578</td><td>21.794678</td><td>21.436073</td><td>21.826372</td><td>21.260244</td><td>20.788734</td><td>20.48466</td><td>20.22989</td><td>20.053333</td><td>19.868553</td><td>-16.89537858413597</td><td>-16.823278898467024</td><td>-17.181883329619367</td><td>-16.79158448623558</td><td>-17.357712263335188</td><td>-17.829222196806867</td><td>-18.133297437895735</td><td>-18.388065809477766</td><td>-18.56462335037132</td><td>-18.74940347122093</td><td>0.114</td><td>4.9101297e-23</td><td>3.817469e-39</td><td>7.4843605e-08</td><td>4.5456954e-13</td><td>2.4820082e-08</td></tr>\n",
       "</table>"
      ],
      "text/plain": [
       "<Table length=64>\n",
       "  id     ra       dec     ... kcorrect_constant_4 kcorrect_constant_5\n",
       "        deg       deg     ...                                        \n",
       "int32 float64   float64   ...       float32             float32      \n",
       "----- -------- ---------- ... ------------------- -------------------\n",
       " 1598  3.60005 -30.389715 ...        4.227856e-06       1.7004089e-09\n",
       " 1117 3.598973 -30.397516 ...       2.6315588e-06      1.27318796e-08\n",
       " 2075 3.584968 -30.383724 ...       1.9900872e-08       3.6238188e-08\n",
       "  337 3.598509 -30.408403 ...       4.5267026e-08       1.7595255e-07\n",
       " 1809 3.574393 -30.383654 ...       3.1981579e-06        8.598787e-08\n",
       "  154 3.569589 -30.412163 ...       7.5182396e-07       1.9934767e-08\n",
       " 1656 3.585312 -30.387545 ...       1.3434196e-06       1.8557241e-08\n",
       " 1024 3.574901  -30.39838 ...       3.0513247e-06       4.4953707e-09\n",
       " 1259 3.594761 -30.397171 ...        5.256039e-07       2.7172609e-08\n",
       "  ...      ...        ... ...                 ...                 ...\n",
       " 1531  3.59034 -30.390936 ...       1.5410124e-06         8.56295e-09\n",
       " 1517  3.58498 -30.392876 ...       4.4330596e-07       1.0716313e-08\n",
       "  545 3.591719 -30.407808 ...       1.0601967e-06       1.3935519e-08\n",
       " 1940 3.592548 -30.385309 ...       1.0907669e-06        8.460051e-09\n",
       "  683 3.587042 -30.404951 ...        8.133829e-07        8.420879e-09\n",
       "  353 3.582506 -30.409988 ...       7.1494384e-07        7.970246e-09\n",
       " 1023  3.59446 -30.400349 ...        9.500596e-07       8.5045055e-09\n",
       "  946 3.605265 -30.400806 ...       1.3985253e-06       1.5332615e-08\n",
       " 1946 3.580672 -30.385756 ...       1.1370965e-06        5.531711e-15\n",
       "  499 3.572709 -30.409575 ...       4.5456954e-13       2.4820082e-08"
      ]
     },
     "execution_count": 93,
     "metadata": {},
     "output_type": "execute_result"
    }
   ],
   "source": [
    "final_catalog"
   ]
  },
  {
   "cell_type": "markdown",
   "metadata": {},
   "source": [
    "# Cluster Catalog"
   ]
  },
  {
   "cell_type": "code",
   "execution_count": 94,
   "metadata": {},
   "outputs": [],
   "source": [
    "cluster_mask = np.array([np.where(final_catalog['id'] == ID )[0][0] for ID in range(100001, 100016) if len(np.where(final_catalog['id'] == ID )[0])])\n",
    "\n",
    "cluster_catalog = final_catalog[cluster_mask]\n",
    "\n",
    "cluster_M_B = np.array(cluster_catalog['M_b'])\n",
    "cluster_M_V = np.array(cluster_catalog['M_v'])\n",
    "cluster_B_minus_V = cluster_M_B - cluster_M_V\n",
    "cluster_sb = cluster_catalog['surface_brightness']"
   ]
  },
  {
   "cell_type": "markdown",
   "metadata": {},
   "source": [
    "# LCBG Catalog"
   ]
  },
  {
   "cell_type": "code",
   "execution_count": 101,
   "metadata": {},
   "outputs": [
    {
     "data": {
      "text/plain": [
       "2"
      ]
     },
     "execution_count": 101,
     "metadata": {},
     "output_type": "execute_result"
    }
   ],
   "source": [
    "M_B = np.array(final_catalog['M_b'])\n",
    "M_V = np.array(final_catalog['M_v'])\n",
    "B_minus_V = M_B-M_V\n",
    "sb = final_catalog['surface_brightness']\n",
    "\n",
    "r_half_light_arcsec_list = final_catalog['r_half_light_arcsec']\n",
    "lcbg_mask = np.where(\n",
    "    (B_minus_V < 0.5).astype(int) & \n",
    "    (sb < 21).astype(int) & \n",
    "    (M_B < -18.5).astype(int) & \n",
    "    \n",
    "    #(final_catalog['zbest'] < 0.5).astype(int)&\n",
    "    #(final_catalog['zbest'] > 0.1).astype(int)&\n",
    "    \n",
    "    #(r_half_light_arcsec_list < 0.5).astype(int) & # Guzman et al. (1997) and Phillips et al. (1997)\n",
    "    (0.2 < r_half_light_arcsec_list).astype(int)   # Remove star like objects\n",
    ")\n",
    "\n",
    "lcbg_catalog = final_catalog[lcbg_mask]\n",
    "len(lcbg_catalog)"
   ]
  },
  {
   "cell_type": "markdown",
   "metadata": {},
   "source": [
    "# Save Catalog"
   ]
  },
  {
   "cell_type": "code",
   "execution_count": 102,
   "metadata": {},
   "outputs": [],
   "source": [
    "output_catalog_filename = \"astrodeep_abell370_catalog.csv\"\n",
    "output_lcbg_catalog_filename = \"astrodeep_abell370_lcbg_catalog.csv\""
   ]
  },
  {
   "cell_type": "code",
   "execution_count": null,
   "metadata": {},
   "outputs": [],
   "source": [
    "astrodeep_abell370_catalog.csv"
   ]
  },
  {
   "cell_type": "code",
   "execution_count": 103,
   "metadata": {},
   "outputs": [],
   "source": [
    "final_catalog.write(output_catalog_filename, format=\"ascii.csv\", overwrite=True)\n",
    "lcbg_catalog.write(output_lcbg_catalog_filename, format=\"ascii.csv\", overwrite=True)"
   ]
  },
  {
   "cell_type": "markdown",
   "metadata": {},
   "source": [
    "# Plots"
   ]
  },
  {
   "cell_type": "markdown",
   "metadata": {},
   "source": [
    "### Plot B-V vs M<sub>b</sub> "
   ]
  },
  {
   "cell_type": "code",
   "execution_count": 98,
   "metadata": {},
   "outputs": [
    {
     "data": {
      "text/plain": [
       "<matplotlib.legend.Legend at 0x7f9d03b19f40>"
      ]
     },
     "execution_count": 98,
     "metadata": {},
     "output_type": "execute_result"
    },
    {
     "data": {
      "image/png": "[encoded data removed]",
      "text/plain": [
       "<Figure size 864x864 with 1 Axes>"
      ]
     },
     "metadata": {
      "needs_background": "light"
     },
     "output_type": "display_data"
    }
   ],
   "source": [
    "plt.scatter(M_B, B_minus_V, color=\"gray\", marker='x')\n",
    "\n",
    "plt.axvline(-18.5, label='M_B = -18.5', linestyle='--')\n",
    "plt.axhline(0.5, label='B-V = 0.5', linestyle='--')\n",
    "\n",
    "plt.scatter(M_B[lcbg_mask], B_minus_V[lcbg_mask], label='LCBG Candidates', c='b', marker='x')\n",
    "plt.scatter(cluster_M_B, cluster_B_minus_V, label='Cluster CD Galaxies', c='r', marker='x')\n",
    "\n",
    "plt.xlabel('M_B')\n",
    "plt.ylabel('(B-V)0')\n",
    "\n",
    "plt.xlim(-14, -24)\n",
    "plt.ylim(1.2, -0)\n",
    "\n",
    "plt.legend()\n"
   ]
  },
  {
   "cell_type": "markdown",
   "metadata": {},
   "source": [
    "### Plot Surface Brightness Vs M_B"
   ]
  },
  {
   "cell_type": "code",
   "execution_count": 99,
   "metadata": {},
   "outputs": [
    {
     "data": {
      "text/plain": [
       "<matplotlib.legend.Legend at 0x7f9d03594ca0>"
      ]
     },
     "execution_count": 99,
     "metadata": {},
     "output_type": "execute_result"
    },
    {
     "data": {
      "image/png": "[encoded data removed]",
      "text/plain": [
       "<Figure size 864x864 with 1 Axes>"
      ]
     },
     "metadata": {
      "needs_background": "light"
     },
     "output_type": "display_data"
    }
   ],
   "source": [
    "plt.scatter(M_B, sb, color=\"gray\", marker='x')\n",
    "\n",
    "plt.axvline(-18.5, label='M_B = -18.5', linestyle='--')\n",
    "plt.axhline(21, label='Surface Brightness = 21', linestyle='--')\n",
    "\n",
    "plt.scatter(M_B[lcbg_mask], sb[lcbg_mask], label='LCBG Candidates', c='b', marker='x')\n",
    "plt.scatter(cluster_M_B, cluster_sb, label='Cluster CD Galaxies', c='r', marker='x')\n",
    "\n",
    "plt.xlabel('M_B')\n",
    "plt.ylabel('Surface Brightness [mag arcsec -2]')\n",
    "\n",
    "plt.xlim(-14, -24)\n",
    "plt.ylim(24, 17)\n",
    "\n",
    "plt.legend()"
   ]
  },
  {
   "cell_type": "markdown",
   "metadata": {},
   "source": [
    "### Plot Surface Brightness Vs B-V"
   ]
  },
  {
   "cell_type": "code",
   "execution_count": 100,
   "metadata": {},
   "outputs": [
    {
     "data": {
      "text/plain": [
       "<matplotlib.legend.Legend at 0x7f9d03a81ee0>"
      ]
     },
     "execution_count": 100,
     "metadata": {},
     "output_type": "execute_result"
    },
    {
     "data": {
      "image/png": "[encoded data removed]",
      "text/plain": [
       "<Figure size 864x864 with 1 Axes>"
      ]
     },
     "metadata": {
      "needs_background": "light"
     },
     "output_type": "display_data"
    }
   ],
   "source": [
    "plt.scatter(B_minus_V, sb, color=\"gray\", marker='x')\n",
    "\n",
    "plt.axvline(0.5, label='B-V = 0.5', linestyle='--')\n",
    "plt.axhline(21, label='Surface Brightness = 21', linestyle='--')\n",
    "\n",
    "plt.scatter(B_minus_V[lcbg_mask], sb[lcbg_mask], label='LCBG Candidates', c='b', marker='x')\n",
    "plt.scatter(cluster_B_minus_V, cluster_sb, label='Cluster CD Galaxies', c='r', marker='x')\n",
    "\n",
    "plt.xlabel('(B-V)0')\n",
    "plt.ylabel('Surface Brightness [mag arcsec -2]')\n",
    "\n",
    "plt.xlim(1.25, 0.)\n",
    "plt.ylim(30, 16)\n",
    "\n",
    "plt.legend()"
   ]
  },
  {
   "cell_type": "code",
   "execution_count": 56,
   "metadata": {},
   "outputs": [
    {
     "name": "stderr",
     "output_type": "stream",
     "text": [
      "No handles with labels found to put in legend.\n"
     ]
    },
    {
     "data": {
      "image/png": "[encoded data removed]",
      "text/plain": [
       "<Figure size 864x864 with 1 Axes>"
      ]
     },
     "metadata": {
      "needs_background": "light"
     },
     "output_type": "display_data"
    }
   ],
   "source": [
    "\n",
    "plt.hist(final_catalog['m_B435']);\n",
    "plt.legend()\n",
    "plt.show()"
   ]
  },
  {
   "cell_type": "code",
   "execution_count": 57,
   "metadata": {},
   "outputs": [
    {
     "name": "stdout",
     "output_type": "stream",
     "text": [
      "single bin width= 0.00996999979019165\n"
     ]
    },
    {
     "data": {
      "image/png": "[encoded data removed]",
      "text/plain": [
       "<Figure size 864x864 with 1 Axes>"
      ]
     },
     "metadata": {
      "needs_background": "light"
     },
     "output_type": "display_data"
    }
   ],
   "source": [
    "num_bins = 100\n",
    "max_value = final_catalog['zbest'].max()\n",
    "bin_width = (max_value / num_bins)\n",
    "print('single bin width=', bin_width)\n",
    "plt.hist(final_catalog['zbest'], bins=[i * bin_width for i in range(num_bins)]);\n",
    "plt.axvline(0.308, c='r', label='Cluster Z from NED')\n",
    "plt.legend()\n",
    "plt.show()"
   ]
  },
  {
   "cell_type": "markdown",
   "metadata": {},
   "source": [
    "# Save plots"
   ]
  },
  {
   "cell_type": "code",
   "execution_count": 58,
   "metadata": {},
   "outputs": [],
   "source": [
    "Table([M_B, B_minus_V, sb], names=['M_B', 'B_minus_V', 'sb']).write('robel_B_minus_V_vs_sb.dat', format='ascii', overwrite=True)"
   ]
  },
  {
   "cell_type": "markdown",
   "metadata": {},
   "source": [
    "## Plot (MAG_I814 - MAG_Y105) Vs. MAG_I814"
   ]
  },
  {
   "cell_type": "code",
   "execution_count": 38,
   "metadata": {},
   "outputs": [
    {
     "data": {
      "text/plain": [
       "Text(0, 0.5, 'm_I814')"
      ]
     },
     "execution_count": 38,
     "metadata": {},
     "output_type": "execute_result"
    },
    {
     "data": {
      "image/png": "[encoded data removed]",
      "text/plain": [
       "<Figure size 864x864 with 1 Axes>"
      ]
     },
     "metadata": {
      "needs_background": "light"
     },
     "output_type": "display_data"
    }
   ],
   "source": [
    "plt.scatter(mags['MAG_I814'][catalog_mask]-mags['MAG_Y105'][catalog_mask], \n",
    "            mags['MAG_I814'][catalog_mask])\n",
    "plt.ylim(28, 18)\n",
    "plt.xlim(-0.5, 1);\n",
    "plt.xlabel(\"m_I814 - m_Y105\")\n",
    "plt.ylabel(\"m_I814\")"
   ]
  },
  {
   "cell_type": "markdown",
   "metadata": {},
   "source": [
    "`https://arxiv.org/pdf/1706.02521.pdf`"
   ]
  },
  {
   "cell_type": "markdown",
   "metadata": {},
   "source": [
    "# Other"
   ]
  },
  {
   "cell_type": "code",
   "execution_count": 39,
   "metadata": {},
   "outputs": [
    {
     "ename": "NameError",
     "evalue": "name 'j' is not defined",
     "output_type": "error",
     "traceback": [
      "\u001b[0;31m---------------------------------------------------------------------------\u001b[0m",
      "\u001b[0;31mNameError\u001b[0m                                 Traceback (most recent call last)",
      "\u001b[0;32m<ipython-input-39-85bd188fed0c>\u001b[0m in \u001b[0;36m<module>\u001b[0;34m\u001b[0m\n\u001b[0;32m----> 1\u001b[0;31m \u001b[0mplt\u001b[0m\u001b[0;34m.\u001b[0m\u001b[0mscatter\u001b[0m\u001b[0;34m(\u001b[0m\u001b[0mj\u001b[0m\u001b[0;34m[\u001b[0m\u001b[0;34m'MAG_I814'\u001b[0m\u001b[0;34m]\u001b[0m\u001b[0;34m-\u001b[0m\u001b[0mmags\u001b[0m\u001b[0;34m[\u001b[0m\u001b[0;34m'MAG_Y105'\u001b[0m\u001b[0;34m]\u001b[0m\u001b[0;34m,\u001b[0m \u001b[0mmags\u001b[0m\u001b[0;34m[\u001b[0m \u001b[0;34m'MAG_I814'\u001b[0m\u001b[0;34m]\u001b[0m\u001b[0;34m)\u001b[0m\u001b[0;34m\u001b[0m\u001b[0;34m\u001b[0m\u001b[0m\n\u001b[0m\u001b[1;32m      2\u001b[0m \u001b[0mplt\u001b[0m\u001b[0;34m.\u001b[0m\u001b[0mylim\u001b[0m\u001b[0;34m(\u001b[0m\u001b[0;36m28\u001b[0m\u001b[0;34m,\u001b[0m \u001b[0;36m18\u001b[0m\u001b[0;34m)\u001b[0m\u001b[0;34m\u001b[0m\u001b[0;34m\u001b[0m\u001b[0m\n\u001b[1;32m      3\u001b[0m \u001b[0mplt\u001b[0m\u001b[0;34m.\u001b[0m\u001b[0mxlim\u001b[0m\u001b[0;34m(\u001b[0m\u001b[0;34m-\u001b[0m\u001b[0;36m0.5\u001b[0m\u001b[0;34m,\u001b[0m \u001b[0;36m1\u001b[0m\u001b[0;34m)\u001b[0m\u001b[0;34m;\u001b[0m\u001b[0;34m\u001b[0m\u001b[0;34m\u001b[0m\u001b[0m\n\u001b[1;32m      4\u001b[0m \u001b[0mplt\u001b[0m\u001b[0;34m.\u001b[0m\u001b[0mxlabel\u001b[0m\u001b[0;34m(\u001b[0m\u001b[0;34m\"m_I814 - m_Y105\"\u001b[0m\u001b[0;34m)\u001b[0m\u001b[0;34m\u001b[0m\u001b[0;34m\u001b[0m\u001b[0m\n\u001b[1;32m      5\u001b[0m \u001b[0mplt\u001b[0m\u001b[0;34m.\u001b[0m\u001b[0mylabel\u001b[0m\u001b[0;34m(\u001b[0m\u001b[0;34m\"m_I814\"\u001b[0m\u001b[0;34m)\u001b[0m\u001b[0;34m\u001b[0m\u001b[0;34m\u001b[0m\u001b[0m\n",
      "\u001b[0;31mNameError\u001b[0m: name 'j' is not defined"
     ]
    }
   ],
   "source": [
    "plt.scatter(j['MAG_I814']-mags['MAG_Y105'], mags[ 'MAG_I814'])\n",
    "plt.ylim(28, 18)\n",
    "plt.xlim(-0.5, 1);\n",
    "plt.xlabel(\"m_I814 - m_Y105\")\n",
    "plt.ylabel(\"m_I814\")"
   ]
  },
  {
   "cell_type": "code",
   "execution_count": null,
   "metadata": {},
   "outputs": [],
   "source": [
    "plt.scatter(M_B, sb, color=\"gray\", marker='x')\n",
    "\n",
    "plt.axvline(-18.5, label='M_B = -18.5', linestyle='--')\n",
    "plt.axhline(21, label='Surface Brightness = 21', linestyle='--')\n",
    "\n",
    "plt.scatter(M_B[lcbg_mask], sb[lcbg_mask], label='LCBG Candidates', c='b', marker='x')\n",
    "plt.scatter(cluster_M_B, cluster_sb, label='Cluster CD Galaxies', c='r', marker='x')\n",
    "\n",
    "plt.xlabel('M_B')\n",
    "plt.ylabel('Surface Brightness [mag arcsec -2]')\n",
    "\n",
    "plt.xlim(-14, -24)\n",
    "#plt.ylim(30, 16)\n",
    "\n",
    "plt.legend()"
   ]
  },
  {
   "cell_type": "code",
   "execution_count": null,
   "metadata": {},
   "outputs": [],
   "source": [
    "plt.scatter(M_B, sb, color=\"gray\", marker='x')\n",
    "\n",
    "plt.axvline(-18.5, label='M_B = -18.5', linestyle='--')\n",
    "plt.axhline(21, label='Surface Brightness = 21', linestyle='--')\n",
    "\n",
    "plt.scatter(M_B[lcbg_mask], sb[lcbg_mask], label='LCBG Candidates', c='b', marker='x')\n",
    "#plt.scatter(cluster_M_B, cluster_sb, label='Cluster CD Galaxies', c='r', marker='x')\n",
    "\n",
    "plt.xlabel('M_B')\n",
    "plt.ylabel('Surface Brightness [mag arcsec -2]')\n",
    "\n",
    "plt.xlim(-14, -30)\n",
    "plt.ylim(11, 30)\n",
    "##plt.ylim(30, 16)\n",
    "\n",
    "plt.legend()"
   ]
  },
  {
   "cell_type": "code",
   "execution_count": null,
   "metadata": {},
   "outputs": [],
   "source": [
    "[np.array(r_half_light_arcsec)[np.where(~np.isnan(r_half_light_arcsec))].min(),\n",
    "np.array(r_half_light_arcsec)[np.where(~np.isnan(r_half_light_arcsec))].max(),\n",
    "np.array(r_half_light_arcsec)[np.where(~np.isnan(r_half_light_arcsec))].mean()]"
   ]
  },
  {
   "cell_type": "code",
   "execution_count": null,
   "metadata": {},
   "outputs": [],
   "source": []
  },
  {
   "cell_type": "code",
   "execution_count": null,
   "metadata": {},
   "outputs": [],
   "source": [
    "\"\"\"\n",
    "input_catalog_formatter = \"hlsp_frontier_hst_wfc3-60mas_abell2744_{}_v1.0_drz_catalog_petrosian.csv\"\n",
    "robel_cat = Table.read(input_catalog_formatter.format('f105w'))\n",
    "\n",
    "robel_ra, robel_dec = np.array([ coord.split(',') for coord in robel_cat['sky_centroid']]).astype(float).transpose()\n",
    "\n",
    "radii = []\n",
    "for row in astro_deep_cat:\n",
    "    ra, dec = row['RA'], row['DEC'] \n",
    "    \n",
    "    coord_delta = ((robel_ra - ra)**2 + (robel_dec - dec)**2)\n",
    "    if coord_delta.min() > 1e-06:\n",
    "        radii.append(np.nan)\n",
    "        continue\n",
    "        print(coord_delta.min())\n",
    "    idx = coord_delta.argmin()\n",
    "    \n",
    "    radii.append(robel_cat[idx]['r_half_light_arcsec'])\n",
    "\n",
    "radii = np.array(radii)\n",
    "\"\"\";"
   ]
  },
  {
   "cell_type": "code",
   "execution_count": null,
   "metadata": {
    "scrolled": true
   },
   "outputs": [],
   "source": [
    "\"\"\"\n",
    "robel_cat = Table.read('hlsp_frontier_hst_wfc3-60mas_abell2744_f105w_v1.0_drz_catalog_fine_petrosian.csv')\n",
    "robel_ra, robel_dec = np.array([ coord.split(',') for coord in robel_cat['sky_centroid']]).astype(float).transpose()\n",
    "\n",
    "radii = np.zeros_like(z_best)\n",
    "radii[:] = np.nan\n",
    "\n",
    "for col, [ra, dec] in enumerate(zip(robel_ra, robel_dec)):\n",
    "    \n",
    "    coord_delta = ((astro_deep_cat['RA'] - ra)**2 + (astro_deep_cat['DEC'] - dec)**2)\n",
    "    if coord_delta.min() > 1e-05:\n",
    "        print(coord_delta.min())\n",
    "        continue\n",
    "    idx = coord_delta.argmin()\n",
    "    \n",
    "    if not isinstance(robel_cat[col]['r_half_light_arcsec'], float):\n",
    "        #radii[idx] = robel_cat[col]['semimajor_axis_sigma']\n",
    "        radii[idx] = np.nan\n",
    "    else:\n",
    "        radii[idx] = robel_cat[col]['r_half_light_arcsec']\n",
    "        \n",
    "    if astro_deep_cat['ID'][idx]  == 100013:\n",
    "        print(radii[idx], robel_cat[col]['id'])\n",
    "\n",
    "radii = np.array(radii)\n",
    "#radii[np.where(np.isnan(radii))] = 0.308\n",
    "print(\"Num sources with radii matchs: \", np.where(sep2d.arcsec > 0.1)[0].shape[0])\n",
    "\n",
    "print(\"Fraction sources with radii matchs: \", 1 - np.where(sep2d.arcsec > 0.1)[0].shape[0] / len(astro_deep_cat))\n",
    "\"\"\";"
   ]
  }
 ],
 "metadata": {
  "kernelspec": {
   "display_name": "Python 3",
   "language": "python",
   "name": "python3"
  },
  "language_info": {
   "codemirror_mode": {
    "name": "ipython",
    "version": 3
   },
   "file_extension": ".py",
   "mimetype": "text/x-python",
   "name": "python",
   "nbconvert_exporter": "python",
   "pygments_lexer": "ipython3",
   "version": "3.8.5"
  }
 },
 "nbformat": 4,
 "nbformat_minor": 2
}
