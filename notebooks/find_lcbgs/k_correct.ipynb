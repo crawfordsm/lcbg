{
 "cells": [
  {
   "cell_type": "code",
   "execution_count": 1,
   "metadata": {},
   "outputs": [],
   "source": [
    "import os \n",
    "\n",
    "import numpy as np\n",
    "\n",
    "from astropy.cosmology import WMAP9 as cosmo\n",
    "from astropy.table import Table\n",
    "\n",
    "import kcorrect\n",
    "import kcorrect.utils as ut"
   ]
  },
  {
   "cell_type": "code",
   "execution_count": 2,
   "metadata": {},
   "outputs": [],
   "source": [
    "%matplotlib inline\n",
    "from matplotlib import pyplot as plt\n",
    "from matplotlib import gridspec\n",
    "from mpl_toolkits.mplot3d import Axes3D\n",
    "from matplotlib import cm\n",
    "plt.rcParams['figure.figsize'] = [12, 12]"
   ]
  },
  {
   "cell_type": "markdown",
   "metadata": {},
   "source": [
    "# Define Paths"
   ]
  },
  {
   "cell_type": "code",
   "execution_count": 58,
   "metadata": {},
   "outputs": [],
   "source": [
    "filter_list = ['f105w', 'f125w', 'f140w', 'f160w']\n",
    "input_catalog_formatter = \"hlsp_frontier_hst_wfc3-60mas_abell2744_{}_v1.0_drz_catalog_petrosian.csv\"\n",
    "output_catalog_filename = \"hlsp_frontier_hst_wfc3-60mas_abell2744_v1.0_drz_magnitude_catalog.csv\""
   ]
  },
  {
   "cell_type": "markdown",
   "metadata": {},
   "source": [
    "# Load Catalogs"
   ]
  },
  {
   "cell_type": "code",
   "execution_count": 119,
   "metadata": {},
   "outputs": [],
   "source": [
    "cat = {}\n",
    "\n",
    "mags = {}\n",
    "mag_err = {}\n",
    "\n",
    "maggies = {}\n",
    "maggies_err = {}\n",
    "\n",
    "num_sources = None\n",
    "\n",
    "for f in filter_list:\n",
    "    cat[f] = Table.read(input_catalog_formatter.format(f))\n",
    "    \n",
    "    for col in cat[f].columns:\n",
    "        cat[f][col].fill_value = np.nan\n",
    "    \n",
    "    cat[f] = cat[f].filled()\n",
    "    \n",
    "    mags[f] = np.array(cat[f]['mag_total'][:]) \n",
    "    mag_err[f] = np.array(cat[f]['mag_total_err'][:])\n",
    "    \n",
    "    maggies[f] = ut.mag2maggies(mags[f])\n",
    "    maggies_err[f] = ut.mag2maggies(mag_err[f])\n",
    "    \n",
    "    if num_sources is None:\n",
    "        num_sources = len(cat[f])\n",
    "    else:\n",
    "        assert num_sources == len(cat[f])"
   ]
  },
  {
   "cell_type": "markdown",
   "metadata": {},
   "source": [
    "# Load Input Filters"
   ]
  },
  {
   "cell_type": "code",
   "execution_count": 120,
   "metadata": {},
   "outputs": [],
   "source": [
    "def print_filter_file(path):\n",
    "    with open(path) as f:\n",
    "        for line in f:\n",
    "            print(line.replace(\"\\n\", \"\"))"
   ]
  },
  {
   "cell_type": "code",
   "execution_count": 121,
   "metadata": {},
   "outputs": [],
   "source": [
    "input_filter_file = os.path.abspath('hst_filters_2.dat')"
   ]
  },
  {
   "cell_type": "code",
   "execution_count": 122,
   "metadata": {},
   "outputs": [
    {
     "name": "stdout",
     "output_type": "stream",
     "text": [
      "KCORRECT_DIR\n",
      "data/filters/clash_wfc3_f105w.par\n",
      "data/filters/clash_wfc3_f125w.par\n",
      "data/filters/clash_wfc3_f140w.par\n",
      "data/filters/clash_wfc3_f160w.par\n"
     ]
    }
   ],
   "source": [
    "print_filter_file(input_filter_file)"
   ]
  },
  {
   "cell_type": "code",
   "execution_count": 123,
   "metadata": {},
   "outputs": [],
   "source": [
    "kcorrect.load_templates()\n",
    "kcorrect.load_filters(input_filter_file)"
   ]
  },
  {
   "cell_type": "markdown",
   "metadata": {},
   "source": [
    "# Fit Nonnegative Sums"
   ]
  },
  {
   "cell_type": "code",
   "execution_count": 124,
   "metadata": {},
   "outputs": [],
   "source": [
    "kcorrect_constants = []\n",
    "\n",
    "for i in range(0, num_sources):\n",
    "    \n",
    "    all_maggies = np.array([maggies[f][i] for f in filter_list])\n",
    "    all_maggies_err = np.array([maggies_err[f][i] for f in filter_list])\n",
    "    \n",
    "    constants = kcorrect.fit_nonneg(0.30800, all_maggies, all_maggies_err)\n",
    "    \n",
    "    kcorrect_constants.append(constants)\n",
    "    "
   ]
  },
  {
   "cell_type": "markdown",
   "metadata": {},
   "source": [
    "# Reconstruct Maggies"
   ]
  },
  {
   "cell_type": "code",
   "execution_count": 125,
   "metadata": {},
   "outputs": [],
   "source": [
    "def multi_reconstruct_maggies(kcorrect_constants, filter_list, redshift=-1.0):\n",
    "    re_maggies = {f: [] for f in filter_list}\n",
    "    \n",
    "    for constants in kcorrect_constants:\n",
    "        z, *result = kcorrect.reconstruct_maggies(constants, redshift=redshift)\n",
    "\n",
    "        for i, f in enumerate(filter_list):\n",
    "            re_maggies[f].append(result[i])\n",
    "            \n",
    "    for i, f in enumerate(filter_list):\n",
    "        re_maggies[f] = np.array(re_maggies[f])\n",
    "        \n",
    "    return z, re_maggies\n",
    "    "
   ]
  },
  {
   "cell_type": "code",
   "execution_count": 126,
   "metadata": {},
   "outputs": [],
   "source": [
    "def stack_filter_dict(dictionary):\n",
    "    return np.stack(tuple(dictionary.values()), axis=-1)"
   ]
  },
  {
   "cell_type": "code",
   "execution_count": 127,
   "metadata": {},
   "outputs": [],
   "source": [
    "z, re_maggies = multi_reconstruct_maggies(kcorrect_constants, filter_list)\n",
    "z0, re_maggies_z0 = multi_reconstruct_maggies(kcorrect_constants, filter_list, redshift=0)"
   ]
  },
  {
   "cell_type": "markdown",
   "metadata": {},
   "source": [
    "# Compare Reconstructed Maggies Vs Input Maggies"
   ]
  },
  {
   "cell_type": "code",
   "execution_count": 128,
   "metadata": {},
   "outputs": [
    {
     "data": {
      "image/png": "[encoded data removed]",
      "text/plain": [
       "<Figure size 864x864 with 1 Axes>"
      ]
     },
     "metadata": {
      "needs_background": "light"
     },
     "output_type": "display_data"
    }
   ],
   "source": [
    "all_re_maggies = stack_filter_dict(re_maggies)\n",
    "all_maggies = stack_filter_dict(maggies)\n",
    "\n",
    "percent_err = 100 * (all_re_maggies - all_maggies) / all_maggies\n",
    "\n",
    "plt.hist((percent_err).mean(axis=1), bins=100)\n",
    "plt.title(\"Histogram of Percent Error: Reconstructed Maggies Vs Input Maggies\")\n",
    "plt.xlabel(\"Mean Percent Error of Filters\")\n",
    "plt.ylabel(\"Count\")\n",
    "plt.show()"
   ]
  },
  {
   "cell_type": "markdown",
   "metadata": {},
   "source": [
    "# Compute kcorr"
   ]
  },
  {
   "cell_type": "code",
   "execution_count": 129,
   "metadata": {},
   "outputs": [],
   "source": [
    "kcorr = -2.5 * np.log10(stack_filter_dict(re_maggies) / stack_filter_dict(re_maggies_z0))"
   ]
  },
  {
   "cell_type": "markdown",
   "metadata": {},
   "source": [
    "# Load Johnson Filters"
   ]
  },
  {
   "cell_type": "code",
   "execution_count": 130,
   "metadata": {},
   "outputs": [],
   "source": [
    "johnson_filter_list = ['u', 'b', 'v']"
   ]
  },
  {
   "cell_type": "code",
   "execution_count": 131,
   "metadata": {},
   "outputs": [],
   "source": [
    "johnson_filter_file = os.path.abspath('johnson_b.dat')"
   ]
  },
  {
   "cell_type": "code",
   "execution_count": 132,
   "metadata": {},
   "outputs": [
    {
     "name": "stdout",
     "output_type": "stream",
     "text": [
      "KCORRECT_DIR\n",
      "data/filters/bessell_U.par\n",
      "data/filters/bessell_B.par\n",
      "data/filters/bessell_V.par\n"
     ]
    }
   ],
   "source": [
    "print_filter_file(johnson_filter_file)"
   ]
  },
  {
   "cell_type": "code",
   "execution_count": 133,
   "metadata": {},
   "outputs": [],
   "source": [
    "kcorrect.load_templates()\n",
    "kcorrect.load_filters(johnson_filter_file)"
   ]
  },
  {
   "cell_type": "markdown",
   "metadata": {},
   "source": [
    "# Compute Johnson Maggies "
   ]
  },
  {
   "cell_type": "code",
   "execution_count": 134,
   "metadata": {},
   "outputs": [],
   "source": [
    "z0, johnson_maggies_z0 = multi_reconstruct_maggies(kcorrect_constants, johnson_filter_list, redshift=0)"
   ]
  },
  {
   "cell_type": "markdown",
   "metadata": {},
   "source": [
    "# Compute Vega Mag "
   ]
  },
  {
   "cell_type": "code",
   "execution_count": 135,
   "metadata": {},
   "outputs": [],
   "source": [
    "m_vega_mags = {f: [] for f in johnson_filter_list}\n",
    "abs_vega_mags = {f: [] for f in johnson_filter_list}\n",
    "\n",
    "# Johnson filters\n",
    "for i, f in enumerate(johnson_filter_list):\n",
    "    m_vega_mags[f] = -2.5 * np.log10(johnson_maggies_z0[f]) + 0.09\n",
    "    abs_vega_mags[f] = m_vega_mags[f] - cosmo.distmod(0.30800).value\n",
    "\n",
    "# Original filters\n",
    "for i, f in enumerate(filter_list):\n",
    "    m_vega_mags[f] = -2.5 * np.log10(re_maggies_z0[f]) + 0.09\n",
    "    abs_vega_mags[f] = m_vega_mags[f] - cosmo.distmod(0.30800).value\n"
   ]
  },
  {
   "cell_type": "markdown",
   "metadata": {},
   "source": [
    "# Compute Surface Brightnesses"
   ]
  },
  {
   "cell_type": "code",
   "execution_count": 136,
   "metadata": {},
   "outputs": [],
   "source": [
    "m_b = m_vega_mags['b']"
   ]
  },
  {
   "cell_type": "code",
   "execution_count": 137,
   "metadata": {},
   "outputs": [],
   "source": [
    "r_half_light = np.array(cat['f105w'][\"r_half_light\"])"
   ]
  },
  {
   "cell_type": "code",
   "execution_count": 141,
   "metadata": {},
   "outputs": [],
   "source": [
    "surface_brightnesses = m_b + 5 * np.log10(r_half_light) + 2.5 * np.log10(2 * np.pi) - 10 * np.log10(1+0.30800)\n",
    "surface_brightnesses[np.where(np.isnan(surface_brightnesses))] = np.nan"
   ]
  },
  {
   "cell_type": "markdown",
   "metadata": {},
   "source": [
    "# Make Catalog"
   ]
  },
  {
   "cell_type": "code",
   "execution_count": 196,
   "metadata": {
    "scrolled": true
   },
   "outputs": [],
   "source": [
    "# Define Column Names \n",
    "col_names = [\n",
    "    'id',\n",
    "    'sky_centroid',\n",
    "    'r_petrosian',\n",
    "    'r_half_light',\n",
    "    'r_total_flux',\n",
    "    'r_half_light_arcsec',\n",
    "    'r_total_flux_arcsec',\n",
    "    'r20',\n",
    "    'r80',\n",
    "    'c2080',\n",
    "    'n_estimate',\n",
    "    'f_half_light',\n",
    "    'mag_half_light',\n",
    "    'mag_half_light_err',\n",
    "    'f_total',\n",
    "    'mag_total',\n",
    "    'mag_total_err',\n",
    "    'surface_brightnesses',\n",
    "] \n",
    "\n",
    "\n",
    "col_names += [\"m_{}\".format(f) for f in m_vega_mags.keys()] \n",
    "col_names += [\"M_{}\".format(f) for f in abs_vega_mags.keys()]\n",
    "col_names += [\"kcorrect_constant_{}\".format(i) for i in range(len(kcorrect_constants[0]))]\n",
    "\n",
    "# Construct the rows of the catalog\n",
    "final_catalog_rows = [\n",
    "    cat['f105w']['id'],\n",
    "    cat['f105w']['sky_centroid'],\n",
    "    cat['f105w']['r_petrosian'],\n",
    "    cat['f105w']['r_half_light'],\n",
    "    cat['f105w']['r_total_flux'],\n",
    "    cat['f105w']['r_half_light_arcsec'],\n",
    "    cat['f105w']['r_total_flux_arcsec'],\n",
    "    cat['f105w']['r20'],\n",
    "    cat['f105w']['r80'],\n",
    "    cat['f105w']['c2080'],\n",
    "    cat['f105w']['n_estimate'],\n",
    "    cat['f105w']['f_half_light'],\n",
    "    cat['f105w']['mag_half_light'],\n",
    "    cat['f105w']['mag_half_light_err'],\n",
    "    cat['f105w']['f_total'],\n",
    "    cat['f105w']['mag_total'],\n",
    "    cat['f105w']['mag_total_err'],\n",
    "] \n",
    "\n",
    "final_catalog_rows += [surface_brightnesses]\n",
    "final_catalog_rows += list(m_vega_mags.values()) \n",
    "final_catalog_rows += list(abs_vega_mags.values()) \n",
    "final_catalog_rows += list(map(list, zip(*kcorrect_constants)))    \n",
    "\n",
    "# Make the catalog\n",
    "final_catalog = Table(data=final_catalog_rows, names=col_names)\n",
    "\n",
    "# Mask out sources with missing values\n",
    "# r80 is a good indicator that things failed so we use that column to mask\n",
    "catalog_mask = np.invert(np.isnan(final_catalog['r80']) | np.isnan(surface_brightnesses))\n",
    "final_catalog = final_catalog[catalog_mask]"
   ]
  },
  {
   "cell_type": "code",
   "execution_count": 197,
   "metadata": {},
   "outputs": [
    {
     "data": {
      "text/html": [
       "<i>Table length=410</i>\n",
       "<table id=\"table139780769743920\" class=\"table-striped table-bordered table-condensed\">\n",
       "<thead><tr><th>id</th><th>sky_centroid</th><th>r_petrosian</th><th>r_half_light</th><th>r_total_flux</th><th>r_half_light_arcsec</th><th>r_total_flux_arcsec</th><th>r20</th><th>r80</th><th>c2080</th><th>n_estimate</th><th>f_half_light</th><th>mag_half_light</th><th>mag_half_light_err</th><th>f_total</th><th>mag_total</th><th>mag_total_err</th><th>surface_brightnesses</th><th>m_u</th><th>m_b</th><th>m_v</th><th>m_f105w</th><th>m_f125w</th><th>m_f140w</th><th>m_f160w</th><th>M_u</th><th>M_b</th><th>M_v</th><th>M_f105w</th><th>M_f125w</th><th>M_f140w</th><th>M_f160w</th><th>kcorrect_constant_0</th><th>kcorrect_constant_1</th><th>kcorrect_constant_2</th><th>kcorrect_constant_3</th><th>kcorrect_constant_4</th><th>kcorrect_constant_5</th></tr></thead>\n",
       "<thead><tr><th>int64</th><th>str38</th><th>float64</th><th>float64</th><th>float64</th><th>float64</th><th>float64</th><th>float64</th><th>float64</th><th>float64</th><th>float64</th><th>float64</th><th>float64</th><th>float64</th><th>float64</th><th>float64</th><th>float64</th><th>float64</th><th>float32</th><th>float32</th><th>float32</th><th>float32</th><th>float32</th><th>float32</th><th>float32</th><th>float32</th><th>float32</th><th>float32</th><th>float32</th><th>float32</th><th>float32</th><th>float32</th><th>float32</th><th>float32</th><th>float32</th><th>float32</th><th>float32</th><th>float32</th></tr></thead>\n",
       "<tr><td>339</td><td>3.5862748381452128,-30.400429314663135</td><td>84.07261452290459</td><td>36.271054210842166</td><td>168.14522904580917</td><td>2.1762628491846394</td><td>10.088711872362756</td><td>11.21004200840168</td><td>76.69353870774155</td><td>4.175757684473675</td><td>3.082253002812057</td><td>2556.10682865093</td><td>17.74987036709313</td><td>22.00934411778329</td><td>5111.359896760352</td><td>16.997476715452272</td><td>21.633147291962857</td><td>26.336695370552277</td><td>17.87267</td><td>17.709522</td><td>17.680086</td><td>16.986286</td><td>16.800528</td><td>16.696545</td><td>16.586615</td><td>-23.17649</td><td>-23.339638</td><td>-23.369074</td><td>-24.062874</td><td>-24.248632</td><td>-24.352615</td><td>-24.462545</td><td>0.308</td><td>7.2189e-06</td><td>2.8921207e-08</td><td>4.1031302e-07</td><td>8.372497e-07</td><td>5.051484e-07</td></tr>\n",
       "<tr><td>455</td><td>3.594814218595431,-30.3916651495097</td><td>62.538707741548315</td><td>23.18363672734547</td><td>125.07741548309663</td><td>1.391017945754465</td><td>7.50464353767055</td><td>8.100620124024806</td><td>55.43808761752351</td><td>4.176449869834916</td><td>3.0839668781803424</td><td>1428.5754475137028</td><td>18.381559914055593</td><td>22.325188891264517</td><td>2856.327348335467</td><td>17.629297923187693</td><td>21.94905789583057</td><td>25.912190370437582</td><td>18.402716</td><td>18.25691</td><td>18.254223</td><td>17.650288</td><td>17.479452</td><td>17.381239</td><td>17.276508</td><td>-22.646444</td><td>-22.79225</td><td>-22.794937</td><td>-23.398872</td><td>-23.569708</td><td>-23.667921</td><td>-23.772652</td><td>0.308</td><td>3.7351895e-06</td><td>1.7962325e-08</td><td>2.2870336e-07</td><td>4.489837e-07</td><td>3.005113e-07</td></tr>\n",
       "<tr><td>379</td><td>3.5854180928586743,-30.39421281208224</td><td>46.89877975595119</td><td>17.66093218643729</td><td>93.79755951190238</td><td>1.0596557347325117</td><td>5.627852527344528</td><td>5.826565313062613</td><td>46.43468693738748</td><td>4.507149514131746</td><td>4.023005713560103</td><td>1018.6908662706542</td><td>18.748711837901453</td><td>22.50876485318745</td><td>2037.8271204484895</td><td>17.995899524081413</td><td>22.13235869627743</td><td>25.715401268018194</td><td>18.802862</td><td>18.65096</td><td>18.639694</td><td>18.0072</td><td>17.831194</td><td>17.731047</td><td>17.624617</td><td>-22.246298</td><td>-22.3982</td><td>-22.409466</td><td>-23.04196</td><td>-23.217966</td><td>-23.318113</td><td>-23.424543</td><td>0.308</td><td>2.7397768e-06</td><td>1.23350175e-08</td><td>1.5685151e-07</td><td>2.9718387e-07</td><td>2.1788377e-07</td></tr>\n",
       "<tr><td>283</td><td>3.59261551144839,-30.404485926812793</td><td>41.654530906181236</td><td>18.125025005001</td><td>83.30906181236247</td><td>1.0875012986839363</td><td>4.998542782042331</td><td>5.501700340068014</td><td>41.97939587917584</td><td>4.4126962616710985</td><td>3.729149464695322</td><td>942.1054549133827</td><td>18.83356907241577</td><td>22.55119347044461</td><td>1885.3579584874974</td><td>18.080333322122904</td><td>22.174575595298172</td><td>25.840919111553145</td><td>18.870487</td><td>18.720154</td><td>18.712963</td><td>18.099756</td><td>17.927406</td><td>17.82877</td><td>17.72371</td><td>-22.178673</td><td>-22.329006</td><td>-22.336197</td><td>-22.949404</td><td>-23.121754</td><td>-23.22039</td><td>-23.32545</td><td>0.308</td><td>2.482651e-06</td><td>1.1583193e-08</td><td>1.451385e-07</td><td>2.7426654e-07</td><td>2.0712898e-07</td></tr>\n",
       "<tr><td>366</td><td>3.587595012409505,-30.396447326611995</td><td>50.936387277455495</td><td>18.728345669133827</td><td>101.87277455491099</td><td>1.1237005318207884</td><td>6.112365340099317</td><td>5.73374674934987</td><td>45.460092018403685</td><td>4.495959017730987</td><td>3.9870531729443686</td><td>985.8334438115623</td><td>18.78430900034876</td><td>22.526563434411102</td><td>1973.4306527171434</td><td>18.03076319425601</td><td>22.149790531364726</td><td>25.880097920876214</td><td>18.832043</td><td>18.688229</td><td>18.679647</td><td>18.028408</td><td>17.847977</td><td>17.745564</td><td>17.636986</td><td>-22.217117</td><td>-22.360931</td><td>-22.369513</td><td>-23.020752</td><td>-23.201183</td><td>-23.303596</td><td>-23.412174</td><td>0.308</td><td>2.7352469e-06</td><td>1.2243767e-08</td><td>1.6243106e-07</td><td>3.2716702e-07</td><td>1.8009031e-07</td></tr>\n",
       "<tr><td>56</td><td>3.5696516943216072,-30.40507042141748</td><td>4.944788957791559</td><td>2.0674134826965394</td><td>9.889577915583118</td><td>0.12404478596464381</td><td>0.5933745649269532</td><td>1.0928185637127426</td><td>3.5989197839567915</td><td>2.5881205152142965</td><td>0.8305316653928426</td><td>1152.0576351622326</td><td>18.615132352164327</td><td>22.441975110318886</td><td>2338.766962123425</td><td>17.846350492772608</td><td>22.057584180623028</td><td>20.297507792398417</td><td>17.897106</td><td>17.890999</td><td>18.067835</td><td>18.037846</td><td>17.978392</td><td>17.918385</td><td>17.848532</td><td>-23.152054</td><td>-23.158161</td><td>-22.981325</td><td>-23.011314</td><td>-23.070768</td><td>-23.130775</td><td>-23.200628</td><td>0.308</td><td>1.9986808e-06</td><td>3.309957e-08</td><td>2.0822493e-07</td><td>3.8740689e-07</td><td>5.537905e-08</td></tr>\n",
       "<tr><td>245</td><td>3.5796649204425623,-30.40918690421905</td><td>33.857771554310865</td><td>12.23104620924185</td><td>67.71554310862173</td><td>0.7338626365008435</td><td>4.0629318332744635</td><td>4.573514702940589</td><td>28.056611322264455</td><td>3.938925680875638</td><td>2.5504584668690486</td><td>828.2998243878776</td><td>18.973348945268647</td><td>22.621083406871044</td><td>1657.4629180550112</td><td>18.220208316376045</td><td>22.244513092424743</td><td>25.17325497829658</td><td>19.05597</td><td>18.906565</td><td>18.889225</td><td>18.207127</td><td>18.021187</td><td>17.916706</td><td>17.80633</td><td>-21.99319</td><td>-22.142595</td><td>-22.159935</td><td>-22.842033</td><td>-23.027973</td><td>-23.132454</td><td>-23.24283</td><td>0.308</td><td>2.367939e-06</td><td>9.9012e-09</td><td>1.3042781e-07</td><td>2.5139715e-07</td><td>1.534127e-07</td></tr>\n",
       "<tr><td>346</td><td>3.5865165210289724,-30.399024409772874</td><td>94.14342868573715</td><td>28.799159831966396</td><td>188.2868573714743</td><td>1.7279492695667031</td><td>11.297209347854585</td><td>9.771354270854172</td><td>71.124424884977</td><td>4.310320041577045</td><td>3.4344070554880393</td><td>821.7154618205642</td><td>18.982014221076582</td><td>22.62541604477501</td><td>1643.9662531806362</td><td>18.229085622884075</td><td>22.24895174567876</td><td>26.974030568429708</td><td>18.98786</td><td>18.84776</td><td>18.849443</td><td>18.247513</td><td>18.076385</td><td>17.977785</td><td>17.87265</td><td>-22.0613</td><td>-22.2014</td><td>-22.199717</td><td>-22.801647</td><td>-22.972775</td><td>-23.071375</td><td>-23.17651</td><td>0.308</td><td>2.161149e-06</td><td>1.0587026e-08</td><td>1.3588642e-07</td><td>2.7277503e-07</td><td>1.6182881e-07</td></tr>\n",
       "<tr><td>162</td><td>3.600045445816246,-30.389714301369754</td><td>61.053610722144434</td><td>28.752750550110022</td><td>122.10722144428887</td><td>1.7251647131715606</td><td>7.326431928381432</td><td>13.112822564512904</td><td>50.10102020404081</td><td>2.910751924269976</td><td>1.1242581979664852</td><td>743.24636684977</td><td>19.09098588108324</td><td>22.67990187477834</td><td>1486.5084100578115</td><td>18.338399441951413</td><td>22.30360865521243</td><td>27.137982226505333</td><td>19.159191</td><td>19.015213</td><td>19.001371</td><td>18.322727</td><td>18.138187</td><td>18.033901</td><td>17.923504</td><td>-21.889969</td><td>-22.033947</td><td>-22.047789</td><td>-22.726433</td><td>-22.910973</td><td>-23.015259</td><td>-23.125656</td><td>0.308</td><td>2.1036558e-06</td><td>9.155429e-09</td><td>1.3464663e-07</td><td>3.0605344e-07</td><td>1.14857215e-07</td></tr>\n",
       "<tr><td>335</td><td>3.5902956481716304,-30.400426503312243</td><td>54.69553910782157</td><td>22.673134626925386</td><td>109.39107821564313</td><td>1.3603878254078978</td><td>6.563463476112396</td><td>7.636527305461092</td><td>45.552910582116425</td><td>3.8781011113219988</td><td>2.4302565943338315</td><td>540.6648161368274</td><td>19.43649759672042</td><td>22.852657732596935</td><td>1081.4207319427885</td><td>18.68383114050009</td><td>22.476324504486765</td><td>27.665182399382328</td><td>20.69995</td><td>20.058252</td><td>19.711403</td><td>18.657026</td><td>18.438887</td><td>18.328928</td><td>18.214722</td><td>-20.34921</td><td>-20.990908</td><td>-21.337757</td><td>-22.392134</td><td>-22.610273</td><td>-22.720232</td><td>-22.834438</td><td>0.308</td><td>1.6312883e-06</td><td>1.448066e-10</td><td>9.387114e-09</td><td>1.5355036e-08</td><td>2.6756814e-07</td></tr>\n",
       "<tr><td>...</td><td>...</td><td>...</td><td>...</td><td>...</td><td>...</td><td>...</td><td>...</td><td>...</td><td>...</td><td>...</td><td>...</td><td>...</td><td>...</td><td>...</td><td>...</td><td>...</td><td>...</td><td>...</td><td>...</td><td>...</td><td>...</td><td>...</td><td>...</td><td>...</td><td>...</td><td>...</td><td>...</td><td>...</td><td>...</td><td>...</td><td>...</td><td>...</td><td>...</td><td>...</td><td>...</td><td>...</td><td>...</td></tr>\n",
       "<tr><td>520</td><td>3.5913399865129705,-30.38541732419788</td><td>13.066413282656532</td><td>6.847569513902781</td><td>26.132826565313064</td><td>0.4108540946643176</td><td>1.5679693032268156</td><td>3.042008401680336</td><td>19.61012202440488</td><td>4.04659943446223</td><td>2.7791348066882087</td><td>2.0920447853570714</td><td>25.467390424886336</td><td>25.86810414667989</td><td>4.186672674334867</td><td>24.71414534879079</td><td>25.491481608632117</td><td>31.62766185580945</td><td>28.435013</td><td>26.620607</td><td>25.454931</td><td>23.319431</td><td>22.997963</td><td>22.84404</td><td>22.691517</td><td>-12.614147</td><td>-14.428553</td><td>-15.594229</td><td>-17.729729</td><td>-18.051197</td><td>-18.20512</td><td>-18.357643</td><td>0.308</td><td>3.2595384e-08</td><td>3e-45</td><td>8e-45</td><td>1.5e-44</td><td>7e-45</td></tr>\n",
       "<tr><td>230</td><td>3.5764139325512976,-30.413243664115544</td><td>78.13222644528906</td><td>4.341468293658732</td><td>156.26445289057813</td><td>0.26048804932662456</td><td>9.375865435206284</td><td>2.345869173834767</td><td>6.244248849769955</td><td>2.125882070576993</td><td>0.5</td><td>0.21270498799759952</td><td>27.949373682569075</td><td>27.10909577552126</td><td>0.429224940988196</td><td>27.18710549449518</td><td>26.727961681484313</td><td>31.423250360849785</td><td>29.2201</td><td>27.405695</td><td>26.240019</td><td>24.10452</td><td>23.78305</td><td>23.629128</td><td>23.476604</td><td>-11.82906</td><td>-13.643465</td><td>-14.809141</td><td>-16.94464</td><td>-17.26611</td><td>-17.420033</td><td>-17.572556</td><td>0.308</td><td>1.5816873e-08</td><td>6e-45</td><td>1.5e-44</td><td>2.4e-44</td><td>1.1e-44</td></tr>\n",
       "<tr><td>228</td><td>3.595629525476338,-30.41364980590065</td><td>56.87677535507102</td><td>53.39607921584317</td><td>113.75355071014204</td><td>3.2037641589922092</td><td>6.825211777255788</td><td>26.246649329865974</td><td>89.40968193638729</td><td>2.661553405335141</td><td>0.8935661309602105</td><td>3.8072557271454293</td><td>24.81728774686164</td><td>25.543052807667543</td><td>7.616103146229246</td><td>24.064485825615762</td><td>25.1666518470446</td><td>34.46634114781212</td><td>25.572836</td><td>24.999422</td><td>24.814848</td><td>24.624798</td><td>24.640049</td><td>24.6568</td><td>24.671963</td><td>-15.476324</td><td>-16.049738</td><td>-16.234312</td><td>-16.424362</td><td>-16.409111</td><td>-16.39236</td><td>-16.377197</td><td>0.308</td><td>6.878722e-10</td><td>3.8277564e-37</td><td>3.1301887e-27</td><td>2.9911764e-27</td><td>3.3683962e-09</td></tr>\n",
       "<tr><td>412</td><td>3.6076065540120332,-30.4029713615509</td><td>9.400080016003201</td><td>4.712742548509702</td><td>18.800160032006403</td><td>0.28276450048776425</td><td>1.1280093927943062</td><td>2.160232046409282</td><td>8.33266653330666</td><td>2.9314179881640987</td><td>1.1446104257535101</td><td>0.5915051300260052</td><td>26.838921579612496</td><td>26.55386972404297</td><td>1.188077525305061</td><td>26.08170591729468</td><td>26.175261892884063</td><td>32.11122237549259</td><td>29.217453</td><td>27.915482</td><td>27.123814</td><td>26.009792</td><td>25.901295</td><td>25.837532</td><td>25.753798</td><td>-11.831707</td><td>-13.133678</td><td>-13.925346</td><td>-15.039368</td><td>-15.147865</td><td>-15.211628</td><td>-15.295362</td><td>0.308</td><td>4.330454e-16</td><td>6e-44</td><td>2.2536175e-23</td><td>5.5191056e-09</td><td>2.0697962e-34</td></tr>\n",
       "<tr><td>537</td><td>3.570555914421585,-30.380630507933013</td><td>30.09861972394479</td><td>30.887577515503104</td><td>60.19723944788958</td><td>1.853254307348114</td><td>3.611833697261384</td><td>8.564712942588518</td><td>51.95739147829566</td><td>3.9146726379069734</td><td>2.5017785652079816</td><td>1.694907021404281</td><td>25.695953171415685</td><td>25.982385519944565</td><td>3.3900556915383078</td><td>24.94330078643985</td><td>25.606059327456645</td><td>32.861718901799414</td><td>24.547539</td><td>24.583427</td><td>24.84168</td><td>25.438108</td><td>25.643265</td><td>25.708479</td><td>25.774353</td><td>-16.501621</td><td>-16.465733</td><td>-16.20748</td><td>-15.611052</td><td>-15.405895</td><td>-15.340681</td><td>-15.274807</td><td>0.308</td><td>7.2926926e-10</td><td>7.427226e-11</td><td>3.1103045e-10</td><td>9.800046e-21</td><td>1.2720746e-12</td></tr>\n",
       "<tr><td>442</td><td>3.569111587573122,-30.39548961097145</td><td>27.035607121424285</td><td>16.268653730746152</td><td>54.07121424284857</td><td>0.9761190428782379</td><td>3.244272253102579</td><td>7.497299459891979</td><td>22.301860372074415</td><td>2.3671811725300094</td><td>0.6554300745269918</td><td>1.5978987471494306</td><td>25.759944727879997</td><td>26.014381298176723</td><td>3.182721423684737</td><td>25.01182129976502</td><td>25.640319584119233</td><td>34.6187410112114</td><td>28.961052</td><td>27.73261</td><td>26.8082</td><td>24.837982</td><td>24.526073</td><td>24.376001</td><td>24.226723</td><td>-12.088108</td><td>-13.316549</td><td>-14.240959</td><td>-16.211178</td><td>-16.523087</td><td>-16.673159</td><td>-16.822437</td><td>0.308</td><td>7.802814e-09</td><td>3.7975558e-26</td><td>2.8060045e-19</td><td>5.0873833e-21</td><td>9.101525e-11</td></tr>\n",
       "<tr><td>534</td><td>3.5951407691666466,-30.381110828033638</td><td>69.8249649929986</td><td>43.60372074414883</td><td>139.6499299859972</td><td>2.6162227596171492</td><td>8.378994245745282</td><td>19.099619923984797</td><td>71.124424884977</td><td>2.854970213373793</td><td>1.070327498691199</td><td>4.931351212242448</td><td>24.536403032949117</td><td>25.40261045071128</td><td>9.855444641128226</td><td>23.784627311437006</td><td>25.026722589955227</td><td>33.59738068022163</td><td>24.621952</td><td>24.57039</td><td>24.555277</td><td>23.495625</td><td>23.236069</td><td>23.100636</td><td>22.963406</td><td>-16.427208</td><td>-16.47877</td><td>-16.493883</td><td>-17.553535</td><td>-17.813091</td><td>-17.948524</td><td>-18.085754</td><td>0.308</td><td>2.454135e-08</td><td>6.847847e-11</td><td>8.107912e-11</td><td>1.9028668e-11</td><td>6.2617625e-13</td></tr>\n",
       "<tr><td>532</td><td>3.5844612048809292,-30.381772412351292</td><td>46.57391478295659</td><td>16.407881576315262</td><td>93.14782956591318</td><td>0.984472712063665</td><td>5.5888687378125335</td><td>6.80116023204641</td><td>25.272054410882177</td><td>2.850287706009884</td><td>1.0658646605208033</td><td>1.274673277255451</td><td>26.005320665506456</td><td>26.13706926698995</td><td>2.544677886977395</td><td>25.25473582886602</td><td>25.761776848669733</td><td>34.396854720222095</td><td>29.306623</td><td>27.49222</td><td>26.326544</td><td>24.191046</td><td>23.869574</td><td>23.715652</td><td>23.563128</td><td>-11.742537</td><td>-13.55694</td><td>-14.722616</td><td>-16.858114</td><td>-17.179586</td><td>-17.333508</td><td>-17.486032</td><td>0.308</td><td>1.4605324e-08</td><td>1.7e-44</td><td>3.8e-44</td><td>6.3e-44</td><td>2.7e-44</td></tr>\n",
       "<tr><td>441</td><td>3.5693053946829347,-30.39551789043618</td><td>18.913982796559313</td><td>11.674134826965393</td><td>37.82796559311863</td><td>0.7004479597591338</td><td>2.2696775148027166</td><td>6.10502100420084</td><td>21.930586117223445</td><td>2.7768153816481744</td><td>0.9970638882007947</td><td>1.2939594348869772</td><td>25.989016214505895</td><td>26.12891704148967</td><td>2.5911662768553714</td><td>25.235079661362295</td><td>25.75194876491787</td><td>34.21625030192545</td><td>29.86516</td><td>28.050755</td><td>26.885078</td><td>24.749578</td><td>24.42811</td><td>24.274187</td><td>24.121662</td><td>-11.184</td><td>-12.998405</td><td>-14.164082</td><td>-16.299582</td><td>-16.62105</td><td>-16.774973</td><td>-16.927498</td><td>0.308</td><td>8.731672e-09</td><td>1e-44</td><td>2.2e-44</td><td>3.4e-44</td><td>1.8e-44</td></tr>\n",
       "<tr><td>533</td><td>3.5847478786149747,-30.381519087043273</td><td>25.318463692738547</td><td>19.14602920584117</td><td>50.636927385477094</td><td>1.1487615393770707</td><td>3.038215079862036</td><td>9.632126425285058</td><td>36.36387277455491</td><td>2.884739777048382</td><td>1.0989306343187817</td><td>2.0131967317463495</td><td>25.509102326759635</td><td>25.88896009761654</td><td>4.018916686937388</td><td>24.758545360320053</td><td>25.51368161439675</td><td>34.599127464880056</td><td>29.173765</td><td>27.359362</td><td>26.193686</td><td>24.058186</td><td>23.736715</td><td>23.582794</td><td>23.430267</td><td>-11.875395</td><td>-13.689798</td><td>-14.855474</td><td>-16.990974</td><td>-17.312445</td><td>-17.466366</td><td>-17.618893</td><td>0.308</td><td>1.6506487e-08</td><td>1.7e-44</td><td>3.8e-44</td><td>6e-44</td><td>2.8e-44</td></tr>\n",
       "</table>"
      ],
      "text/plain": [
       "<Table length=410>\n",
       "  id               sky_centroid              ... kcorrect_constant_5\n",
       "int64                 str38                  ...       float32      \n",
       "----- -------------------------------------- ... -------------------\n",
       "  339 3.5862748381452128,-30.400429314663135 ...        5.051484e-07\n",
       "  455    3.594814218595431,-30.3916651495097 ...        3.005113e-07\n",
       "  379  3.5854180928586743,-30.39421281208224 ...       2.1788377e-07\n",
       "  283   3.59261551144839,-30.404485926812793 ...       2.0712898e-07\n",
       "  366  3.587595012409505,-30.396447326611995 ...       1.8009031e-07\n",
       "   56  3.5696516943216072,-30.40507042141748 ...        5.537905e-08\n",
       "  245  3.5796649204425623,-30.40918690421905 ...        1.534127e-07\n",
       "  346 3.5865165210289724,-30.399024409772874 ...       1.6182881e-07\n",
       "  162  3.600045445816246,-30.389714301369754 ...      1.14857215e-07\n",
       "  335 3.5902956481716304,-30.400426503312243 ...       2.6756814e-07\n",
       "  ...                                    ... ...                 ...\n",
       "  520  3.5913399865129705,-30.38541732419788 ...               7e-45\n",
       "  230 3.5764139325512976,-30.413243664115544 ...             1.1e-44\n",
       "  228   3.595629525476338,-30.41364980590065 ...       3.3683962e-09\n",
       "  412   3.6076065540120332,-30.4029713615509 ...       2.0697962e-34\n",
       "  537  3.570555914421585,-30.380630507933013 ...       1.2720746e-12\n",
       "  442   3.569111587573122,-30.39548961097145 ...        9.101525e-11\n",
       "  534 3.5951407691666466,-30.381110828033638 ...       6.2617625e-13\n",
       "  532 3.5844612048809292,-30.381772412351292 ...             2.7e-44\n",
       "  441  3.5693053946829347,-30.39551789043618 ...             1.8e-44\n",
       "  533 3.5847478786149747,-30.381519087043273 ...             2.8e-44"
      ]
     },
     "execution_count": 197,
     "metadata": {},
     "output_type": "execute_result"
    }
   ],
   "source": [
    "final_catalog"
   ]
  },
  {
   "cell_type": "markdown",
   "metadata": {},
   "source": [
    "# Save Catalog"
   ]
  },
  {
   "cell_type": "code",
   "execution_count": 193,
   "metadata": {},
   "outputs": [],
   "source": [
    "final_catalog.write(output_catalog_filename, format=\"ascii.csv\", overwrite=True)"
   ]
  },
  {
   "cell_type": "code",
   "execution_count": null,
   "metadata": {},
   "outputs": [],
   "source": []
  }
 ],
 "metadata": {
  "kernelspec": {
   "display_name": "Python 3",
   "language": "python",
   "name": "python3"
  },
  "language_info": {
   "codemirror_mode": {
    "name": "ipython",
    "version": 3
   },
   "file_extension": ".py",
   "mimetype": "text/x-python",
   "name": "python",
   "nbconvert_exporter": "python",
   "pygments_lexer": "ipython3",
   "version": "3.8.5"
  }
 },
 "nbformat": 4,
 "nbformat_minor": 2
}
