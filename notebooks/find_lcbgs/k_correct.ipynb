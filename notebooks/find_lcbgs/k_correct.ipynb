{
 "cells": [
  {
   "cell_type": "code",
   "execution_count": 1,
   "metadata": {},
   "outputs": [],
   "source": [
    "import os \n",
    "\n",
    "import numpy as np\n",
    "\n",
    "from astropy.cosmology import WMAP5 as cosmo\n",
    "from astropy.table import Table\n",
    "\n",
    "import kcorrect\n",
    "import kcorrect.utils as ut"
   ]
  },
  {
   "cell_type": "code",
   "execution_count": 2,
   "metadata": {},
   "outputs": [],
   "source": [
    "%matplotlib inline\n",
    "from matplotlib import pyplot as plt\n",
    "from matplotlib import gridspec\n",
    "from mpl_toolkits.mplot3d import Axes3D\n",
    "from matplotlib import cm\n",
    "plt.rcParams['figure.figsize'] = [12, 12]"
   ]
  },
  {
   "cell_type": "markdown",
   "metadata": {},
   "source": [
    "# Define Paths"
   ]
  },
  {
   "cell_type": "code",
   "execution_count": 3,
   "metadata": {},
   "outputs": [],
   "source": [
    "filter_list = ['f105w', 'f125w', 'f140w', 'f160w']\n",
    "input_catalog_formatter = \"hlsp_frontier_hst_wfc3-60mas_abell2744_{}_v1.0_drz_catalog_petrosian.csv\"\n",
    "output_catalog_filename = \"hlsp_frontier_hst_wfc3-60mas_abell2744_v1.0_drz_magnitude_catalog.csv\"\n",
    "output_lcbg_catalog_filename = \"hlsp_frontier_hst_wfc3-60mas_abell2744_v1.0_drz_lcbg_catalog.csv\""
   ]
  },
  {
   "cell_type": "markdown",
   "metadata": {},
   "source": [
    "# Load Catalogs"
   ]
  },
  {
   "cell_type": "code",
   "execution_count": 4,
   "metadata": {},
   "outputs": [],
   "source": [
    "cat = {}\n",
    "\n",
    "mags = {}\n",
    "mag_err = {}\n",
    "\n",
    "maggies = {}\n",
    "maggies_err = {}\n",
    "\n",
    "num_sources = None\n",
    "\n",
    "for f in filter_list:\n",
    "    cat[f] = Table.read(input_catalog_formatter.format(f))\n",
    "    \n",
    "    for col in cat[f].columns:\n",
    "        cat[f][col].fill_value = np.nan\n",
    "    \n",
    "    cat[f] = cat[f].filled()\n",
    "    \n",
    "    mags[f] = np.array(cat[f]['mag_total'][:]) \n",
    "    mag_err[f] = np.array(cat[f]['mag_total_err'][:])\n",
    "    \n",
    "    maggies[f] = ut.mag2maggies(mags[f])\n",
    "    maggies_err[f] = ut.mag2maggies(mag_err[f])\n",
    "    \n",
    "    if num_sources is None:\n",
    "        num_sources = len(cat[f])\n",
    "    else:\n",
    "        assert num_sources == len(cat[f])"
   ]
  },
  {
   "cell_type": "markdown",
   "metadata": {},
   "source": [
    "# Load Input Filters"
   ]
  },
  {
   "cell_type": "code",
   "execution_count": 5,
   "metadata": {},
   "outputs": [],
   "source": [
    "def print_filter_file(path):\n",
    "    with open(path) as f:\n",
    "        for line in f:\n",
    "            print(line.replace(\"\\n\", \"\"))"
   ]
  },
  {
   "cell_type": "code",
   "execution_count": 6,
   "metadata": {},
   "outputs": [],
   "source": [
    "input_filter_file = os.path.abspath('hst_filters_2.dat')"
   ]
  },
  {
   "cell_type": "code",
   "execution_count": 7,
   "metadata": {},
   "outputs": [
    {
     "name": "stdout",
     "output_type": "stream",
     "text": [
      "KCORRECT_DIR\n",
      "data/filters/clash_wfc3_f105w.par\n",
      "data/filters/clash_wfc3_f125w.par\n",
      "data/filters/clash_wfc3_f140w.par\n",
      "data/filters/clash_wfc3_f160w.par\n"
     ]
    }
   ],
   "source": [
    "print_filter_file(input_filter_file)"
   ]
  },
  {
   "cell_type": "code",
   "execution_count": 8,
   "metadata": {},
   "outputs": [],
   "source": [
    "kcorrect.load_templates()\n",
    "kcorrect.load_filters(input_filter_file)"
   ]
  },
  {
   "cell_type": "markdown",
   "metadata": {},
   "source": [
    "# Fit Nonnegative Sums"
   ]
  },
  {
   "cell_type": "code",
   "execution_count": 9,
   "metadata": {},
   "outputs": [],
   "source": [
    "kcorrect_constants = []\n",
    "\n",
    "for i in range(0, num_sources):\n",
    "    \n",
    "    all_maggies = np.array([maggies[f][i] for f in filter_list])\n",
    "    all_maggies_err = np.array([maggies_err[f][i] for f in filter_list])\n",
    "    \n",
    "    constants = kcorrect.fit_nonneg(0.30800, all_maggies, all_maggies_err)\n",
    "    \n",
    "    kcorrect_constants.append(constants)\n",
    "    "
   ]
  },
  {
   "cell_type": "markdown",
   "metadata": {},
   "source": [
    "# Reconstruct Maggies"
   ]
  },
  {
   "cell_type": "code",
   "execution_count": 10,
   "metadata": {},
   "outputs": [],
   "source": [
    "def multi_reconstruct_maggies(kcorrect_constants, filter_list, redshift=-1.0):\n",
    "    re_maggies = {f: [] for f in filter_list}\n",
    "    \n",
    "    for constants in kcorrect_constants:\n",
    "        z, *result = kcorrect.reconstruct_maggies(constants, redshift=redshift)\n",
    "\n",
    "        for i, f in enumerate(filter_list):\n",
    "            re_maggies[f].append(result[i])\n",
    "            \n",
    "    for i, f in enumerate(filter_list):\n",
    "        re_maggies[f] = np.array(re_maggies[f])\n",
    "        \n",
    "    return z, re_maggies\n",
    "    "
   ]
  },
  {
   "cell_type": "code",
   "execution_count": 11,
   "metadata": {},
   "outputs": [],
   "source": [
    "def stack_filter_dict(dictionary):\n",
    "    return np.stack(tuple(dictionary.values()), axis=-1)"
   ]
  },
  {
   "cell_type": "code",
   "execution_count": 12,
   "metadata": {},
   "outputs": [],
   "source": [
    "z, re_maggies = multi_reconstruct_maggies(kcorrect_constants, filter_list)\n",
    "z0, re_maggies_z0 = multi_reconstruct_maggies(kcorrect_constants, filter_list, redshift=0)"
   ]
  },
  {
   "cell_type": "markdown",
   "metadata": {},
   "source": [
    "# Compare Reconstructed Maggies Vs Input Maggies"
   ]
  },
  {
   "cell_type": "code",
   "execution_count": 13,
   "metadata": {},
   "outputs": [
    {
     "data": {
      "image/png": "[encoded data removed]",
      "text/plain": [
       "<Figure size 864x864 with 1 Axes>"
      ]
     },
     "metadata": {
      "needs_background": "light"
     },
     "output_type": "display_data"
    }
   ],
   "source": [
    "all_re_maggies = stack_filter_dict(re_maggies)\n",
    "all_maggies = stack_filter_dict(maggies)\n",
    "\n",
    "percent_err = 100 * (all_re_maggies - all_maggies) / all_maggies\n",
    "\n",
    "plt.hist((percent_err).mean(axis=1), bins=100)\n",
    "plt.title(\"Histogram of Percent Error: Reconstructed Maggies Vs Input Maggies\")\n",
    "plt.xlabel(\"Mean Percent Error of Filters\")\n",
    "plt.ylabel(\"Count\")\n",
    "plt.show()"
   ]
  },
  {
   "cell_type": "markdown",
   "metadata": {},
   "source": [
    "# Compute kcorr"
   ]
  },
  {
   "cell_type": "code",
   "execution_count": 14,
   "metadata": {},
   "outputs": [],
   "source": [
    "kcorr = -2.5 * np.log10(stack_filter_dict(re_maggies) / stack_filter_dict(re_maggies_z0))"
   ]
  },
  {
   "cell_type": "markdown",
   "metadata": {},
   "source": [
    "# Load Johnson Filters"
   ]
  },
  {
   "cell_type": "code",
   "execution_count": 15,
   "metadata": {},
   "outputs": [],
   "source": [
    "johnson_filter_list = ['u', 'b', 'v']"
   ]
  },
  {
   "cell_type": "code",
   "execution_count": 16,
   "metadata": {},
   "outputs": [],
   "source": [
    "johnson_filter_file = os.path.abspath('johnson_b.dat')"
   ]
  },
  {
   "cell_type": "code",
   "execution_count": 17,
   "metadata": {},
   "outputs": [
    {
     "name": "stdout",
     "output_type": "stream",
     "text": [
      "KCORRECT_DIR\n",
      "data/filters/bessell_U.par\n",
      "data/filters/bessell_B.par\n",
      "data/filters/bessell_V.par\n"
     ]
    }
   ],
   "source": [
    "print_filter_file(johnson_filter_file)"
   ]
  },
  {
   "cell_type": "code",
   "execution_count": 18,
   "metadata": {},
   "outputs": [],
   "source": [
    "kcorrect.load_templates()\n",
    "kcorrect.load_filters(johnson_filter_file)"
   ]
  },
  {
   "cell_type": "markdown",
   "metadata": {},
   "source": [
    "# Compute Johnson Maggies "
   ]
  },
  {
   "cell_type": "code",
   "execution_count": 19,
   "metadata": {},
   "outputs": [],
   "source": [
    "z0, johnson_maggies_z0 = multi_reconstruct_maggies(kcorrect_constants, johnson_filter_list, redshift=0)"
   ]
  },
  {
   "cell_type": "markdown",
   "metadata": {},
   "source": [
    "# Compute Vega Mag "
   ]
  },
  {
   "cell_type": "code",
   "execution_count": 20,
   "metadata": {},
   "outputs": [],
   "source": [
    "m_vega_mags = {f: [] for f in johnson_filter_list}\n",
    "M_vega_mags = {f: [] for f in johnson_filter_list}\n",
    "\n",
    "# Johnson filters\n",
    "for i, f in enumerate(johnson_filter_list):\n",
    "    m_vega_mags[f] = -2.5 * np.log10(johnson_maggies_z0[f]) + 0.09\n",
    "    M_vega_mags[f] = m_vega_mags[f] - cosmo.distmod(0.30800).value\n",
    "\n",
    "# Original filters\n",
    "for i, f in enumerate(filter_list):\n",
    "    m_vega_mags[f] = -2.5 * np.log10(re_maggies_z0[f]) + 0.09\n",
    "    M_vega_mags[f] = m_vega_mags[f] - cosmo.distmod(0.30800).value\n"
   ]
  },
  {
   "cell_type": "markdown",
   "metadata": {},
   "source": [
    "# Compute Surface Brightnesses"
   ]
  },
  {
   "cell_type": "code",
   "execution_count": 21,
   "metadata": {},
   "outputs": [],
   "source": [
    "m_b = m_vega_mags['b']"
   ]
  },
  {
   "cell_type": "code",
   "execution_count": 22,
   "metadata": {},
   "outputs": [],
   "source": [
    "r_half_light_arcsec = np.array(cat['f105w'][\"r_half_light_arcsec\"])"
   ]
  },
  {
   "cell_type": "code",
   "execution_count": 23,
   "metadata": {},
   "outputs": [],
   "source": [
    "surface_brightness = m_b + 5 * np.log10(r_half_light_arcsec) + 2.5 * np.log10(2 * np.pi) - 10 * np.log10(1+0.30800)\n",
    "surface_brightness[np.where(np.isnan(surface_brightness))] = np.nan"
   ]
  },
  {
   "cell_type": "markdown",
   "metadata": {},
   "source": [
    "# Make Catalog"
   ]
  },
  {
   "cell_type": "code",
   "execution_count": 24,
   "metadata": {},
   "outputs": [],
   "source": [
    "ra, dec = np.array([ coord.split(',') for coord in cat['f105w']['sky_centroid']]).astype(float).transpose()"
   ]
  },
  {
   "cell_type": "code",
   "execution_count": 25,
   "metadata": {
    "scrolled": true
   },
   "outputs": [],
   "source": [
    "# Define Column Names \n",
    "col_names = [\n",
    "    'id',\n",
    "    'ra', 'dec',\n",
    "    'r_petrosian',\n",
    "    'r_half_light',\n",
    "    'r_total_flux',\n",
    "    'r_half_light_arcsec',\n",
    "    'r_total_flux_arcsec',\n",
    "    'r20',\n",
    "    'r80',\n",
    "    'c2080',\n",
    "    'n_estimate',\n",
    "    'f_half_light',\n",
    "    'mag_half_light',\n",
    "    'mag_half_light_err',\n",
    "    'f_total',\n",
    "    'mag_total',\n",
    "    'mag_total_err',\n",
    "    'surface_brightness',\n",
    "] \n",
    "\n",
    "\n",
    "col_names += [\"m_{}\".format(f) for f in m_vega_mags.keys()] \n",
    "col_names += [\"M_{}\".format(f) for f in M_vega_mags.keys()]\n",
    "col_names += [\"kcorrect_constant_{}\".format(i) for i in range(len(kcorrect_constants[0]))]\n",
    "\n",
    "# Construct the rows of the catalog\n",
    "final_catalog_rows = [\n",
    "    cat['f105w']['id'],\n",
    "    ra, dec,\n",
    "    cat['f105w']['r_petrosian'],\n",
    "    cat['f105w']['r_half_light'],\n",
    "    cat['f105w']['r_total_flux'],\n",
    "    cat['f105w']['r_half_light_arcsec'],\n",
    "    cat['f105w']['r_total_flux_arcsec'],\n",
    "    cat['f105w']['r20'],\n",
    "    cat['f105w']['r80'],\n",
    "    cat['f105w']['c2080'],\n",
    "    cat['f105w']['n_estimate'],\n",
    "    cat['f105w']['f_half_light'],\n",
    "    cat['f105w']['mag_half_light'],\n",
    "    cat['f105w']['mag_half_light_err'],\n",
    "    cat['f105w']['f_total'],\n",
    "    cat['f105w']['mag_total'],\n",
    "    cat['f105w']['mag_total_err'],\n",
    "] \n",
    "\n",
    "final_catalog_rows += [surface_brightness]\n",
    "final_catalog_rows += list(m_vega_mags.values()) \n",
    "final_catalog_rows += list(M_vega_mags.values()) \n",
    "final_catalog_rows += list(map(list, zip(*kcorrect_constants)))    \n",
    "\n",
    "# Make the catalog\n",
    "final_catalog = Table(data=final_catalog_rows, names=col_names)\n",
    "\n",
    "# Mask out sources with missing values\n",
    "# r80 is a good indicator that things failed so we use that column to mask\n",
    "catalog_mask = np.invert(np.isnan(final_catalog['r80']) | np.isnan(surface_brightness))\n",
    "final_catalog = final_catalog[catalog_mask]"
   ]
  },
  {
   "cell_type": "code",
   "execution_count": 26,
   "metadata": {
    "scrolled": false
   },
   "outputs": [
    {
     "data": {
      "text/html": [
       "<i>Table length=410</i>\n",
       "<table id=\"table140261571181344\" class=\"table-striped table-bordered table-condensed\">\n",
       "<thead><tr><th>id</th><th>ra</th><th>dec</th><th>r_petrosian</th><th>r_half_light</th><th>r_total_flux</th><th>r_half_light_arcsec</th><th>r_total_flux_arcsec</th><th>r20</th><th>r80</th><th>c2080</th><th>n_estimate</th><th>f_half_light</th><th>mag_half_light</th><th>mag_half_light_err</th><th>f_total</th><th>mag_total</th><th>mag_total_err</th><th>surface_brightness</th><th>m_u</th><th>m_b</th><th>m_v</th><th>m_f105w</th><th>m_f125w</th><th>m_f140w</th><th>m_f160w</th><th>M_u</th><th>M_b</th><th>M_v</th><th>M_f105w</th><th>M_f125w</th><th>M_f140w</th><th>M_f160w</th><th>kcorrect_constant_0</th><th>kcorrect_constant_1</th><th>kcorrect_constant_2</th><th>kcorrect_constant_3</th><th>kcorrect_constant_4</th><th>kcorrect_constant_5</th></tr></thead>\n",
       "<thead><tr><th>int64</th><th>float64</th><th>float64</th><th>float64</th><th>float64</th><th>float64</th><th>float64</th><th>float64</th><th>float64</th><th>float64</th><th>float64</th><th>float64</th><th>float64</th><th>float64</th><th>float64</th><th>float64</th><th>float64</th><th>float64</th><th>float64</th><th>float32</th><th>float32</th><th>float32</th><th>float32</th><th>float32</th><th>float32</th><th>float32</th><th>float32</th><th>float32</th><th>float32</th><th>float32</th><th>float32</th><th>float32</th><th>float32</th><th>float32</th><th>float32</th><th>float32</th><th>float32</th><th>float32</th><th>float32</th></tr></thead>\n",
       "<tr><td>339</td><td>3.5862748381452128</td><td>-30.400429314663135</td><td>84.07261452290459</td><td>36.271054210842166</td><td>168.14522904580917</td><td>2.1762628491846394</td><td>10.088711872362756</td><td>11.21004200840168</td><td>76.69353870774155</td><td>4.175757684473675</td><td>3.082253002812057</td><td>2556.10682865093</td><td>17.74987036709313</td><td>22.00934411778329</td><td>5111.359896760352</td><td>16.997476715452272</td><td>21.633147291962857</td><td>20.22745121989276</td><td>17.87267</td><td>17.709522</td><td>17.680086</td><td>16.986286</td><td>16.800528</td><td>16.696545</td><td>16.586615</td><td>-23.153763</td><td>-23.31691</td><td>-23.346346</td><td>-24.040146</td><td>-24.225904</td><td>-24.329887</td><td>-24.439817</td><td>0.308</td><td>7.2189e-06</td><td>2.8921207e-08</td><td>4.1031302e-07</td><td>8.372497e-07</td><td>5.051484e-07</td></tr>\n",
       "<tr><td>455</td><td>3.594814218595431</td><td>-30.3916651495097</td><td>62.538707741548315</td><td>23.18363672734547</td><td>125.07741548309663</td><td>1.391017945754465</td><td>7.50464353767055</td><td>8.100620124024806</td><td>55.43808761752351</td><td>4.176449869834916</td><td>3.0839668781803424</td><td>1428.5754475137028</td><td>18.381559914055593</td><td>22.325188891264517</td><td>2856.327348335467</td><td>17.629297923187693</td><td>21.94905789583057</td><td>19.802946219778065</td><td>18.402716</td><td>18.25691</td><td>18.254223</td><td>17.650288</td><td>17.479452</td><td>17.381239</td><td>17.276508</td><td>-22.623716</td><td>-22.769522</td><td>-22.77221</td><td>-23.376144</td><td>-23.54698</td><td>-23.645193</td><td>-23.749924</td><td>0.308</td><td>3.7351895e-06</td><td>1.7962325e-08</td><td>2.2870336e-07</td><td>4.489837e-07</td><td>3.005113e-07</td></tr>\n",
       "<tr><td>379</td><td>3.5854180928586743</td><td>-30.39421281208224</td><td>46.89877975595119</td><td>17.66093218643729</td><td>93.79755951190238</td><td>1.0596557347325117</td><td>5.627852527344528</td><td>5.826565313062613</td><td>46.43468693738748</td><td>4.507149514131746</td><td>4.023005713560103</td><td>1018.6908662706542</td><td>18.748711837901453</td><td>22.50876485318745</td><td>2037.8271204484895</td><td>17.995899524081413</td><td>22.13235869627743</td><td>19.60615711735868</td><td>18.802862</td><td>18.65096</td><td>18.639694</td><td>18.0072</td><td>17.831194</td><td>17.731047</td><td>17.624617</td><td>-22.22357</td><td>-22.375471</td><td>-22.386738</td><td>-23.019232</td><td>-23.195238</td><td>-23.295385</td><td>-23.401815</td><td>0.308</td><td>2.7397768e-06</td><td>1.23350175e-08</td><td>1.5685151e-07</td><td>2.9718387e-07</td><td>2.1788377e-07</td></tr>\n",
       "<tr><td>283</td><td>3.59261551144839</td><td>-30.404485926812793</td><td>41.654530906181236</td><td>18.125025005001</td><td>83.30906181236247</td><td>1.0875012986839363</td><td>4.998542782042331</td><td>5.501700340068014</td><td>41.97939587917584</td><td>4.4126962616710985</td><td>3.729149464695322</td><td>942.1054549133827</td><td>18.83356907241577</td><td>22.55119347044461</td><td>1885.3579584874974</td><td>18.080333322122904</td><td>22.174575595298172</td><td>19.731674960893628</td><td>18.870487</td><td>18.720154</td><td>18.712963</td><td>18.099756</td><td>17.927406</td><td>17.82877</td><td>17.72371</td><td>-22.155945</td><td>-22.306278</td><td>-22.313469</td><td>-22.926676</td><td>-23.099026</td><td>-23.197662</td><td>-23.302723</td><td>0.308</td><td>2.482651e-06</td><td>1.1583193e-08</td><td>1.451385e-07</td><td>2.7426654e-07</td><td>2.0712898e-07</td></tr>\n",
       "<tr><td>366</td><td>3.587595012409505</td><td>-30.396447326611995</td><td>50.936387277455495</td><td>18.728345669133827</td><td>101.87277455491099</td><td>1.1237005318207884</td><td>6.112365340099317</td><td>5.73374674934987</td><td>45.460092018403685</td><td>4.495959017730987</td><td>3.9870531729443686</td><td>985.8334438115623</td><td>18.78430900034876</td><td>22.526563434411102</td><td>1973.4306527171434</td><td>18.03076319425601</td><td>22.149790531364726</td><td>19.770853770216696</td><td>18.832043</td><td>18.688229</td><td>18.679647</td><td>18.028408</td><td>17.847977</td><td>17.745564</td><td>17.636986</td><td>-22.19439</td><td>-22.338203</td><td>-22.346785</td><td>-22.998024</td><td>-23.178455</td><td>-23.280869</td><td>-23.389446</td><td>0.308</td><td>2.7352469e-06</td><td>1.2243767e-08</td><td>1.6243106e-07</td><td>3.2716702e-07</td><td>1.8009031e-07</td></tr>\n",
       "<tr><td>56</td><td>3.5696516943216072</td><td>-30.40507042141748</td><td>4.944788957791559</td><td>2.0674134826965394</td><td>9.889577915583118</td><td>0.12404478596464381</td><td>0.5933745649269532</td><td>1.0928185637127426</td><td>3.5989197839567915</td><td>2.5881205152142965</td><td>0.8305316653928426</td><td>1152.0576351622326</td><td>18.615132352164327</td><td>22.441975110318886</td><td>2338.766962123425</td><td>17.846350492772608</td><td>22.057584180623028</td><td>14.1882636417389</td><td>17.897106</td><td>17.890999</td><td>18.067835</td><td>18.037846</td><td>17.978392</td><td>17.918385</td><td>17.848532</td><td>-23.129326</td><td>-23.135433</td><td>-22.958597</td><td>-22.988586</td><td>-23.04804</td><td>-23.108047</td><td>-23.1779</td><td>0.308</td><td>1.9986808e-06</td><td>3.309957e-08</td><td>2.0822493e-07</td><td>3.8740689e-07</td><td>5.537905e-08</td></tr>\n",
       "<tr><td>245</td><td>3.5796649204425623</td><td>-30.40918690421905</td><td>33.857771554310865</td><td>12.23104620924185</td><td>67.71554310862173</td><td>0.7338626365008435</td><td>4.0629318332744635</td><td>4.573514702940589</td><td>28.056611322264455</td><td>3.938925680875638</td><td>2.5504584668690486</td><td>828.2998243878776</td><td>18.973348945268647</td><td>22.621083406871044</td><td>1657.4629180550112</td><td>18.220208316376045</td><td>22.244513092424743</td><td>19.064010827637063</td><td>19.05597</td><td>18.906565</td><td>18.889225</td><td>18.207127</td><td>18.021187</td><td>17.916706</td><td>17.80633</td><td>-21.970463</td><td>-22.119867</td><td>-22.137207</td><td>-22.819305</td><td>-23.005245</td><td>-23.109726</td><td>-23.220102</td><td>0.308</td><td>2.367939e-06</td><td>9.9012e-09</td><td>1.3042781e-07</td><td>2.5139715e-07</td><td>1.534127e-07</td></tr>\n",
       "<tr><td>346</td><td>3.5865165210289724</td><td>-30.399024409772874</td><td>94.14342868573715</td><td>28.799159831966396</td><td>188.2868573714743</td><td>1.7279492695667031</td><td>11.297209347854585</td><td>9.771354270854172</td><td>71.124424884977</td><td>4.310320041577045</td><td>3.4344070554880393</td><td>821.7154618205642</td><td>18.982014221076582</td><td>22.62541604477501</td><td>1643.9662531806362</td><td>18.229085622884075</td><td>22.24895174567876</td><td>20.864786417770194</td><td>18.98786</td><td>18.84776</td><td>18.849443</td><td>18.247513</td><td>18.076385</td><td>17.977785</td><td>17.87265</td><td>-22.038572</td><td>-22.178673</td><td>-22.176989</td><td>-22.77892</td><td>-22.950047</td><td>-23.048647</td><td>-23.153782</td><td>0.308</td><td>2.161149e-06</td><td>1.0587026e-08</td><td>1.3588642e-07</td><td>2.7277503e-07</td><td>1.6182881e-07</td></tr>\n",
       "<tr><td>162</td><td>3.600045445816246</td><td>-30.389714301369754</td><td>61.053610722144434</td><td>28.752750550110022</td><td>122.10722144428887</td><td>1.7251647131715606</td><td>7.326431928381432</td><td>13.112822564512904</td><td>50.10102020404081</td><td>2.910751924269976</td><td>1.1242581979664852</td><td>743.24636684977</td><td>19.09098588108324</td><td>22.67990187477834</td><td>1486.5084100578115</td><td>18.338399441951413</td><td>22.30360865521243</td><td>21.02873807584582</td><td>19.159191</td><td>19.015213</td><td>19.001371</td><td>18.322727</td><td>18.138187</td><td>18.033901</td><td>17.923504</td><td>-21.86724</td><td>-22.011219</td><td>-22.02506</td><td>-22.703705</td><td>-22.888245</td><td>-22.99253</td><td>-23.102928</td><td>0.308</td><td>2.1036558e-06</td><td>9.155429e-09</td><td>1.3464663e-07</td><td>3.0605344e-07</td><td>1.14857215e-07</td></tr>\n",
       "<tr><td>335</td><td>3.5902956481716304</td><td>-30.400426503312243</td><td>54.69553910782157</td><td>22.673134626925386</td><td>109.39107821564313</td><td>1.3603878254078978</td><td>6.563463476112396</td><td>7.636527305461092</td><td>45.552910582116425</td><td>3.8781011113219988</td><td>2.4302565943338315</td><td>540.6648161368274</td><td>19.43649759672042</td><td>22.852657732596935</td><td>1081.4207319427885</td><td>18.68383114050009</td><td>22.476324504486765</td><td>21.555938248722814</td><td>20.69995</td><td>20.058252</td><td>19.711403</td><td>18.657026</td><td>18.438887</td><td>18.328928</td><td>18.214722</td><td>-20.326483</td><td>-20.96818</td><td>-21.31503</td><td>-22.369406</td><td>-22.587545</td><td>-22.697504</td><td>-22.81171</td><td>0.308</td><td>1.6312883e-06</td><td>1.448066e-10</td><td>9.387114e-09</td><td>1.5355036e-08</td><td>2.6756814e-07</td></tr>\n",
       "<tr><td>...</td><td>...</td><td>...</td><td>...</td><td>...</td><td>...</td><td>...</td><td>...</td><td>...</td><td>...</td><td>...</td><td>...</td><td>...</td><td>...</td><td>...</td><td>...</td><td>...</td><td>...</td><td>...</td><td>...</td><td>...</td><td>...</td><td>...</td><td>...</td><td>...</td><td>...</td><td>...</td><td>...</td><td>...</td><td>...</td><td>...</td><td>...</td><td>...</td><td>...</td><td>...</td><td>...</td><td>...</td><td>...</td><td>...</td></tr>\n",
       "<tr><td>520</td><td>3.5913399865129705</td><td>-30.38541732419788</td><td>13.066413282656532</td><td>6.847569513902781</td><td>26.132826565313064</td><td>0.4108540946643176</td><td>1.5679693032268156</td><td>3.042008401680336</td><td>19.61012202440488</td><td>4.04659943446223</td><td>2.7791348066882087</td><td>2.0920447853570714</td><td>25.467390424886336</td><td>25.86810414667989</td><td>4.186672674334867</td><td>24.71414534879079</td><td>25.491481608632117</td><td>25.518417705149936</td><td>28.435013</td><td>26.620607</td><td>25.454931</td><td>23.319431</td><td>22.997963</td><td>22.84404</td><td>22.691517</td><td>-12.591419</td><td>-14.405825</td><td>-15.571501</td><td>-17.707</td><td>-18.02847</td><td>-18.182392</td><td>-18.334915</td><td>0.308</td><td>3.2595384e-08</td><td>3e-45</td><td>8e-45</td><td>1.5e-44</td><td>7e-45</td></tr>\n",
       "<tr><td>230</td><td>3.5764139325512976</td><td>-30.413243664115544</td><td>78.13222644528906</td><td>4.341468293658732</td><td>156.26445289057813</td><td>0.26048804932662456</td><td>9.375865435206284</td><td>2.345869173834767</td><td>6.244248849769955</td><td>2.125882070576993</td><td>0.5</td><td>0.21270498799759952</td><td>27.949373682569075</td><td>27.10909577552126</td><td>0.429224940988196</td><td>27.18710549449518</td><td>26.727961681484313</td><td>25.314006210190268</td><td>29.2201</td><td>27.405695</td><td>26.240019</td><td>24.10452</td><td>23.78305</td><td>23.629128</td><td>23.476604</td><td>-11.806332</td><td>-13.620737</td><td>-14.786413</td><td>-16.921911</td><td>-17.243382</td><td>-17.397305</td><td>-17.549828</td><td>0.308</td><td>1.5816873e-08</td><td>6e-45</td><td>1.5e-44</td><td>2.4e-44</td><td>1.1e-44</td></tr>\n",
       "<tr><td>228</td><td>3.595629525476338</td><td>-30.41364980590065</td><td>56.87677535507102</td><td>53.39607921584317</td><td>113.75355071014204</td><td>3.2037641589922092</td><td>6.825211777255788</td><td>26.246649329865974</td><td>89.40968193638729</td><td>2.661553405335141</td><td>0.8935661309602105</td><td>3.8072557271454293</td><td>24.81728774686164</td><td>25.543052807667543</td><td>7.616103146229246</td><td>24.064485825615762</td><td>25.1666518470446</td><td>28.357096997152603</td><td>25.572836</td><td>24.999422</td><td>24.814848</td><td>24.624798</td><td>24.640049</td><td>24.6568</td><td>24.671963</td><td>-15.453596</td><td>-16.02701</td><td>-16.211584</td><td>-16.401634</td><td>-16.386383</td><td>-16.369633</td><td>-16.35447</td><td>0.308</td><td>6.878722e-10</td><td>3.8277564e-37</td><td>3.1301887e-27</td><td>2.9911764e-27</td><td>3.3683962e-09</td></tr>\n",
       "<tr><td>412</td><td>3.6076065540120332</td><td>-30.4029713615509</td><td>9.400080016003201</td><td>4.712742548509702</td><td>18.800160032006403</td><td>0.28276450048776425</td><td>1.1280093927943062</td><td>2.160232046409282</td><td>8.33266653330666</td><td>2.9314179881640987</td><td>1.1446104257535101</td><td>0.5915051300260052</td><td>26.838921579612496</td><td>26.55386972404297</td><td>1.188077525305061</td><td>26.08170591729468</td><td>26.175261892884063</td><td>26.00197822483307</td><td>29.217453</td><td>27.915482</td><td>27.123814</td><td>26.009792</td><td>25.901295</td><td>25.837532</td><td>25.753798</td><td>-11.808979</td><td>-13.11095</td><td>-13.902618</td><td>-15.01664</td><td>-15.125137</td><td>-15.1889</td><td>-15.2726345</td><td>0.308</td><td>4.330454e-16</td><td>6e-44</td><td>2.2536175e-23</td><td>5.5191056e-09</td><td>2.0697962e-34</td></tr>\n",
       "<tr><td>537</td><td>3.570555914421585</td><td>-30.380630507933013</td><td>30.09861972394479</td><td>30.887577515503104</td><td>60.19723944788958</td><td>1.853254307348114</td><td>3.611833697261384</td><td>8.564712942588518</td><td>51.95739147829566</td><td>3.9146726379069734</td><td>2.5017785652079816</td><td>1.694907021404281</td><td>25.695953171415685</td><td>25.982385519944565</td><td>3.3900556915383078</td><td>24.94330078643985</td><td>25.606059327456645</td><td>26.75247475113989</td><td>24.547539</td><td>24.583427</td><td>24.84168</td><td>25.438108</td><td>25.643265</td><td>25.708479</td><td>25.774353</td><td>-16.478893</td><td>-16.443005</td><td>-16.184752</td><td>-15.588324</td><td>-15.383167</td><td>-15.317953</td><td>-15.252079</td><td>0.308</td><td>7.2926926e-10</td><td>7.427226e-11</td><td>3.1103045e-10</td><td>9.800046e-21</td><td>1.2720746e-12</td></tr>\n",
       "<tr><td>442</td><td>3.569111587573122</td><td>-30.39548961097145</td><td>27.035607121424285</td><td>16.268653730746152</td><td>54.07121424284857</td><td>0.9761190428782379</td><td>3.244272253102579</td><td>7.497299459891979</td><td>22.301860372074415</td><td>2.3671811725300094</td><td>0.6554300745269918</td><td>1.5978987471494306</td><td>25.759944727879997</td><td>26.014381298176723</td><td>3.182721423684737</td><td>25.01182129976502</td><td>25.640319584119233</td><td>28.509496860551874</td><td>28.961052</td><td>27.73261</td><td>26.8082</td><td>24.837982</td><td>24.526073</td><td>24.376001</td><td>24.226723</td><td>-12.06538</td><td>-13.293821</td><td>-14.218231</td><td>-16.18845</td><td>-16.500359</td><td>-16.65043</td><td>-16.79971</td><td>0.308</td><td>7.802814e-09</td><td>3.7975558e-26</td><td>2.8060045e-19</td><td>5.0873833e-21</td><td>9.101525e-11</td></tr>\n",
       "<tr><td>534</td><td>3.5951407691666466</td><td>-30.381110828033638</td><td>69.8249649929986</td><td>43.60372074414883</td><td>139.6499299859972</td><td>2.6162227596171492</td><td>8.378994245745282</td><td>19.099619923984797</td><td>71.124424884977</td><td>2.854970213373793</td><td>1.070327498691199</td><td>4.931351212242448</td><td>24.536403032949117</td><td>25.40261045071128</td><td>9.855444641128226</td><td>23.784627311437006</td><td>25.026722589955227</td><td>27.488136529562112</td><td>24.621952</td><td>24.57039</td><td>24.555277</td><td>23.495625</td><td>23.236069</td><td>23.100636</td><td>22.963406</td><td>-16.40448</td><td>-16.456041</td><td>-16.471155</td><td>-17.530807</td><td>-17.790363</td><td>-17.925797</td><td>-18.063026</td><td>0.308</td><td>2.454135e-08</td><td>6.847847e-11</td><td>8.107912e-11</td><td>1.9028668e-11</td><td>6.2617625e-13</td></tr>\n",
       "<tr><td>532</td><td>3.5844612048809292</td><td>-30.381772412351292</td><td>46.57391478295659</td><td>16.407881576315262</td><td>93.14782956591318</td><td>0.984472712063665</td><td>5.5888687378125335</td><td>6.80116023204641</td><td>25.272054410882177</td><td>2.850287706009884</td><td>1.0658646605208033</td><td>1.274673277255451</td><td>26.005320665506456</td><td>26.13706926698995</td><td>2.544677886977395</td><td>25.25473582886602</td><td>25.761776848669733</td><td>28.287610569562574</td><td>29.306623</td><td>27.49222</td><td>26.326544</td><td>24.191046</td><td>23.869574</td><td>23.715652</td><td>23.563128</td><td>-11.719809</td><td>-13.534212</td><td>-14.699888</td><td>-16.835386</td><td>-17.156858</td><td>-17.31078</td><td>-17.463305</td><td>0.308</td><td>1.4605324e-08</td><td>1.7e-44</td><td>3.8e-44</td><td>6.3e-44</td><td>2.7e-44</td></tr>\n",
       "<tr><td>441</td><td>3.5693053946829347</td><td>-30.39551789043618</td><td>18.913982796559313</td><td>11.674134826965393</td><td>37.82796559311863</td><td>0.7004479597591338</td><td>2.2696775148027166</td><td>6.10502100420084</td><td>21.930586117223445</td><td>2.7768153816481744</td><td>0.9970638882007947</td><td>1.2939594348869772</td><td>25.989016214505895</td><td>26.12891704148967</td><td>2.5911662768553714</td><td>25.235079661362295</td><td>25.75194876491787</td><td>28.10700615126593</td><td>29.86516</td><td>28.050755</td><td>26.885078</td><td>24.749578</td><td>24.42811</td><td>24.274187</td><td>24.121662</td><td>-11.161272</td><td>-12.9756775</td><td>-14.141354</td><td>-16.276854</td><td>-16.598322</td><td>-16.752245</td><td>-16.90477</td><td>0.308</td><td>8.731672e-09</td><td>1e-44</td><td>2.2e-44</td><td>3.4e-44</td><td>1.8e-44</td></tr>\n",
       "<tr><td>533</td><td>3.5847478786149747</td><td>-30.381519087043273</td><td>25.318463692738547</td><td>19.14602920584117</td><td>50.636927385477094</td><td>1.1487615393770707</td><td>3.038215079862036</td><td>9.632126425285058</td><td>36.36387277455491</td><td>2.884739777048382</td><td>1.0989306343187817</td><td>2.0131967317463495</td><td>25.509102326759635</td><td>25.88896009761654</td><td>4.018916686937388</td><td>24.758545360320053</td><td>25.51368161439675</td><td>28.48988331422054</td><td>29.173765</td><td>27.359362</td><td>26.193686</td><td>24.058186</td><td>23.736715</td><td>23.582794</td><td>23.430267</td><td>-11.852667</td><td>-13.66707</td><td>-14.8327465</td><td>-16.968246</td><td>-17.289717</td><td>-17.443638</td><td>-17.596165</td><td>0.308</td><td>1.6506487e-08</td><td>1.7e-44</td><td>3.8e-44</td><td>6e-44</td><td>2.8e-44</td></tr>\n",
       "</table>"
      ],
      "text/plain": [
       "<Table length=410>\n",
       "  id          ra         ... kcorrect_constant_4 kcorrect_constant_5\n",
       "int64      float64       ...       float32             float32      \n",
       "----- ------------------ ... ------------------- -------------------\n",
       "  339 3.5862748381452128 ...        8.372497e-07        5.051484e-07\n",
       "  455  3.594814218595431 ...        4.489837e-07        3.005113e-07\n",
       "  379 3.5854180928586743 ...       2.9718387e-07       2.1788377e-07\n",
       "  283   3.59261551144839 ...       2.7426654e-07       2.0712898e-07\n",
       "  366  3.587595012409505 ...       3.2716702e-07       1.8009031e-07\n",
       "   56 3.5696516943216072 ...       3.8740689e-07        5.537905e-08\n",
       "  245 3.5796649204425623 ...       2.5139715e-07        1.534127e-07\n",
       "  346 3.5865165210289724 ...       2.7277503e-07       1.6182881e-07\n",
       "  162  3.600045445816246 ...       3.0605344e-07      1.14857215e-07\n",
       "  335 3.5902956481716304 ...       1.5355036e-08       2.6756814e-07\n",
       "  ...                ... ...                 ...                 ...\n",
       "  520 3.5913399865129705 ...             1.5e-44               7e-45\n",
       "  230 3.5764139325512976 ...             2.4e-44             1.1e-44\n",
       "  228  3.595629525476338 ...       2.9911764e-27       3.3683962e-09\n",
       "  412 3.6076065540120332 ...       5.5191056e-09       2.0697962e-34\n",
       "  537  3.570555914421585 ...        9.800046e-21       1.2720746e-12\n",
       "  442  3.569111587573122 ...       5.0873833e-21        9.101525e-11\n",
       "  534 3.5951407691666466 ...       1.9028668e-11       6.2617625e-13\n",
       "  532 3.5844612048809292 ...             6.3e-44             2.7e-44\n",
       "  441 3.5693053946829347 ...             3.4e-44             1.8e-44\n",
       "  533 3.5847478786149747 ...               6e-44             2.8e-44"
      ]
     },
     "execution_count": 26,
     "metadata": {},
     "output_type": "execute_result"
    }
   ],
   "source": [
    "final_catalog"
   ]
  },
  {
   "cell_type": "markdown",
   "metadata": {},
   "source": [
    "# LCBG Catalog"
   ]
  },
  {
   "cell_type": "code",
   "execution_count": 27,
   "metadata": {},
   "outputs": [],
   "source": [
    "M_B = final_catalog['M_b']\n",
    "M_V = final_catalog['M_v']\n",
    "B_minus_V = M_B-M_V\n",
    "\n",
    "sb = final_catalog['surface_brightness']\n",
    "\n",
    "r_half_light_arcsec = final_catalog['r_half_light_arcsec']\n",
    "\n",
    "lcbg_mask = np.where(\n",
    "    (B_minus_V < 0.5).astype(int) & \n",
    "    (sb < 21).astype(int) & \n",
    "    (M_B < -18.5).astype(int) & \n",
    "    (r_half_light_arcsec < 0.5).astype(int) & # Guzman et al. (1997) and Phillips et al. (1997)\n",
    "    (0.2 < r_half_light_arcsec).astype(int)   # Remove star like objects\n",
    ")\n",
    "\n",
    "lcbg_catalog = final_catalog[lcbg_mask]"
   ]
  },
  {
   "cell_type": "code",
   "execution_count": 28,
   "metadata": {},
   "outputs": [
    {
     "data": {
      "text/html": [
       "<i>Table length=49</i>\n",
       "<table id=\"table140261756488768\" class=\"table-striped table-bordered table-condensed\">\n",
       "<thead><tr><th>id</th><th>ra</th><th>dec</th><th>r_petrosian</th><th>r_half_light</th><th>r_total_flux</th><th>r_half_light_arcsec</th><th>r_total_flux_arcsec</th><th>r20</th><th>r80</th><th>c2080</th><th>n_estimate</th><th>f_half_light</th><th>mag_half_light</th><th>mag_half_light_err</th><th>f_total</th><th>mag_total</th><th>mag_total_err</th><th>surface_brightness</th><th>m_u</th><th>m_b</th><th>m_v</th><th>m_f105w</th><th>m_f125w</th><th>m_f140w</th><th>m_f160w</th><th>M_u</th><th>M_b</th><th>M_v</th><th>M_f105w</th><th>M_f125w</th><th>M_f140w</th><th>M_f160w</th><th>kcorrect_constant_0</th><th>kcorrect_constant_1</th><th>kcorrect_constant_2</th><th>kcorrect_constant_3</th><th>kcorrect_constant_4</th><th>kcorrect_constant_5</th></tr></thead>\n",
       "<thead><tr><th>int64</th><th>float64</th><th>float64</th><th>float64</th><th>float64</th><th>float64</th><th>float64</th><th>float64</th><th>float64</th><th>float64</th><th>float64</th><th>float64</th><th>float64</th><th>float64</th><th>float64</th><th>float64</th><th>float64</th><th>float64</th><th>float64</th><th>float32</th><th>float32</th><th>float32</th><th>float32</th><th>float32</th><th>float32</th><th>float32</th><th>float32</th><th>float32</th><th>float32</th><th>float32</th><th>float32</th><th>float32</th><th>float32</th><th>float32</th><th>float32</th><th>float32</th><th>float32</th><th>float32</th><th>float32</th></tr></thead>\n",
       "<tr><td>405</td><td>3.5784463234068986</td><td>-30.403389660804752</td><td>18.357071414282856</td><td>8.054210842168434</td><td>36.71414282856571</td><td>0.48325256093802166</td><td>2.2028481613192974</td><td>3.2740548109621925</td><td>17.939387877575516</td><td>3.6936083721621977</td><td>2.10175546063471</td><td>458.2416512134427</td><td>19.61608146542961</td><td>22.942449666951525</td><td>917.4657052514503</td><td>18.862343270082523</td><td>22.565580569277984</td><td>18.76222501611083</td><td>19.649347</td><td>19.511982</td><td>19.507607</td><td>18.85527</td><td>18.674217</td><td>18.57122</td><td>18.462023</td><td>-21.377085</td><td>-21.51445</td><td>-21.518826</td><td>-22.171162</td><td>-22.352215</td><td>-22.455212</td><td>-22.56441</td><td>0.308</td><td>1.2798915e-06</td><td>5.8465495e-09</td><td>8.017927e-08</td><td>1.719883e-07</td><td>7.408904e-08</td></tr>\n",
       "<tr><td>376</td><td>3.5851880600713524</td><td>-30.39481006100493</td><td>20.213442688537707</td><td>8.33266653330666</td><td>40.426885377075415</td><td>0.4999598993088764</td><td>2.4256126729306944</td><td>3.2276455291058213</td><td>18.86757351470294</td><td>3.8341510892173005</td><td>2.347218371351117</td><td>364.3934359427885</td><td>19.864891505621028</td><td>23.066854687047236</td><td>729.0220414568914</td><td>19.111966220729293</td><td>22.690392044601367</td><td>19.0786619669628</td><td>19.879622</td><td>19.754614</td><td>19.756939</td><td>19.090164</td><td>18.904821</td><td>18.799498</td><td>18.688114</td><td>-21.14681</td><td>-21.271818</td><td>-21.269493</td><td>-21.936268</td><td>-22.12161</td><td>-22.226934</td><td>-22.338318</td><td>0.308</td><td>1.0517259e-06</td><td>4.841935e-09</td><td>6.715806e-08</td><td>1.4971886e-07</td><td>4.5766182e-08</td></tr>\n",
       "<tr><td>469</td><td>3.58918720358872</td><td>-30.389855263872096</td><td>20.67753550710142</td><td>7.54370874174835</td><td>41.35507101420284</td><td>0.4526224405914546</td><td>2.481303800833544</td><td>2.9027805561112223</td><td>17.428885777155433</td><td>3.8922770917039164</td><td>2.4577147010908074</td><td>362.3243523726746</td><td>19.871074056947357</td><td>23.0699459627104</td><td>726.1939042212442</td><td>19.116186370822874</td><td>22.69250211964816</td><td>18.886269956992297</td><td>19.921242</td><td>19.778217</td><td>19.768883</td><td>19.109564</td><td>18.92754</td><td>18.824411</td><td>18.715172</td><td>-21.10519</td><td>-21.248215</td><td>-21.25755</td><td>-21.916868</td><td>-22.098892</td><td>-22.20202</td><td>-22.31126</td><td>0.308</td><td>1.0163807e-06</td><td>4.5042543e-09</td><td>6.044562e-08</td><td>1.2316966e-07</td><td>6.389832e-08</td></tr>\n",
       "<tr><td>486</td><td>3.58918326540813</td><td>-30.38739365171221</td><td>21.42008401680336</td><td>7.1260252050410084</td><td>42.84016803360672</td><td>0.4275614330351724</td><td>2.5704096054781025</td><td>2.8099619923984798</td><td>17.196839367873576</td><td>3.933740944790074</td><td>2.539966918905856</td><td>343.681955260052</td><td>19.928426042325274</td><td>23.09862195539936</td><td>688.5440555735147</td><td>19.173988535384847</td><td>22.721403201929146</td><td>18.926383359939223</td><td>20.11803</td><td>19.942019</td><td>19.894018</td><td>19.144024</td><td>18.949503</td><td>18.84223</td><td>18.729382</td><td>-20.908401</td><td>-21.084414</td><td>-21.132414</td><td>-21.882408</td><td>-22.07693</td><td>-22.184202</td><td>-22.29705</td><td>0.308</td><td>1.0176432e-06</td><td>3.6159955e-09</td><td>5.409066e-08</td><td>1.1055044e-07</td><td>6.685424e-08</td></tr>\n",
       "<tr><td>351</td><td>3.5821654005227455</td><td>-30.398575367008235</td><td>20.72394478895779</td><td>8.239847969593919</td><td>41.44788957791558</td><td>0.49439078651859153</td><td>2.4868729136238286</td><td>3.4132826565313064</td><td>18.4498899779956</td><td>3.6641076332790146</td><td>2.053876959768764</td><td>317.088848104821</td><td>20.015865447667036</td><td>23.14234165807024</td><td>633.7808017661532</td><td>19.263970169525265</td><td>22.766394018999357</td><td>19.25209376411064</td><td>20.09047</td><td>19.95237</td><td>19.93882</td><td>19.232763</td><td>19.04159</td><td>18.934395</td><td>18.821438</td><td>-20.935963</td><td>-21.074062</td><td>-21.087612</td><td>-21.793669</td><td>-21.984842</td><td>-22.092037</td><td>-22.204994</td><td>0.308</td><td>9.3889264e-07</td><td>3.923905e-09</td><td>5.515648e-08</td><td>1.1753605e-07</td><td>4.4626688e-08</td></tr>\n",
       "<tr><td>521</td><td>3.605426412572937</td><td>-30.384840263465176</td><td>20.770354070814165</td><td>7.914982996599321</td><td>41.54070814162833</td><td>0.4748988917525943</td><td>2.4924420264141136</td><td>3.4596919383876776</td><td>18.589117823564713</td><td>3.651106752605707</td><td>2.033156167540956</td><td>276.7279168581716</td><td>20.163685433885593</td><td>23.21625165117952</td><td>554.5172361586317</td><td>19.40903024360295</td><td>22.8389240560382</td><td>19.27404068542421</td><td>20.198128</td><td>20.061663</td><td>20.057333</td><td>19.39895</td><td>19.216097</td><td>19.11237</td><td>19.002565</td><td>-20.828304</td><td>-20.96477</td><td>-20.969099</td><td>-21.627481</td><td>-21.810335</td><td>-21.914062</td><td>-22.023867</td><td>0.308</td><td>7.836444e-07</td><td>3.5264778e-09</td><td>4.6679805e-08</td><td>9.488775e-08</td><td>4.5453284e-08</td></tr>\n",
       "<tr><td>270</td><td>3.5959371261113637</td><td>-30.406199607176312</td><td>20.491898379675938</td><td>8.239847969593919</td><td>40.983796759351875</td><td>0.49439078651859153</td><td>2.459027349672404</td><td>3.1348269653930787</td><td>20.120624124824964</td><td>4.037139370914254</td><td>2.758197041469783</td><td>213.69101985277055</td><td>20.44435218906157</td><td>23.35658502876751</td><td>427.3512380108022</td><td>19.69185545241859</td><td>22.980336660446017</td><td>19.645591231151656</td><td>20.490889</td><td>20.345867</td><td>20.337383</td><td>19.693394</td><td>19.514809</td><td>19.413195</td><td>19.305317</td><td>-20.535543</td><td>-20.680565</td><td>-20.689049</td><td>-21.333038</td><td>-21.511623</td><td>-21.613237</td><td>-21.721115</td><td>0.308</td><td>5.848476e-07</td><td>2.651997e-09</td><td>3.5830084e-08</td><td>7.406e-08</td><td>3.943336e-08</td></tr>\n",
       "<tr><td>468</td><td>3.590338806319776</td><td>-30.39093580640576</td><td>14.505101020204041</td><td>5.73374674934987</td><td>29.010202040408082</td><td>0.3440247411808985</td><td>1.7406117997256483</td><td>2.4386877375475096</td><td>11.581316263252651</td><td>3.3830086349934865</td><td>1.6514684459873104</td><td>216.71591718083616</td><td>20.429090842943424</td><td>23.348954355708436</td><td>434.1545523788758</td><td>19.674706970401704</td><td>22.971762419437574</td><td>18.770030118148334</td><td>20.378563</td><td>20.25771</td><td>20.275764</td><td>19.68751</td><td>19.516077</td><td>19.416512</td><td>19.310398</td><td>-20.64787</td><td>-20.768723</td><td>-20.750668</td><td>-21.338923</td><td>-21.510355</td><td>-21.60992</td><td>-21.716034</td><td>0.308</td><td>5.8035835e-07</td><td>3.027939e-09</td><td>3.7472994e-08</td><td>7.631375e-08</td><td>3.517678e-08</td></tr>\n",
       "<tr><td>182</td><td>3.588145039088445</td><td>-30.385002695429606</td><td>20.399079815963194</td><td>8.239847969593919</td><td>40.79815963192639</td><td>0.49439078651859153</td><td>2.447889124091834</td><td>3.691738347669534</td><td>18.07861572314463</td><td>3.449671303854557</td><td>1.739054132242638</td><td>212.7230400640128</td><td>20.449281541098394</td><td>23.359049704785917</td><td>425.3003172280456</td><td>19.697078601846286</td><td>22.982948235159864</td><td>19.546538801952437</td><td>20.362888</td><td>20.246815</td><td>20.274286</td><td>19.725552</td><td>19.561369</td><td>19.464672</td><td>19.361164</td><td>-20.663544</td><td>-20.779617</td><td>-20.752146</td><td>-21.30088</td><td>-21.465063</td><td>-21.56176</td><td>-21.665268</td><td>0.308</td><td>5.4726763e-07</td><td>3.0754999e-09</td><td>3.6499255e-08</td><td>7.303631e-08</td><td>3.623492e-08</td></tr>\n",
       "<tr><td>255</td><td>3.5917322431481624</td><td>-30.40782039891801</td><td>13.159231846369273</td><td>5.316063212642529</td><td>26.318463692738547</td><td>0.31896373362461633</td><td>1.5791075288073853</td><td>2.3922784556911383</td><td>12.091818363672735</td><td>3.5183994284967306</td><td>1.834078720097097</td><td>157.986779674935</td><td>20.772266001632367</td><td>23.520541935052908</td><td>316.18550434987</td><td>20.018962979349887</td><td>23.143890423911667</td><td>18.941182171380483</td><td>20.712723</td><td>20.593103</td><td>20.613503</td><td>20.035706</td><td>19.866438</td><td>19.7677</td><td>19.66231</td><td>-20.31371</td><td>-20.433329</td><td>-20.41293</td><td>-20.990726</td><td>-21.159994</td><td>-21.258732</td><td>-21.364122</td><td>0.308</td><td>4.174122e-07</td><td>2.2291289e-09</td><td>2.7869309e-08</td><td>5.7958705e-08</td><td>2.5383823e-08</td></tr>\n",
       "<tr><td>...</td><td>...</td><td>...</td><td>...</td><td>...</td><td>...</td><td>...</td><td>...</td><td>...</td><td>...</td><td>...</td><td>...</td><td>...</td><td>...</td><td>...</td><td>...</td><td>...</td><td>...</td><td>...</td><td>...</td><td>...</td><td>...</td><td>...</td><td>...</td><td>...</td><td>...</td><td>...</td><td>...</td><td>...</td><td>...</td><td>...</td><td>...</td><td>...</td><td>...</td><td>...</td><td>...</td><td>...</td><td>...</td><td>...</td></tr>\n",
       "<tr><td>88</td><td>3.5728089809960175</td><td>-30.40053305990769</td><td>9.307261452290458</td><td>3.7381476295259053</td><td>18.614522904580916</td><td>0.22428881618977253</td><td>1.1168711672137364</td><td>1.835367073414683</td><td>7.682936587317464</td><td>3.109021562466767</td><td>1.3287270766421093</td><td>41.171403646929384</td><td>22.23232868460103</td><td>24.25057327653724</td><td>82.7128608929786</td><td>21.474885262046833</td><td>23.871851565260137</td><td>19.612363876805443</td><td>22.139687</td><td>22.028954</td><td>22.057686</td><td>21.49066</td><td>21.322111</td><td>21.22326</td><td>21.117716</td><td>-18.886745</td><td>-18.997478</td><td>-18.968746</td><td>-19.535772</td><td>-19.70432</td><td>-19.803171</td><td>-19.908716</td><td>0.308</td><td>1.09543166e-07</td><td>6.0641187e-10</td><td>7.449736e-09</td><td>1.5613535e-08</td><td>5.9860343e-09</td></tr>\n",
       "<tr><td>216</td><td>3.578470183195068</td><td>-30.3813167315458</td><td>11.070814162832567</td><td>4.434286857371474</td><td>22.141628325665135</td><td>0.2660571621169095</td><td>1.3284974532445637</td><td>2.1138227645529106</td><td>9.35367073414683</td><td>3.2295675361612175</td><td>1.464272963572649</td><td>44.88012790718143</td><td>22.13868265352921</td><td>24.20375026100133</td><td>90.73114506321264</td><td>21.374426888770145</td><td>23.821622378621793</td><td>19.72095537700591</td><td>21.848452</td><td>21.766708</td><td>21.842394</td><td>21.45776</td><td>21.32399</td><td>21.238394</td><td>21.144876</td><td>-19.17798</td><td>-19.259724</td><td>-19.184038</td><td>-19.568672</td><td>-19.702442</td><td>-19.788038</td><td>-19.881556</td><td>0.308</td><td>1.0124392e-07</td><td>8.0889745e-10</td><td>8.2893346e-09</td><td>1.6809842e-08</td><td>6.910621e-09</td></tr>\n",
       "<tr><td>435</td><td>3.6026877789531024</td><td>-30.39757752475425</td><td>19.51730346069214</td><td>7.404480896179236</td><td>39.03460692138428</td><td>0.44426877140602716</td><td>2.342075981076421</td><td>3.0884176835367074</td><td>15.386877375475095</td><td>3.4870723113389275</td><td>1.7901360104345525</td><td>43.66875769413883</td><td>22.168390775678027</td><td>24.218604322075738</td><td>87.32398559771954</td><td>21.41598399512041</td><td>23.842400931796927</td><td>20.912007293111124</td><td>21.928541</td><td>21.844406</td><td>21.911802</td><td>21.475334</td><td>21.329811</td><td>21.23932</td><td>21.14129</td><td>-19.09789</td><td>-19.182026</td><td>-19.11463</td><td>-19.551098</td><td>-19.69662</td><td>-19.787111</td><td>-19.885141</td><td>0.308</td><td>1.0399061e-07</td><td>7.532244e-10</td><td>8.024831e-09</td><td>1.6413633e-08</td><td>5.99745e-09</td></tr>\n",
       "<tr><td>480</td><td>3.578348023131543</td><td>-30.38945869728274</td><td>17.568113622724546</td><td>7.3116623324664936</td><td>35.13622724544909</td><td>0.4386996586157422</td><td>2.108173243884454</td><td>3.4132826565313064</td><td>14.690738147629526</td><td>3.169356818902243</td><td>1.3954117766848908</td><td>44.79669299639928</td><td>22.14070298227421</td><td>24.204760425373827</td><td>89.73073654970995</td><td>21.386464786854773</td><td>23.82764132766411</td><td>20.83855237170411</td><td>21.892014</td><td>21.798344</td><td>21.864689</td><td>21.479284</td><td>21.347446</td><td>21.263538</td><td>21.171757</td><td>-19.134418</td><td>-19.228088</td><td>-19.161743</td><td>-19.547148</td><td>-19.678986</td><td>-19.762894</td><td>-19.854675</td><td>0.308</td><td>9.790204e-08</td><td>7.6129353e-10</td><td>7.563642e-09</td><td>1.4236714e-08</td><td>8.638755e-09</td></tr>\n",
       "<tr><td>71</td><td>3.5948264810465203</td><td>-30.402140007796714</td><td>13.948189637927586</td><td>6.2906581316263255</td><td>27.89637927585517</td><td>0.37743941792260804</td><td>1.673782446242229</td><td>3.042008401680336</td><td>12.97359471894379</td><td>3.1494995886305457</td><td>1.3732152000225737</td><td>40.30940919383877</td><td>22.255301786371394</td><td>24.26205982742242</td><td>80.8376616295259</td><td>21.49978351272604</td><td>23.88430069059974</td><td>20.73922609942122</td><td>22.161646</td><td>22.025618</td><td>22.049036</td><td>21.580261</td><td>21.437325</td><td>21.350891</td><td>21.256996</td><td>-18.864786</td><td>-19.000814</td><td>-18.977396</td><td>-19.44617</td><td>-19.589108</td><td>-19.67554</td><td>-19.769436</td><td>0.308</td><td>9.013543e-08</td><td>5.604923e-10</td><td>6.3117747e-09</td><td>1.1974187e-08</td><td>1.03143805e-08</td></tr>\n",
       "<tr><td>87</td><td>3.596757605417433</td><td>-30.400512562908034</td><td>11.48849769953991</td><td>4.759151830366074</td><td>22.97699539907982</td><td>0.28554905688290677</td><td>1.3786194683571282</td><td>2.2994598919783957</td><td>9.817763552710542</td><td>3.151933648268483</td><td>1.3759226528327484</td><td>33.226103821764355</td><td>22.46511932402732</td><td>24.366968596250384</td><td>66.63166701540308</td><td>21.709616171618038</td><td>23.98921702004574</td><td>20.415057375687045</td><td>22.449171</td><td>22.307281</td><td>22.312645</td><td>21.745531</td><td>21.582159</td><td>21.48695</td><td>21.384901</td><td>-18.577261</td><td>-18.71915</td><td>-18.713787</td><td>-19.280901</td><td>-19.444273</td><td>-19.539482</td><td>-19.641531</td><td>0.308</td><td>8.344234e-08</td><td>4.33448e-10</td><td>5.5358025e-09</td><td>1.12879786e-08</td><td>7.1255988e-09</td></tr>\n",
       "<tr><td>239</td><td>3.5897208750192227</td><td>-30.41022450967593</td><td>16.63992798559712</td><td>6.42988597719544</td><td>33.27985597119424</td><td>0.38579308710803545</td><td>1.9967909880787549</td><td>2.670734146829366</td><td>13.948189637927586</td><td>3.5894359210434152</td><td>1.9379142749849483</td><td>34.43093863612723</td><td>22.426445712602405</td><td>24.347631790537925</td><td>68.83204215983197</td><td>21.674341231688143</td><td>23.971579550080794</td><td>20.934350767388604</td><td>22.311653</td><td>22.173206</td><td>22.201246</td><td>21.780922</td><td>21.649506</td><td>21.568466</td><td>21.479729</td><td>-18.714779</td><td>-18.853226</td><td>-18.825186</td><td>-19.24551</td><td>-19.376926</td><td>-19.457966</td><td>-19.546703</td><td>0.308</td><td>7.160264e-08</td><td>4.812407e-10</td><td>4.9074806e-09</td><td>8.496312e-09</td><td>1.0087423e-08</td></tr>\n",
       "<tr><td>388</td><td>3.5843493859048654</td><td>-30.391771036930436</td><td>12.323864772954591</td><td>5.640928185637128</td><td>24.647729545909183</td><td>0.33845562839061355</td><td>1.4788634985822566</td><td>2.6243248649729947</td><td>13.34486897379476</td><td>3.5314835936243876</td><td>1.8527574688174695</td><td>26.77778424324865</td><td>22.699381273484565</td><td>24.484099570979005</td><td>53.73107352790558</td><td>21.94325407420842</td><td>24.106035971340933</td><td>20.90133276225703</td><td>22.518696</td><td>22.424452</td><td>22.47633</td><td>21.9823</td><td>21.825932</td><td>21.731417</td><td>21.62976</td><td>-18.507736</td><td>-18.60198</td><td>-18.550102</td><td>-19.044132</td><td>-19.2005</td><td>-19.295015</td><td>-19.396671</td><td>0.308</td><td>6.739044e-08</td><td>4.3384452e-10</td><td>4.871871e-09</td><td>9.957869e-09</td><td>3.752059e-09</td></tr>\n",
       "<tr><td>440</td><td>3.5928690137357884</td><td>-30.396356290836057</td><td>12.60232046409282</td><td>4.898379675935187</td><td>25.20464092818564</td><td>0.2939027260683341</td><td>1.5122781753239665</td><td>2.206641328265653</td><td>11.024404880976196</td><td>3.493117034338758</td><td>1.7985310152358789</td><td>27.493940128625724</td><td>22.670725411962188</td><td>24.469771640217814</td><td>54.917688970394074</td><td>21.91953723572348</td><td>24.094177552098465</td><td>20.499392683137636</td><td>22.407719</td><td>22.329002</td><td>22.403362</td><td>21.983566</td><td>21.839602</td><td>21.749575</td><td>21.65206</td><td>-18.618713</td><td>-18.69743</td><td>-18.62307</td><td>-19.042866</td><td>-19.18683</td><td>-19.276857</td><td>-19.374372</td><td>0.308</td><td>6.5511784e-08</td><td>4.855222e-10</td><td>4.6788573e-09</td><td>8.614659e-09</td><td>3.96128e-09</td></tr>\n",
       "<tr><td>511</td><td>3.573668079111182</td><td>-30.385653373672362</td><td>13.066413282656532</td><td>5.780156031206241</td><td>26.132826565313064</td><td>0.3468092975760409</td><td>1.5679693032268156</td><td>2.7635527105421085</td><td>10.83876775355071</td><td>2.967560790461936</td><td>1.180711508945956</td><td>27.63045302480496</td><td>22.665347854466635</td><td>24.46708286147004</td><td>55.31017763492699</td><td>21.91180523532961</td><td>24.090311551901525</td><td>20.94460555368828</td><td>22.549116</td><td>22.41478</td><td>22.444069</td><td>22.008087</td><td>21.871613</td><td>21.788134</td><td>21.697124</td><td>-18.477316</td><td>-18.611652</td><td>-18.582363</td><td>-19.018345</td><td>-19.15482</td><td>-19.238298</td><td>-19.329308</td><td>0.308</td><td>5.968603e-08</td><td>3.896217e-10</td><td>3.851434e-09</td><td>6.389994e-09</td><td>7.796422e-09</td></tr>\n",
       "</table>"
      ],
      "text/plain": [
       "<Table length=49>\n",
       "  id          ra         ... kcorrect_constant_4 kcorrect_constant_5\n",
       "int64      float64       ...       float32             float32      \n",
       "----- ------------------ ... ------------------- -------------------\n",
       "  405 3.5784463234068986 ...        1.719883e-07        7.408904e-08\n",
       "  376 3.5851880600713524 ...       1.4971886e-07       4.5766182e-08\n",
       "  469   3.58918720358872 ...       1.2316966e-07        6.389832e-08\n",
       "  486   3.58918326540813 ...       1.1055044e-07        6.685424e-08\n",
       "  351 3.5821654005227455 ...       1.1753605e-07       4.4626688e-08\n",
       "  521  3.605426412572937 ...        9.488775e-08       4.5453284e-08\n",
       "  270 3.5959371261113637 ...           7.406e-08        3.943336e-08\n",
       "  468  3.590338806319776 ...        7.631375e-08        3.517678e-08\n",
       "  182  3.588145039088445 ...        7.303631e-08        3.623492e-08\n",
       "  255 3.5917322431481624 ...       5.7958705e-08       2.5383823e-08\n",
       "  ...                ... ...                 ...                 ...\n",
       "   88 3.5728089809960175 ...       1.5613535e-08       5.9860343e-09\n",
       "  216  3.578470183195068 ...       1.6809842e-08        6.910621e-09\n",
       "  435 3.6026877789531024 ...       1.6413633e-08         5.99745e-09\n",
       "  480  3.578348023131543 ...       1.4236714e-08        8.638755e-09\n",
       "   71 3.5948264810465203 ...       1.1974187e-08      1.03143805e-08\n",
       "   87  3.596757605417433 ...      1.12879786e-08       7.1255988e-09\n",
       "  239 3.5897208750192227 ...        8.496312e-09       1.0087423e-08\n",
       "  388 3.5843493859048654 ...        9.957869e-09        3.752059e-09\n",
       "  440 3.5928690137357884 ...        8.614659e-09         3.96128e-09\n",
       "  511  3.573668079111182 ...        6.389994e-09        7.796422e-09"
      ]
     },
     "execution_count": 28,
     "metadata": {},
     "output_type": "execute_result"
    }
   ],
   "source": [
    "lcbg_catalog"
   ]
  },
  {
   "cell_type": "markdown",
   "metadata": {},
   "source": [
    "# Save Catalog"
   ]
  },
  {
   "cell_type": "code",
   "execution_count": 29,
   "metadata": {},
   "outputs": [],
   "source": [
    "final_catalog.write(output_catalog_filename, format=\"ascii.csv\", overwrite=True)\n",
    "lcbg_catalog.write(output_lcbg_catalog_filename, format=\"ascii.csv\", overwrite=True)"
   ]
  },
  {
   "cell_type": "markdown",
   "metadata": {},
   "source": [
    "# Plots"
   ]
  },
  {
   "cell_type": "markdown",
   "metadata": {},
   "source": [
    "### Plot B-V vs M<sub>b</sub> "
   ]
  },
  {
   "cell_type": "code",
   "execution_count": 30,
   "metadata": {},
   "outputs": [
    {
     "data": {
      "text/plain": [
       "<matplotlib.legend.Legend at 0x7f913112f910>"
      ]
     },
     "execution_count": 30,
     "metadata": {},
     "output_type": "execute_result"
    },
    {
     "data": {
      "image/png": "[encoded data removed]",
      "text/plain": [
       "<Figure size 864x864 with 1 Axes>"
      ]
     },
     "metadata": {
      "needs_background": "light"
     },
     "output_type": "display_data"
    }
   ],
   "source": [
    "plt.scatter(M_B, B_minus_V)\n",
    "\n",
    "plt.axvline(-18.5, label='M_B = -18.5', linestyle='--')\n",
    "\n",
    "plt.scatter(M_B[lcbg_mask], B_minus_V[lcbg_mask], label='LCBG Candidates', c='b')\n",
    "\n",
    "plt.xlabel('M_B')\n",
    "plt.ylabel('B-V')\n",
    "\n",
    "plt.xlim(M_B.max(), M_B.min())\n",
    "plt.legend()\n"
   ]
  },
  {
   "cell_type": "markdown",
   "metadata": {},
   "source": [
    "### Plot Surface Brightness Vs B-V"
   ]
  },
  {
   "cell_type": "code",
   "execution_count": 35,
   "metadata": {},
   "outputs": [
    {
     "data": {
      "text/plain": [
       "<matplotlib.legend.Legend at 0x7f913274eee0>"
      ]
     },
     "execution_count": 35,
     "metadata": {},
     "output_type": "execute_result"
    },
    {
     "data": {
      "image/png": "[encoded data removed]",
      "text/plain": [
       "<Figure size 864x864 with 1 Axes>"
      ]
     },
     "metadata": {
      "needs_background": "light"
     },
     "output_type": "display_data"
    }
   ],
   "source": [
    "plt.scatter(B_minus_V, sb)\n",
    "\n",
    "plt.axvline(0.5, label='B-V = 0.5', linestyle='--')\n",
    "plt.axhline(21, label='Surface Brightness = 21', linestyle='--')\n",
    "\n",
    "plt.scatter(B_minus_V[lcbg_mask], sb[lcbg_mask], label='LCBG Candidates', c='b')\n",
    "\n",
    "plt.xlabel('B-V')\n",
    "plt.ylabel('Surface Brightness [mag arcsec -2]')\n",
    "\n",
    "plt.ylim(sb.max(), sb.min())\n",
    "\n",
    "plt.legend()"
   ]
  }
 ],
 "metadata": {
  "kernelspec": {
   "display_name": "Python 3",
   "language": "python",
   "name": "python3"
  },
  "language_info": {
   "codemirror_mode": {
    "name": "ipython",
    "version": 3
   },
   "file_extension": ".py",
   "mimetype": "text/x-python",
   "name": "python",
   "nbconvert_exporter": "python",
   "pygments_lexer": "ipython3",
   "version": "3.8.5"
  }
 },
 "nbformat": 4,
 "nbformat_minor": 2
}
